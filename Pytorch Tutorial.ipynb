{
 "cells": [
  {
   "cell_type": "code",
   "execution_count": 1,
   "id": "680ef617",
   "metadata": {},
   "outputs": [],
   "source": [
    "import torch"
   ]
  },
  {
   "cell_type": "code",
   "execution_count": 2,
   "id": "ffce5681",
   "metadata": {},
   "outputs": [
    {
     "name": "stdout",
     "output_type": "stream",
     "text": [
      "1.10.0\n"
     ]
    }
   ],
   "source": [
    "print(torch.__version__)"
   ]
  },
  {
   "cell_type": "code",
   "execution_count": 3,
   "id": "c1f98c13",
   "metadata": {},
   "outputs": [
    {
     "data": {
      "text/plain": [
       "True"
      ]
     },
     "execution_count": 3,
     "metadata": {},
     "output_type": "execute_result"
    }
   ],
   "source": [
    "torch.cuda.is_available()"
   ]
  },
  {
   "cell_type": "code",
   "execution_count": 4,
   "id": "c4010d55",
   "metadata": {},
   "outputs": [
    {
     "name": "stdout",
     "output_type": "stream",
     "text": [
      "11.3\n"
     ]
    }
   ],
   "source": [
    "print(torch.version.cuda)"
   ]
  },
  {
   "cell_type": "code",
   "execution_count": 5,
   "id": "d3c20767",
   "metadata": {},
   "outputs": [
    {
     "data": {
      "text/plain": [
       "tensor([1, 2, 3])"
      ]
     },
     "execution_count": 5,
     "metadata": {},
     "output_type": "execute_result"
    }
   ],
   "source": [
    "t = torch.tensor([1, 2 ,3])\n",
    "t"
   ]
  },
  {
   "cell_type": "code",
   "execution_count": 6,
   "id": "c6e30b78",
   "metadata": {},
   "outputs": [
    {
     "data": {
      "text/plain": [
       "tensor([1, 2, 3], device='cuda:0')"
      ]
     },
     "execution_count": 6,
     "metadata": {},
     "output_type": "execute_result"
    }
   ],
   "source": [
    "t = t.cuda()\n",
    "t"
   ]
  },
  {
   "cell_type": "code",
   "execution_count": 7,
   "id": "851d8fc3",
   "metadata": {},
   "outputs": [],
   "source": [
    "dd = [\n",
    "    [1, 2, 3],\n",
    "    [4, 5, 6],\n",
    "    [7, 8, 9]\n",
    "]"
   ]
  },
  {
   "cell_type": "code",
   "execution_count": 9,
   "id": "cd9997ce",
   "metadata": {},
   "outputs": [
    {
     "data": {
      "text/plain": [
       "tensor([[1, 2, 3],\n",
       "        [4, 5, 6],\n",
       "        [7, 8, 9]])"
      ]
     },
     "execution_count": 9,
     "metadata": {},
     "output_type": "execute_result"
    }
   ],
   "source": [
    "t = torch.tensor(dd)\n",
    "t"
   ]
  },
  {
   "cell_type": "code",
   "execution_count": 13,
   "id": "e07494d0",
   "metadata": {},
   "outputs": [
    {
     "data": {
      "text/plain": [
       "torch.Tensor"
      ]
     },
     "execution_count": 13,
     "metadata": {},
     "output_type": "execute_result"
    }
   ],
   "source": [
    "type(t)"
   ]
  },
  {
   "cell_type": "code",
   "execution_count": 14,
   "id": "742e7abd",
   "metadata": {},
   "outputs": [
    {
     "data": {
      "text/plain": [
       "torch.Size([3, 3])"
      ]
     },
     "execution_count": 14,
     "metadata": {},
     "output_type": "execute_result"
    }
   ],
   "source": [
    "t.shape"
   ]
  },
  {
   "cell_type": "code",
   "execution_count": 15,
   "id": "088ff108",
   "metadata": {},
   "outputs": [
    {
     "data": {
      "text/plain": [
       "tensor([[1, 2, 3, 4, 5, 6, 7, 8, 9]])"
      ]
     },
     "execution_count": 15,
     "metadata": {},
     "output_type": "execute_result"
    }
   ],
   "source": [
    "t.reshape(1, 9)"
   ]
  },
  {
   "cell_type": "code",
   "execution_count": 17,
   "id": "37d2b424",
   "metadata": {},
   "outputs": [
    {
     "data": {
      "text/plain": [
       "torch.Size([1, 9])"
      ]
     },
     "execution_count": 17,
     "metadata": {},
     "output_type": "execute_result"
    }
   ],
   "source": [
    "t.reshape(1, 9).shape"
   ]
  },
  {
   "cell_type": "code",
   "execution_count": 1,
   "id": "603dca74",
   "metadata": {},
   "outputs": [],
   "source": [
    "#----------------- 8 ------------------------------\n",
    "import torch\n",
    "import numpy as np"
   ]
  },
  {
   "cell_type": "code",
   "execution_count": 2,
   "id": "414ec79f",
   "metadata": {},
   "outputs": [],
   "source": [
    "t = torch.Tensor()"
   ]
  },
  {
   "cell_type": "code",
   "execution_count": 3,
   "id": "612ac94a",
   "metadata": {},
   "outputs": [
    {
     "data": {
      "text/plain": [
       "torch.Tensor"
      ]
     },
     "execution_count": 3,
     "metadata": {},
     "output_type": "execute_result"
    }
   ],
   "source": [
    "type(t)"
   ]
  },
  {
   "cell_type": "code",
   "execution_count": 5,
   "id": "d88ba625",
   "metadata": {},
   "outputs": [
    {
     "name": "stdout",
     "output_type": "stream",
     "text": [
      "torch.float32\n",
      "cpu\n",
      "torch.strided\n"
     ]
    }
   ],
   "source": [
    "print(t.dtype) \n",
    "print(t.device)\n",
    "print(t.layout)"
   ]
  },
  {
   "cell_type": "code",
   "execution_count": 8,
   "id": "a7857def",
   "metadata": {},
   "outputs": [
    {
     "data": {
      "text/plain": [
       "device(type='cuda', index=0)"
      ]
     },
     "execution_count": 8,
     "metadata": {},
     "output_type": "execute_result"
    }
   ],
   "source": [
    "device = torch.device('cuda:0')\n",
    "device"
   ]
  },
  {
   "cell_type": "code",
   "execution_count": 9,
   "id": "e74bab72",
   "metadata": {},
   "outputs": [
    {
     "data": {
      "text/plain": [
       "numpy.ndarray"
      ]
     },
     "execution_count": 9,
     "metadata": {},
     "output_type": "execute_result"
    }
   ],
   "source": [
    "data = np.array([1, 2, 3])\n",
    "type(data)"
   ]
  },
  {
   "cell_type": "code",
   "execution_count": 10,
   "id": "5ce0e1a2",
   "metadata": {},
   "outputs": [
    {
     "data": {
      "text/plain": [
       "tensor([1., 2., 3.])"
      ]
     },
     "execution_count": 10,
     "metadata": {},
     "output_type": "execute_result"
    }
   ],
   "source": [
    "torch.Tensor(data)"
   ]
  },
  {
   "cell_type": "code",
   "execution_count": 11,
   "id": "f470a57a",
   "metadata": {},
   "outputs": [
    {
     "data": {
      "text/plain": [
       "tensor([1, 2, 3])"
      ]
     },
     "execution_count": 11,
     "metadata": {},
     "output_type": "execute_result"
    }
   ],
   "source": [
    "torch.tensor(data)"
   ]
  },
  {
   "cell_type": "code",
   "execution_count": 12,
   "id": "9037a4b4",
   "metadata": {},
   "outputs": [
    {
     "data": {
      "text/plain": [
       "tensor([1, 2, 3])"
      ]
     },
     "execution_count": 12,
     "metadata": {},
     "output_type": "execute_result"
    }
   ],
   "source": [
    "torch.as_tensor(data)"
   ]
  },
  {
   "cell_type": "code",
   "execution_count": 13,
   "id": "9ed796d6",
   "metadata": {},
   "outputs": [
    {
     "data": {
      "text/plain": [
       "tensor([1, 2, 3])"
      ]
     },
     "execution_count": 13,
     "metadata": {},
     "output_type": "execute_result"
    }
   ],
   "source": [
    "torch.from_numpy(data)"
   ]
  },
  {
   "cell_type": "code",
   "execution_count": 14,
   "id": "4f0c23b7",
   "metadata": {},
   "outputs": [
    {
     "data": {
      "text/plain": [
       "tensor([[1., 0.],\n",
       "        [0., 1.]])"
      ]
     },
     "execution_count": 14,
     "metadata": {},
     "output_type": "execute_result"
    }
   ],
   "source": [
    "torch.eye(2)"
   ]
  },
  {
   "cell_type": "code",
   "execution_count": 15,
   "id": "69774f46",
   "metadata": {},
   "outputs": [
    {
     "data": {
      "text/plain": [
       "tensor([[0., 0.],\n",
       "        [0., 0.]])"
      ]
     },
     "execution_count": 15,
     "metadata": {},
     "output_type": "execute_result"
    }
   ],
   "source": [
    "torch.zeros(2, 2)"
   ]
  },
  {
   "cell_type": "code",
   "execution_count": 16,
   "id": "08ec45e4",
   "metadata": {},
   "outputs": [
    {
     "data": {
      "text/plain": [
       "tensor([[1., 1.],\n",
       "        [1., 1.]])"
      ]
     },
     "execution_count": 16,
     "metadata": {},
     "output_type": "execute_result"
    }
   ],
   "source": [
    "torch.ones(2, 2)"
   ]
  },
  {
   "cell_type": "code",
   "execution_count": 17,
   "id": "f4aff355",
   "metadata": {},
   "outputs": [
    {
     "data": {
      "text/plain": [
       "tensor([[0.8268, 0.8936],\n",
       "        [0.0091, 0.3234]])"
      ]
     },
     "execution_count": 17,
     "metadata": {},
     "output_type": "execute_result"
    }
   ],
   "source": [
    "torch.rand(2, 2)"
   ]
  },
  {
   "cell_type": "code",
   "execution_count": 21,
   "id": "08a209f8",
   "metadata": {},
   "outputs": [],
   "source": [
    "#---------------------------9----------------------------------\n",
    "# .Tensor() -> Constructor\n",
    "# .tensor(), .as_tensor(), .from_numpy() -> Factory functions\n",
    "\n",
    "# Factory functions allow usage in a more dynamic manner\n",
    "\n",
    "# .Tensor(), .tensor() -> Not modified with modifications to numpy array from which it was created\n",
    "# .as_tensor(), .from_numpy() -> Modified dynamically\n",
    "\n",
    "# .tensor() [for no memory sharing], .as_tensor() [for memory sharing] usually preferred"
   ]
  },
  {
   "cell_type": "code",
   "execution_count": 22,
   "id": "3a5b00a7",
   "metadata": {},
   "outputs": [
    {
     "data": {
      "text/plain": [
       "torch.float32"
      ]
     },
     "execution_count": 22,
     "metadata": {},
     "output_type": "execute_result"
    }
   ],
   "source": [
    "torch.get_default_dtype()"
   ]
  },
  {
   "cell_type": "code",
   "execution_count": 23,
   "id": "ad333d82",
   "metadata": {},
   "outputs": [],
   "source": [
    "# -------------------------10---------------------------------------\n"
   ]
  },
  {
   "cell_type": "code",
   "execution_count": 25,
   "id": "64ffe891",
   "metadata": {},
   "outputs": [],
   "source": [
    "import torch\n",
    "\n",
    "t = torch.tensor([\n",
    "    [1,1,1,1],\n",
    "    [2,2,2,2],\n",
    "    [3,3,3,3]\n",
    "], dtype = torch.float32)"
   ]
  },
  {
   "cell_type": "code",
   "execution_count": 30,
   "id": "d66d1eee",
   "metadata": {},
   "outputs": [
    {
     "data": {
      "text/plain": [
       "torch.Size([3, 4])"
      ]
     },
     "execution_count": 30,
     "metadata": {},
     "output_type": "execute_result"
    }
   ],
   "source": [
    "t.size()\n",
    "t.shape"
   ]
  },
  {
   "cell_type": "code",
   "execution_count": 31,
   "id": "b0e6fe6e",
   "metadata": {},
   "outputs": [
    {
     "data": {
      "text/plain": [
       "tensor(12)"
      ]
     },
     "execution_count": 31,
     "metadata": {},
     "output_type": "execute_result"
    }
   ],
   "source": [
    "torch.tensor(t.shape).prod()"
   ]
  },
  {
   "cell_type": "code",
   "execution_count": 33,
   "id": "66f147d8",
   "metadata": {},
   "outputs": [
    {
     "data": {
      "text/plain": [
       "12"
      ]
     },
     "execution_count": 33,
     "metadata": {},
     "output_type": "execute_result"
    }
   ],
   "source": [
    "t.numel()"
   ]
  },
  {
   "cell_type": "code",
   "execution_count": 35,
   "id": "17a465d4",
   "metadata": {},
   "outputs": [
    {
     "data": {
      "text/plain": [
       "tensor([[1., 1., 1., 1., 2., 2.],\n",
       "        [2., 2., 3., 3., 3., 3.]])"
      ]
     },
     "execution_count": 35,
     "metadata": {},
     "output_type": "execute_result"
    }
   ],
   "source": [
    "t.reshape(1, 12)\n",
    "t.reshape(2, 6)"
   ]
  },
  {
   "cell_type": "code",
   "execution_count": 36,
   "id": "70c2138c",
   "metadata": {},
   "outputs": [
    {
     "data": {
      "text/plain": [
       "tensor([[1., 1., 1., 1.],\n",
       "        [2., 2., 2., 2.],\n",
       "        [3., 3., 3., 3.]])"
      ]
     },
     "execution_count": 36,
     "metadata": {},
     "output_type": "execute_result"
    }
   ],
   "source": [
    "t.reshape(3,4)"
   ]
  },
  {
   "cell_type": "code",
   "execution_count": 37,
   "id": "67931312",
   "metadata": {},
   "outputs": [
    {
     "data": {
      "text/plain": [
       "tensor([[[1., 1., 1.],\n",
       "         [1., 2., 2.]],\n",
       "\n",
       "        [[2., 2., 3.],\n",
       "         [3., 3., 3.]]])"
      ]
     },
     "execution_count": 37,
     "metadata": {},
     "output_type": "execute_result"
    }
   ],
   "source": [
    "t.reshape(2,2,3)"
   ]
  },
  {
   "cell_type": "code",
   "execution_count": 69,
   "id": "e1251c7d",
   "metadata": {},
   "outputs": [
    {
     "name": "stdout",
     "output_type": "stream",
     "text": [
      "torch.Size([2, 6, 1])\n"
     ]
    }
   ],
   "source": [
    "print(t.reshape(1, 2, 6).squeeze().unsqueeze(dim = 2).shape)"
   ]
  },
  {
   "cell_type": "code",
   "execution_count": 89,
   "id": "52fd16b4",
   "metadata": {},
   "outputs": [],
   "source": [
    "def flatten(t):\n",
    "    return t.reshape(1, -1).squeeze()"
   ]
  },
  {
   "cell_type": "code",
   "execution_count": 92,
   "id": "26d2f619",
   "metadata": {},
   "outputs": [
    {
     "data": {
      "text/plain": [
       "torch.Size([12])"
      ]
     },
     "execution_count": 92,
     "metadata": {},
     "output_type": "execute_result"
    }
   ],
   "source": [
    "flatten(t).shape"
   ]
  },
  {
   "cell_type": "code",
   "execution_count": 93,
   "id": "f3025355",
   "metadata": {},
   "outputs": [],
   "source": [
    "t1 = torch.tensor([[1, 2], [3, 4]])\n",
    "t2 = torch.tensor([[5, 6], [7, 8]])"
   ]
  },
  {
   "cell_type": "code",
   "execution_count": 95,
   "id": "3118dcb9",
   "metadata": {},
   "outputs": [
    {
     "data": {
      "text/plain": [
       "torch.Size([2, 2])"
      ]
     },
     "execution_count": 95,
     "metadata": {},
     "output_type": "execute_result"
    }
   ],
   "source": [
    "t1.shape"
   ]
  },
  {
   "cell_type": "code",
   "execution_count": 96,
   "id": "9e43354b",
   "metadata": {},
   "outputs": [
    {
     "data": {
      "text/plain": [
       "torch.Size([2, 2])"
      ]
     },
     "execution_count": 96,
     "metadata": {},
     "output_type": "execute_result"
    }
   ],
   "source": [
    "t2.shape"
   ]
  },
  {
   "cell_type": "code",
   "execution_count": 100,
   "id": "617b9129",
   "metadata": {},
   "outputs": [
    {
     "data": {
      "text/plain": [
       "tensor([[1, 2],\n",
       "        [3, 4],\n",
       "        [5, 6],\n",
       "        [7, 8]])"
      ]
     },
     "execution_count": 100,
     "metadata": {},
     "output_type": "execute_result"
    }
   ],
   "source": [
    "torch.cat((t1, t2), dim = 0)"
   ]
  },
  {
   "cell_type": "code",
   "execution_count": 101,
   "id": "7714721f",
   "metadata": {},
   "outputs": [
    {
     "data": {
      "text/plain": [
       "tensor([[1, 2, 5, 6],\n",
       "        [3, 4, 7, 8]])"
      ]
     },
     "execution_count": 101,
     "metadata": {},
     "output_type": "execute_result"
    }
   ],
   "source": [
    "torch.cat((t1, t2), dim = 1)"
   ]
  },
  {
   "cell_type": "code",
   "execution_count": 102,
   "id": "10e5227a",
   "metadata": {},
   "outputs": [],
   "source": [
    "# ------------------------------ 11 --------------------------------------------------"
   ]
  },
  {
   "cell_type": "code",
   "execution_count": 103,
   "id": "68c4123b",
   "metadata": {},
   "outputs": [],
   "source": [
    "import torch"
   ]
  },
  {
   "cell_type": "code",
   "execution_count": 105,
   "id": "9a2acca2",
   "metadata": {},
   "outputs": [],
   "source": [
    "t1 = torch.tensor([\n",
    "    [1,1,1,1],\n",
    "    [1,1,1,1],\n",
    "    [1,1,1,1],\n",
    "    [1,1,1,1]\n",
    "])\n",
    "\n",
    "t2 = torch.tensor([\n",
    "    [2,2,2,2],\n",
    "    [2,2,2,2],\n",
    "    [2,2,2,2],\n",
    "    [2,2,2,2]\n",
    "])\n",
    "\n",
    "t3 = torch.tensor([\n",
    "    [3,3,3,3],\n",
    "    [3,3,3,3],\n",
    "    [3,3,3,3],\n",
    "    [3,3,3,3]\n",
    "])"
   ]
  },
  {
   "cell_type": "code",
   "execution_count": 110,
   "id": "cff569f9",
   "metadata": {},
   "outputs": [
    {
     "data": {
      "text/plain": [
       "torch.Size([3, 4, 4])"
      ]
     },
     "execution_count": 110,
     "metadata": {},
     "output_type": "execute_result"
    }
   ],
   "source": [
    "t = torch.stack((t1, t2, t3))\n",
    "t.shape"
   ]
  },
  {
   "cell_type": "code",
   "execution_count": 111,
   "id": "8d9da871",
   "metadata": {},
   "outputs": [],
   "source": [
    "t = t.reshape(3, 1, 4, 4)"
   ]
  },
  {
   "cell_type": "code",
   "execution_count": 113,
   "id": "72876f18",
   "metadata": {},
   "outputs": [
    {
     "data": {
      "text/plain": [
       "torch.Size([3, 16])"
      ]
     },
     "execution_count": 113,
     "metadata": {},
     "output_type": "execute_result"
    }
   ],
   "source": [
    "t.flatten(start_dim = 1).shape"
   ]
  },
  {
   "cell_type": "code",
   "execution_count": 114,
   "id": "8a822bcf",
   "metadata": {},
   "outputs": [
    {
     "data": {
      "text/plain": [
       "tensor([[1, 1, 1, 1, 1, 1, 1, 1, 1, 1, 1, 1, 1, 1, 1, 1],\n",
       "        [2, 2, 2, 2, 2, 2, 2, 2, 2, 2, 2, 2, 2, 2, 2, 2],\n",
       "        [3, 3, 3, 3, 3, 3, 3, 3, 3, 3, 3, 3, 3, 3, 3, 3]])"
      ]
     },
     "execution_count": 114,
     "metadata": {},
     "output_type": "execute_result"
    }
   ],
   "source": [
    "t.flatten(start_dim = 1)"
   ]
  },
  {
   "cell_type": "code",
   "execution_count": 116,
   "id": "dd6c6c11",
   "metadata": {},
   "outputs": [
    {
     "data": {
      "text/plain": [
       "tensor([[1, 1, 1, 1, 1, 1, 1, 1, 1, 1, 1, 1, 1, 1, 1, 1],\n",
       "        [2, 2, 2, 2, 2, 2, 2, 2, 2, 2, 2, 2, 2, 2, 2, 2],\n",
       "        [3, 3, 3, 3, 3, 3, 3, 3, 3, 3, 3, 3, 3, 3, 3, 3]])"
      ]
     },
     "execution_count": 116,
     "metadata": {},
     "output_type": "execute_result"
    }
   ],
   "source": [
    "t.reshape(3, -1)"
   ]
  },
  {
   "cell_type": "code",
   "execution_count": 117,
   "id": "546a8bc3",
   "metadata": {},
   "outputs": [],
   "source": [
    "# ------------------------------ 12 ---------------------------------------------"
   ]
  },
  {
   "cell_type": "code",
   "execution_count": 118,
   "id": "7578a555",
   "metadata": {},
   "outputs": [],
   "source": [
    "t1 = torch.tensor([[1, 2], [3, 4]], dtype = torch.float32)"
   ]
  },
  {
   "cell_type": "code",
   "execution_count": 119,
   "id": "f069b736",
   "metadata": {},
   "outputs": [
    {
     "data": {
      "text/plain": [
       "tensor([[3., 4.],\n",
       "        [5., 6.]])"
      ]
     },
     "execution_count": 119,
     "metadata": {},
     "output_type": "execute_result"
    }
   ],
   "source": [
    "t1 + 2"
   ]
  },
  {
   "cell_type": "code",
   "execution_count": 120,
   "id": "65aac168",
   "metadata": {},
   "outputs": [
    {
     "data": {
      "text/plain": [
       "tensor([[3., 4.],\n",
       "        [5., 6.]])"
      ]
     },
     "execution_count": 120,
     "metadata": {},
     "output_type": "execute_result"
    }
   ],
   "source": [
    "t1 + torch.tensor(np.broadcast_to(2, t1.shape), dtype = torch.float32)"
   ]
  },
  {
   "cell_type": "code",
   "execution_count": 121,
   "id": "49052921",
   "metadata": {},
   "outputs": [],
   "source": [
    "t2 = torch.tensor([2,4], dtype = torch.float32)"
   ]
  },
  {
   "cell_type": "code",
   "execution_count": 123,
   "id": "e39cd301",
   "metadata": {},
   "outputs": [
    {
     "data": {
      "text/plain": [
       "array([[2., 4.],\n",
       "       [2., 4.]], dtype=float32)"
      ]
     },
     "execution_count": 123,
     "metadata": {},
     "output_type": "execute_result"
    }
   ],
   "source": [
    "np.broadcast_to(t2.numpy(), t1.shape)"
   ]
  },
  {
   "cell_type": "code",
   "execution_count": 124,
   "id": "4bacdd72",
   "metadata": {},
   "outputs": [
    {
     "data": {
      "text/plain": [
       "tensor([[3., 6.],\n",
       "        [5., 8.]])"
      ]
     },
     "execution_count": 124,
     "metadata": {},
     "output_type": "execute_result"
    }
   ],
   "source": [
    "t1 + t2"
   ]
  },
  {
   "cell_type": "code",
   "execution_count": 125,
   "id": "b5d5e81e",
   "metadata": {},
   "outputs": [],
   "source": [
    "# ----------------------- 13 ------------------------------------------------------"
   ]
  },
  {
   "cell_type": "code",
   "execution_count": 127,
   "id": "591875a5",
   "metadata": {},
   "outputs": [],
   "source": [
    "t = torch.tensor([\n",
    "    [1,1,1,1],\n",
    "    [2,2,2,2],\n",
    "    [3,3,3,3]\n",
    "], dtype = torch.float32)"
   ]
  },
  {
   "cell_type": "code",
   "execution_count": 128,
   "id": "6ce1cc3f",
   "metadata": {},
   "outputs": [
    {
     "data": {
      "text/plain": [
       "tensor([6., 6., 6., 6.])"
      ]
     },
     "execution_count": 128,
     "metadata": {},
     "output_type": "execute_result"
    }
   ],
   "source": [
    "t.sum(dim = 0)"
   ]
  },
  {
   "cell_type": "code",
   "execution_count": 131,
   "id": "3dab6ba9",
   "metadata": {},
   "outputs": [
    {
     "data": {
      "text/plain": [
       "tensor([ 4.,  8., 12.])"
      ]
     },
     "execution_count": 131,
     "metadata": {},
     "output_type": "execute_result"
    }
   ],
   "source": [
    "t.sum(dim = 1)"
   ]
  },
  {
   "cell_type": "code",
   "execution_count": 132,
   "id": "653767a7",
   "metadata": {},
   "outputs": [
    {
     "data": {
      "text/plain": [
       "torch.return_types.max(\n",
       "values=tensor([3., 3., 3., 3.]),\n",
       "indices=tensor([2, 2, 2, 2]))"
      ]
     },
     "execution_count": 132,
     "metadata": {},
     "output_type": "execute_result"
    }
   ],
   "source": [
    "t.max(dim = 0)"
   ]
  },
  {
   "cell_type": "code",
   "execution_count": 133,
   "id": "cd1fe744",
   "metadata": {},
   "outputs": [
    {
     "data": {
      "text/plain": [
       "tensor([2, 2, 2, 2])"
      ]
     },
     "execution_count": 133,
     "metadata": {},
     "output_type": "execute_result"
    }
   ],
   "source": [
    "t.argmax(dim = 0)"
   ]
  },
  {
   "cell_type": "code",
   "execution_count": 134,
   "id": "3682e790",
   "metadata": {},
   "outputs": [
    {
     "data": {
      "text/plain": [
       "torch.return_types.max(\n",
       "values=tensor([1., 2., 3.]),\n",
       "indices=tensor([0, 0, 0]))"
      ]
     },
     "execution_count": 134,
     "metadata": {},
     "output_type": "execute_result"
    }
   ],
   "source": [
    "t.max(dim = 1)"
   ]
  },
  {
   "cell_type": "code",
   "execution_count": 135,
   "id": "58d30668",
   "metadata": {},
   "outputs": [
    {
     "data": {
      "text/plain": [
       "tensor([0, 0, 0])"
      ]
     },
     "execution_count": 135,
     "metadata": {},
     "output_type": "execute_result"
    }
   ],
   "source": [
    "t.argmax(dim = 1)"
   ]
  },
  {
   "cell_type": "code",
   "execution_count": 137,
   "id": "84429dce",
   "metadata": {},
   "outputs": [
    {
     "data": {
      "text/plain": [
       "[2.0, 2.0, 2.0, 2.0]"
      ]
     },
     "execution_count": 137,
     "metadata": {},
     "output_type": "execute_result"
    }
   ],
   "source": [
    "t.mean(dim = 0).tolist()"
   ]
  },
  {
   "cell_type": "code",
   "execution_count": 138,
   "id": "5151a120",
   "metadata": {},
   "outputs": [
    {
     "data": {
      "text/plain": [
       "array([2., 2., 2., 2.], dtype=float32)"
      ]
     },
     "execution_count": 138,
     "metadata": {},
     "output_type": "execute_result"
    }
   ],
   "source": [
    "t.mean(dim = 0).numpy()"
   ]
  },
  {
   "cell_type": "code",
   "execution_count": 139,
   "id": "8397c265",
   "metadata": {},
   "outputs": [],
   "source": [
    "# ----------------------------------14---------------------------------------------"
   ]
  },
  {
   "cell_type": "code",
   "execution_count": 141,
   "id": "39781bb0",
   "metadata": {},
   "outputs": [],
   "source": [
    "# ----------------------------------15----------------------------------------------"
   ]
  },
  {
   "cell_type": "code",
   "execution_count": 2,
   "id": "aedaab1f",
   "metadata": {},
   "outputs": [],
   "source": [
    "import torch\n",
    "import torchvision\n",
    "import torchvision.transforms as transforms"
   ]
  },
  {
   "cell_type": "code",
   "execution_count": 3,
   "id": "67d14bd9",
   "metadata": {},
   "outputs": [],
   "source": [
    "train_set = torchvision.datasets.FashionMNIST(\n",
    "            root = './data/FashionMNIST',\n",
    "            train = True,\n",
    "            download = True,\n",
    "            transform = transforms.Compose([\n",
    "                transforms.ToTensor()\n",
    "            ])\n",
    ")"
   ]
  },
  {
   "cell_type": "code",
   "execution_count": 4,
   "id": "09e57786",
   "metadata": {},
   "outputs": [],
   "source": [
    "train_loader = torch.utils.data.DataLoader(train_set, batch_size = 10)"
   ]
  },
  {
   "cell_type": "code",
   "execution_count": 5,
   "id": "0b8282d1",
   "metadata": {},
   "outputs": [],
   "source": [
    "import numpy as np\n",
    "import matplotlib.pyplot as plt"
   ]
  },
  {
   "cell_type": "code",
   "execution_count": 6,
   "id": "98eb3842",
   "metadata": {},
   "outputs": [],
   "source": [
    "sample = next(iter(train_set))"
   ]
  },
  {
   "cell_type": "code",
   "execution_count": 7,
   "id": "9aef0a3f",
   "metadata": {},
   "outputs": [
    {
     "data": {
      "text/plain": [
       "2"
      ]
     },
     "execution_count": 7,
     "metadata": {},
     "output_type": "execute_result"
    }
   ],
   "source": [
    "len(sample)"
   ]
  },
  {
   "cell_type": "code",
   "execution_count": 8,
   "id": "8c666b76",
   "metadata": {},
   "outputs": [
    {
     "data": {
      "text/plain": [
       "tuple"
      ]
     },
     "execution_count": 8,
     "metadata": {},
     "output_type": "execute_result"
    }
   ],
   "source": [
    "type(sample)"
   ]
  },
  {
   "cell_type": "code",
   "execution_count": 9,
   "id": "fdfe1caa",
   "metadata": {},
   "outputs": [],
   "source": [
    "image, label = sample"
   ]
  },
  {
   "cell_type": "code",
   "execution_count": 10,
   "id": "d4fc3fa6",
   "metadata": {},
   "outputs": [
    {
     "data": {
      "text/plain": [
       "torch.Size([1, 28, 28])"
      ]
     },
     "execution_count": 10,
     "metadata": {},
     "output_type": "execute_result"
    }
   ],
   "source": [
    "image.shape"
   ]
  },
  {
   "cell_type": "code",
   "execution_count": 13,
   "id": "98ba9b91",
   "metadata": {},
   "outputs": [
    {
     "name": "stdout",
     "output_type": "stream",
     "text": [
      "label :  9\n"
     ]
    },
    {
     "data": {
      "image/png": "[encoded data removed]",
      "text/plain": [
       "<Figure size 432x288 with 1 Axes>"
      ]
     },
     "metadata": {
      "needs_background": "light"
     },
     "output_type": "display_data"
    }
   ],
   "source": [
    "plt.imshow(image.squeeze(), cmap = 'gray')\n",
    "print(\"label : \", label)"
   ]
  },
  {
   "cell_type": "code",
   "execution_count": 14,
   "id": "0ac18583",
   "metadata": {},
   "outputs": [],
   "source": [
    "batch = next(iter(train_loader))"
   ]
  },
  {
   "cell_type": "code",
   "execution_count": 15,
   "id": "3097b1a4",
   "metadata": {},
   "outputs": [
    {
     "data": {
      "text/plain": [
       "2"
      ]
     },
     "execution_count": 15,
     "metadata": {},
     "output_type": "execute_result"
    }
   ],
   "source": [
    "len(batch)"
   ]
  },
  {
   "cell_type": "code",
   "execution_count": 16,
   "id": "a0fa7100",
   "metadata": {},
   "outputs": [],
   "source": [
    "images, labels = batch"
   ]
  },
  {
   "cell_type": "code",
   "execution_count": 17,
   "id": "ff505152",
   "metadata": {},
   "outputs": [
    {
     "data": {
      "text/plain": [
       "torch.Size([10, 1, 28, 28])"
      ]
     },
     "execution_count": 17,
     "metadata": {},
     "output_type": "execute_result"
    }
   ],
   "source": [
    "images.shape"
   ]
  },
  {
   "cell_type": "code",
   "execution_count": 18,
   "id": "6f008caf",
   "metadata": {},
   "outputs": [
    {
     "data": {
      "text/plain": [
       "torch.Size([10])"
      ]
     },
     "execution_count": 18,
     "metadata": {},
     "output_type": "execute_result"
    }
   ],
   "source": [
    "labels.shape"
   ]
  },
  {
   "cell_type": "code",
   "execution_count": 23,
   "id": "3019bd85",
   "metadata": {},
   "outputs": [
    {
     "name": "stdout",
     "output_type": "stream",
     "text": [
      "labels :  tensor([9, 0, 0, 3, 0, 2, 7, 2, 5, 5])\n"
     ]
    },
    {
     "data": {
      "image/png": "[encoded data removed]",
      "text/plain": [
       "<Figure size 1080x1080 with 1 Axes>"
      ]
     },
     "metadata": {
      "needs_background": "light"
     },
     "output_type": "display_data"
    }
   ],
   "source": [
    "grid = torchvision.utils.make_grid(images, nrow = 10)\n",
    "plt.figure(figsize = (15, 15))\n",
    "plt.imshow(np.transpose(grid, (1, 2, 0)))\n",
    "\n",
    "print(\"labels : \", labels)"
   ]
  },
  {
   "cell_type": "code",
   "execution_count": 25,
   "id": "1ed59188",
   "metadata": {},
   "outputs": [],
   "source": [
    "# -------------------------------- 17 ---------------------------------------------"
   ]
  },
  {
   "cell_type": "code",
   "execution_count": 42,
   "id": "499f280f",
   "metadata": {},
   "outputs": [],
   "source": [
    "import torch.nn as nn\n",
    "import torch.nn.functional as F"
   ]
  },
  {
   "cell_type": "code",
   "execution_count": 44,
   "id": "3f3b20fd",
   "metadata": {},
   "outputs": [],
   "source": [
    "class Network(nn.Module):\n",
    "    def __init__(self):\n",
    "        super(Network, self).__init__()\n",
    "        self.conv1 = nn.Conv2d(in_channels = 1, out_channels = 6, kernel_size = 5)\n",
    "        self.conv2 = nn.Conv2d(in_channels = 6, out_channels = 12, kernel_size = 5)\n",
    "        \n",
    "        self.fc1 = nn.Linear(in_features = 12*4*4, out_features = 120)\n",
    "        self.fc2 = nn.Linear(in_features = 120, out_features = 60)\n",
    "        self.out = nn.Linear(in_features = 60, out_features = 10)\n",
    "    \n",
    "    def forward (self, t):\n",
    "        \n",
    "        t = self.conv1(t)\n",
    "        t = F.relu(t)\n",
    "        t = F.max_pool2d(t, kernel_size = 2, stride = 2)\n",
    "        \n",
    "        t = self.conv2(t)\n",
    "        t = F.relu(t)\n",
    "        t = F.max_pool2d(t, kernel_size = 2, stride = 2)\n",
    "        \n",
    "        t = t.reshape(-1, 12 * 4 * 4)\n",
    "        t = self.fc1(t)\n",
    "        t = F.relu(t)\n",
    "        \n",
    "        t = self.fc2(t)\n",
    "        t = F.relu(t)\n",
    "        \n",
    "        t = self.out(t)\n",
    "        \n",
    "        return t"
   ]
  },
  {
   "cell_type": "code",
   "execution_count": 31,
   "id": "5862d2ff",
   "metadata": {},
   "outputs": [
    {
     "data": {
      "text/plain": [
       "Network(\n",
       "  (conv1): Conv2d(1, 6, kernel_size=(5, 5), stride=(1, 1))\n",
       "  (conv2): Conv2d(6, 12, kernel_size=(5, 5), stride=(1, 1))\n",
       "  (fc1): Linear(in_features=192, out_features=120, bias=True)\n",
       "  (fc2): Linear(in_features=120, out_features=60, bias=True)\n",
       "  (out): Linear(in_features=60, out_features=10, bias=True)\n",
       ")"
      ]
     },
     "execution_count": 31,
     "metadata": {},
     "output_type": "execute_result"
    }
   ],
   "source": [
    "network = Network()\n",
    "network"
   ]
  },
  {
   "cell_type": "code",
   "execution_count": 32,
   "id": "26856310",
   "metadata": {},
   "outputs": [],
   "source": [
    "# ------------------------------- 18 -----------------------------------------------"
   ]
  },
  {
   "cell_type": "code",
   "execution_count": 33,
   "id": "09d7b80b",
   "metadata": {},
   "outputs": [],
   "source": [
    "# ------------------------------- 19 -----------------------------------------------"
   ]
  },
  {
   "cell_type": "code",
   "execution_count": 34,
   "id": "45e368d0",
   "metadata": {},
   "outputs": [
    {
     "data": {
      "text/plain": [
       "Parameter containing:\n",
       "tensor([[[[ 0.1994, -0.1991, -0.1788, -0.0174, -0.0089],\n",
       "          [-0.1883,  0.0093,  0.0898, -0.1274, -0.0141],\n",
       "          [ 0.1841,  0.1514, -0.1550, -0.1338, -0.0129],\n",
       "          [ 0.1187,  0.0321,  0.0338,  0.0312,  0.0246],\n",
       "          [-0.0875, -0.0322, -0.1330, -0.0099,  0.1854]]],\n",
       "\n",
       "\n",
       "        [[[-0.1227, -0.1433,  0.1084, -0.0670, -0.0935],\n",
       "          [-0.1125,  0.1639,  0.1680,  0.0406,  0.0508],\n",
       "          [-0.1725,  0.0073, -0.0074, -0.0668,  0.1208],\n",
       "          [-0.0494,  0.0596,  0.1354,  0.1296,  0.1115],\n",
       "          [ 0.0744,  0.1254,  0.1294,  0.1110, -0.1868]]],\n",
       "\n",
       "\n",
       "        [[[-0.0950,  0.0489, -0.0566, -0.1344,  0.0085],\n",
       "          [-0.0111, -0.1848, -0.0748, -0.1325,  0.0862],\n",
       "          [-0.1517, -0.0161, -0.0435,  0.0598,  0.0825],\n",
       "          [ 0.0575,  0.1501,  0.0842,  0.0304, -0.1846],\n",
       "          [ 0.0927, -0.0534, -0.1900,  0.0548,  0.0017]]],\n",
       "\n",
       "\n",
       "        [[[ 0.0365, -0.1585,  0.0178,  0.1078, -0.0716],\n",
       "          [ 0.1334,  0.0632, -0.0372, -0.1907, -0.1744],\n",
       "          [ 0.1341, -0.0700,  0.0852, -0.1489,  0.0088],\n",
       "          [-0.1413,  0.1372, -0.0695, -0.0224,  0.1769],\n",
       "          [-0.1283, -0.1994, -0.1575, -0.0546, -0.1076]]],\n",
       "\n",
       "\n",
       "        [[[-0.1841, -0.1141,  0.0255,  0.0850,  0.1836],\n",
       "          [-0.1048,  0.1185, -0.0172, -0.1722, -0.1933],\n",
       "          [ 0.0197, -0.0144, -0.1227,  0.0148,  0.1932],\n",
       "          [-0.1895,  0.1260, -0.0300,  0.1104, -0.1620],\n",
       "          [-0.1588, -0.0800, -0.1258, -0.1752, -0.0433]]],\n",
       "\n",
       "\n",
       "        [[[ 0.1197,  0.0213,  0.0182,  0.0701,  0.1389],\n",
       "          [ 0.1204, -0.1225,  0.0191,  0.0130,  0.0208],\n",
       "          [-0.1669,  0.0383, -0.0064,  0.1819, -0.1691],\n",
       "          [ 0.1267, -0.1894,  0.0561, -0.0422, -0.0798],\n",
       "          [-0.0426,  0.1429,  0.0956,  0.0462, -0.0851]]]], requires_grad=True)"
      ]
     },
     "execution_count": 34,
     "metadata": {},
     "output_type": "execute_result"
    }
   ],
   "source": [
    "network.conv1.weight"
   ]
  },
  {
   "cell_type": "code",
   "execution_count": 36,
   "id": "002c6069",
   "metadata": {},
   "outputs": [
    {
     "name": "stdout",
     "output_type": "stream",
     "text": [
      "torch.Size([6, 1, 5, 5])\n",
      "torch.Size([6])\n",
      "torch.Size([12, 6, 5, 5])\n",
      "torch.Size([12])\n",
      "torch.Size([120, 192])\n",
      "torch.Size([120])\n",
      "torch.Size([60, 120])\n",
      "torch.Size([60])\n",
      "torch.Size([10, 60])\n",
      "torch.Size([10])\n"
     ]
    }
   ],
   "source": [
    "for param in network.parameters():\n",
    "    print(param.shape)"
   ]
  },
  {
   "cell_type": "code",
   "execution_count": 38,
   "id": "b79998c7",
   "metadata": {},
   "outputs": [
    {
     "name": "stdout",
     "output_type": "stream",
     "text": [
      "conv1.weight \t\t torch.Size([6, 1, 5, 5])\n",
      "conv1.bias \t\t torch.Size([6])\n",
      "conv2.weight \t\t torch.Size([12, 6, 5, 5])\n",
      "conv2.bias \t\t torch.Size([12])\n",
      "fc1.weight \t\t torch.Size([120, 192])\n",
      "fc1.bias \t\t torch.Size([120])\n",
      "fc2.weight \t\t torch.Size([60, 120])\n",
      "fc2.bias \t\t torch.Size([60])\n",
      "out.weight \t\t torch.Size([10, 60])\n",
      "out.bias \t\t torch.Size([10])\n"
     ]
    }
   ],
   "source": [
    "for name, param in network.named_parameters():\n",
    "    print(name, '\\t\\t', param.shape)"
   ]
  },
  {
   "cell_type": "code",
   "execution_count": 39,
   "id": "6272fa85",
   "metadata": {},
   "outputs": [],
   "source": [
    "# -------------------------------- 20 -----------------------------------"
   ]
  },
  {
   "cell_type": "code",
   "execution_count": 40,
   "id": "0984722c",
   "metadata": {},
   "outputs": [],
   "source": [
    "# -------------------------------- 21 -----------------------------------"
   ]
  },
  {
   "cell_type": "code",
   "execution_count": 41,
   "id": "92aef305",
   "metadata": {},
   "outputs": [],
   "source": [
    "# -------------------------------- 22 -----------------------------------"
   ]
  },
  {
   "cell_type": "code",
   "execution_count": 45,
   "id": "53da7f27",
   "metadata": {},
   "outputs": [],
   "source": [
    "# -------------------------------- 23 -----------------------------------"
   ]
  },
  {
   "cell_type": "code",
   "execution_count": 4,
   "id": "436afb4a",
   "metadata": {},
   "outputs": [],
   "source": [
    "import torch\n",
    "import torch.nn as nn\n",
    "import torch.nn.functional as F\n",
    "\n",
    "import torchvision\n",
    "import torchvision.transforms as transforms\n",
    "\n",
    "torch.set_printoptions(linewidth = 120)"
   ]
  },
  {
   "cell_type": "code",
   "execution_count": 5,
   "id": "1d9cf6c2",
   "metadata": {},
   "outputs": [],
   "source": [
    "train_set = torchvision.datasets.FashionMNIST(\n",
    "            root = './data/FashionMNIST',\n",
    "            train = True,\n",
    "            download = True,\n",
    "            transform = transforms.Compose([\n",
    "                transforms.ToTensor()\n",
    "            ])\n",
    ")"
   ]
  },
  {
   "cell_type": "code",
   "execution_count": 13,
   "id": "6fddde24",
   "metadata": {},
   "outputs": [],
   "source": [
    "class Network(nn.Module):\n",
    "    def __init__(self):\n",
    "        super().__init__()\n",
    "        self.conv1 = nn.Conv2d(in_channels = 1, out_channels = 6,  kernel_size = 5)\n",
    "        self.conv2 = nn.Conv2d(in_channels = 6, out_channels = 12, kernel_size = 5)\n",
    "        \n",
    "        self.fc1 = nn.Linear(in_features = 12 * 4 * 4, out_features = 120)\n",
    "        self.fc2 = nn.Linear(in_features = 120, out_features = 60)\n",
    "        self.out = nn.Linear(in_features = 60, out_features = 10)\n",
    "    \n",
    "    def forward(self, t):\n",
    "        \n",
    "        t = F.relu(self.conv1(t))\n",
    "        t = F.max_pool2d(t, kernel_size = 2, stride = 2)\n",
    "        \n",
    "        t = F.relu(self.conv2(t))\n",
    "        t = F.max_pool2d(t, kernel_size = 2, stride = 2)\n",
    "        \n",
    "        t = F.relu(self.fc1(t.reshape(-1, 12 * 4 * 4)))\n",
    "        t = F.relu(self.fc2(t))\n",
    "        t = self.out(t)\n",
    "        \n",
    "        return t"
   ]
  },
  {
   "cell_type": "code",
   "execution_count": 14,
   "id": "092a0cb2",
   "metadata": {},
   "outputs": [
    {
     "data": {
      "text/plain": [
       "<torch.autograd.grad_mode.set_grad_enabled at 0x7fa8f4f67f10>"
      ]
     },
     "execution_count": 14,
     "metadata": {},
     "output_type": "execute_result"
    }
   ],
   "source": [
    "torch.set_grad_enabled(False)"
   ]
  },
  {
   "cell_type": "code",
   "execution_count": 15,
   "id": "800df637",
   "metadata": {},
   "outputs": [],
   "source": [
    "network = Network()"
   ]
  },
  {
   "cell_type": "code",
   "execution_count": 16,
   "id": "d1e0f2a0",
   "metadata": {},
   "outputs": [],
   "source": [
    "sample = next(iter(train_set))"
   ]
  },
  {
   "cell_type": "code",
   "execution_count": 17,
   "id": "e5203e96",
   "metadata": {},
   "outputs": [
    {
     "data": {
      "text/plain": [
       "torch.Size([1, 28, 28])"
      ]
     },
     "execution_count": 17,
     "metadata": {},
     "output_type": "execute_result"
    }
   ],
   "source": [
    "image, label = sample\n",
    "image.shape"
   ]
  },
  {
   "cell_type": "code",
   "execution_count": 18,
   "id": "167555c4",
   "metadata": {},
   "outputs": [],
   "source": [
    "pred = network(image.unsqueeze(dim = 0))"
   ]
  },
  {
   "cell_type": "code",
   "execution_count": 19,
   "id": "1cf4eb0f",
   "metadata": {},
   "outputs": [
    {
     "data": {
      "text/plain": [
       "tensor([[-0.0628, -0.0417,  0.0725,  0.0831, -0.1456, -0.0173,  0.1037,  0.0705, -0.0975,  0.0971]])"
      ]
     },
     "execution_count": 19,
     "metadata": {},
     "output_type": "execute_result"
    }
   ],
   "source": [
    "pred"
   ]
  },
  {
   "cell_type": "code",
   "execution_count": 20,
   "id": "94e99588",
   "metadata": {},
   "outputs": [],
   "source": [
    "pred_prob = F.softmax(pred, dim = 1)"
   ]
  },
  {
   "cell_type": "code",
   "execution_count": 21,
   "id": "085724aa",
   "metadata": {},
   "outputs": [
    {
     "data": {
      "text/plain": [
       "tensor([[0.0930, 0.0950, 0.1065, 0.1076, 0.0856, 0.0973, 0.1098, 0.1063, 0.0898, 0.1091]])"
      ]
     },
     "execution_count": 21,
     "metadata": {},
     "output_type": "execute_result"
    }
   ],
   "source": [
    "pred_prob"
   ]
  },
  {
   "cell_type": "code",
   "execution_count": 22,
   "id": "b2344d88",
   "metadata": {},
   "outputs": [
    {
     "data": {
      "text/plain": [
       "tensor([6])"
      ]
     },
     "execution_count": 22,
     "metadata": {},
     "output_type": "execute_result"
    }
   ],
   "source": [
    "pred.argmax(dim = 1)"
   ]
  },
  {
   "cell_type": "code",
   "execution_count": 23,
   "id": "fa9875f8",
   "metadata": {},
   "outputs": [
    {
     "data": {
      "text/plain": [
       "9"
      ]
     },
     "execution_count": 23,
     "metadata": {},
     "output_type": "execute_result"
    }
   ],
   "source": [
    "label"
   ]
  },
  {
   "cell_type": "code",
   "execution_count": 24,
   "id": "6edf5e8d",
   "metadata": {},
   "outputs": [],
   "source": [
    "# ------------------------24------------------------------------------"
   ]
  },
  {
   "cell_type": "code",
   "execution_count": 25,
   "id": "256d28ef",
   "metadata": {},
   "outputs": [],
   "source": [
    "data_loader = torch.utils.data.DataLoader(\n",
    "                train_set,\n",
    "                batch_size = 10)"
   ]
  },
  {
   "cell_type": "code",
   "execution_count": 26,
   "id": "09af7421",
   "metadata": {},
   "outputs": [],
   "source": [
    "batch = next(iter(data_loader))"
   ]
  },
  {
   "cell_type": "code",
   "execution_count": 27,
   "id": "63f6cd3f",
   "metadata": {},
   "outputs": [],
   "source": [
    "images, labels = batch"
   ]
  },
  {
   "cell_type": "code",
   "execution_count": 28,
   "id": "4d6f6a70",
   "metadata": {},
   "outputs": [],
   "source": [
    "preds = network(images)"
   ]
  },
  {
   "cell_type": "code",
   "execution_count": 29,
   "id": "9d008c25",
   "metadata": {},
   "outputs": [
    {
     "data": {
      "text/plain": [
       "tensor([[-0.0628, -0.0417,  0.0725,  0.0831, -0.1456, -0.0173,  0.1037,  0.0705, -0.0975,  0.0971],\n",
       "        [-0.0607, -0.0460,  0.0806,  0.0764, -0.1515, -0.0176,  0.1042,  0.0767, -0.1019,  0.0952],\n",
       "        [-0.0607, -0.0442,  0.0787,  0.0862, -0.1426, -0.0143,  0.1024,  0.0711, -0.0936,  0.0881],\n",
       "        [-0.0595, -0.0472,  0.0787,  0.0837, -0.1465, -0.0164,  0.1013,  0.0707, -0.0932,  0.0890],\n",
       "        [-0.0570, -0.0430,  0.0811,  0.0775, -0.1496, -0.0182,  0.0966,  0.0716, -0.1071,  0.0939],\n",
       "        [-0.0638, -0.0461,  0.0731,  0.0774, -0.1467, -0.0188,  0.1052,  0.0749, -0.1056,  0.0962],\n",
       "        [-0.0583, -0.0392,  0.0739,  0.0888, -0.1420, -0.0188,  0.1073,  0.0715, -0.0976,  0.0930],\n",
       "        [-0.0652, -0.0410,  0.0720,  0.0870, -0.1398, -0.0187,  0.1085,  0.0701, -0.1002,  0.0974],\n",
       "        [-0.0571, -0.0389,  0.0721,  0.0829, -0.1442, -0.0193,  0.1019,  0.0705, -0.0974,  0.0891],\n",
       "        [-0.0590, -0.0377,  0.0775,  0.0825, -0.1445, -0.0210,  0.1033,  0.0677, -0.1066,  0.0919]])"
      ]
     },
     "execution_count": 29,
     "metadata": {},
     "output_type": "execute_result"
    }
   ],
   "source": [
    "preds"
   ]
  },
  {
   "cell_type": "code",
   "execution_count": 30,
   "id": "f0b9e2ba",
   "metadata": {},
   "outputs": [
    {
     "data": {
      "text/plain": [
       "tensor([6, 6, 6, 6, 6, 6, 6, 6, 6, 6])"
      ]
     },
     "execution_count": 30,
     "metadata": {},
     "output_type": "execute_result"
    }
   ],
   "source": [
    "preds.argmax(dim = 1)"
   ]
  },
  {
   "cell_type": "code",
   "execution_count": 31,
   "id": "e771e986",
   "metadata": {},
   "outputs": [
    {
     "data": {
      "text/plain": [
       "tensor([9, 0, 0, 3, 0, 2, 7, 2, 5, 5])"
      ]
     },
     "execution_count": 31,
     "metadata": {},
     "output_type": "execute_result"
    }
   ],
   "source": [
    "labels"
   ]
  },
  {
   "cell_type": "code",
   "execution_count": 32,
   "id": "300a937a",
   "metadata": {},
   "outputs": [],
   "source": [
    "def get_num_correct(preds, labels):\n",
    "    return preds.argmax(dim = 1).eq(labels).sum().item()"
   ]
  },
  {
   "cell_type": "code",
   "execution_count": 33,
   "id": "2e42b530",
   "metadata": {},
   "outputs": [
    {
     "data": {
      "text/plain": [
       "0"
      ]
     },
     "execution_count": 33,
     "metadata": {},
     "output_type": "execute_result"
    }
   ],
   "source": [
    "get_num_correct(preds, labels)"
   ]
  },
  {
   "cell_type": "code",
   "execution_count": 34,
   "id": "297cbc89",
   "metadata": {},
   "outputs": [],
   "source": [
    "# --------------------------26------------------------------------"
   ]
  },
  {
   "cell_type": "code",
   "execution_count": 35,
   "id": "5c82f644",
   "metadata": {},
   "outputs": [
    {
     "data": {
      "text/plain": [
       "<torch.autograd.grad_mode.set_grad_enabled at 0x7fa8f4f67a90>"
      ]
     },
     "execution_count": 35,
     "metadata": {},
     "output_type": "execute_result"
    }
   ],
   "source": [
    "import torch\n",
    "import torch.nn as nn\n",
    "import torch.nn.functional as F\n",
    "import torch.optim as optim\n",
    "\n",
    "import torchvision\n",
    "import torchvision.transforms as transforms\n",
    "\n",
    "torch.set_printoptions(linewidth = 120)\n",
    "torch.set_grad_enabled(True)"
   ]
  },
  {
   "cell_type": "code",
   "execution_count": 36,
   "id": "7fe6ae1d",
   "metadata": {},
   "outputs": [
    {
     "name": "stdout",
     "output_type": "stream",
     "text": [
      "1.10.0\n",
      "0.11.1\n"
     ]
    }
   ],
   "source": [
    "print(torch.__version__)\n",
    "print(torchvision.__version__)"
   ]
  },
  {
   "cell_type": "code",
   "execution_count": 37,
   "id": "c61e56fe",
   "metadata": {},
   "outputs": [
    {
     "name": "stdout",
     "output_type": "stream",
     "text": [
      "loss 1 :  2.313992500305176\n",
      "loss 2 :  2.281986713409424\n"
     ]
    }
   ],
   "source": [
    "network = Network()\n",
    "\n",
    "train_loader = torch.utils.data.DataLoader(train_set, batch_size = 100)\n",
    "optimizer = optim.Adam(network.parameters(), lr = 0.01)\n",
    "\n",
    "batch = next(iter(train_loader))\n",
    "images, labels = batch\n",
    "\n",
    "preds = network(images)\n",
    "loss  = F.cross_entropy(preds, labels)\n",
    "\n",
    "loss.backward()\n",
    "optimizer.step()\n",
    "\n",
    "print(\"loss 1 : \", loss.item())\n",
    "\n",
    "preds = network(images)\n",
    "loss  = F.cross_entropy(preds, labels)\n",
    "\n",
    "print(\"loss 2 : \", loss.item())\n",
    "\n",
    "\n",
    "\n"
   ]
  },
  {
   "cell_type": "code",
   "execution_count": 38,
   "id": "39269088",
   "metadata": {},
   "outputs": [],
   "source": [
    "# ------------------------27-------------------------"
   ]
  },
  {
   "cell_type": "code",
   "execution_count": 39,
   "id": "16d386c4",
   "metadata": {},
   "outputs": [
    {
     "name": "stdout",
     "output_type": "stream",
     "text": [
      "epoch : 0 total_correct : 47260 loss : 340.43983203172684\n",
      "epoch : 1 total_correct : 51574 loss : 227.5085123628378\n",
      "epoch : 2 total_correct : 52133 loss : 211.17872542142868\n",
      "epoch : 3 total_correct : 52606 loss : 199.56878823041916\n",
      "epoch : 4 total_correct : 52828 loss : 193.15330424159765\n"
     ]
    }
   ],
   "source": [
    "network = Network()\n",
    "\n",
    "train_loader = torch.utils.data.DataLoader(train_set, batch_size = 100)\n",
    "optimizer = optim.Adam(network.parameters(), lr = 0.01)\n",
    "\n",
    "\n",
    "for epoch in range(5):\n",
    "    \n",
    "    total_loss = 0\n",
    "    total_correct = 0\n",
    "\n",
    "    for batch in train_loader:\n",
    "\n",
    "        images, labels = batch\n",
    "\n",
    "        preds = network(images)\n",
    "        loss  = F.cross_entropy(preds, labels)\n",
    "\n",
    "        optimizer.zero_grad()\n",
    "        loss.backward()\n",
    "        optimizer.step()\n",
    "\n",
    "        total_loss += loss.item()\n",
    "        total_correct += get_num_correct(preds, labels)\n",
    "\n",
    "    print(\"epoch :\", epoch, \"total_correct :\", total_correct, \"loss :\", total_loss)"
   ]
  },
  {
   "cell_type": "code",
   "execution_count": 40,
   "id": "74399495",
   "metadata": {},
   "outputs": [
    {
     "data": {
      "text/plain": [
       "0.8804666666666666"
      ]
     },
     "execution_count": 40,
     "metadata": {},
     "output_type": "execute_result"
    }
   ],
   "source": [
    "total_correct / len(train_set) "
   ]
  },
  {
   "cell_type": "code",
   "execution_count": 41,
   "id": "83fb9e6d",
   "metadata": {},
   "outputs": [],
   "source": [
    "# -----------------------------28---------------------------"
   ]
  },
  {
   "cell_type": "code",
   "execution_count": 42,
   "id": "3e67ea79",
   "metadata": {},
   "outputs": [
    {
     "data": {
      "text/plain": [
       "60000"
      ]
     },
     "execution_count": 42,
     "metadata": {},
     "output_type": "execute_result"
    }
   ],
   "source": [
    "len(train_set)"
   ]
  },
  {
   "cell_type": "code",
   "execution_count": 43,
   "id": "b93f1ac4",
   "metadata": {},
   "outputs": [
    {
     "data": {
      "text/plain": [
       "60000"
      ]
     },
     "execution_count": 43,
     "metadata": {},
     "output_type": "execute_result"
    }
   ],
   "source": [
    "len(train_set.targets)"
   ]
  },
  {
   "cell_type": "code",
   "execution_count": 44,
   "id": "cd24f819",
   "metadata": {},
   "outputs": [],
   "source": [
    "def get_all_preds(model, loader):\n",
    "    all_preds = torch.tensor([])\n",
    "    \n",
    "    for batch in loader:\n",
    "        images, labels = batch\n",
    "        \n",
    "        preds = model(images)\n",
    "        all_preds = torch.cat((all_preds, preds), dim = 0)\n",
    "        \n",
    "    return all_preds"
   ]
  },
  {
   "cell_type": "code",
   "execution_count": 45,
   "id": "802225d8",
   "metadata": {},
   "outputs": [],
   "source": [
    "with torch.no_grad():\n",
    "    prediction_loader = torch.utils.data.DataLoader(train_set, batch_size = 10000)\n",
    "    train_preds = get_all_preds(network, prediction_loader)"
   ]
  },
  {
   "cell_type": "code",
   "execution_count": 46,
   "id": "a5d4bb64",
   "metadata": {},
   "outputs": [
    {
     "data": {
      "text/plain": [
       "torch.Size([60000])"
      ]
     },
     "execution_count": 46,
     "metadata": {},
     "output_type": "execute_result"
    }
   ],
   "source": [
    "train_set.targets.shape"
   ]
  },
  {
   "cell_type": "code",
   "execution_count": 47,
   "id": "c60b568c",
   "metadata": {},
   "outputs": [
    {
     "data": {
      "text/plain": [
       "False"
      ]
     },
     "execution_count": 47,
     "metadata": {},
     "output_type": "execute_result"
    }
   ],
   "source": [
    "train_preds.requires_grad"
   ]
  },
  {
   "cell_type": "code",
   "execution_count": 48,
   "id": "2925c6b1",
   "metadata": {},
   "outputs": [],
   "source": [
    "train_preds.grad"
   ]
  },
  {
   "cell_type": "code",
   "execution_count": 49,
   "id": "c381df7c",
   "metadata": {},
   "outputs": [],
   "source": [
    "train_preds.grad_fn"
   ]
  },
  {
   "cell_type": "code",
   "execution_count": 50,
   "id": "46a748ed",
   "metadata": {},
   "outputs": [
    {
     "data": {
      "text/plain": [
       "torch.Size([60000, 10])"
      ]
     },
     "execution_count": 50,
     "metadata": {},
     "output_type": "execute_result"
    }
   ],
   "source": [
    "train_preds.shape"
   ]
  },
  {
   "cell_type": "code",
   "execution_count": 51,
   "id": "51edd3a1",
   "metadata": {},
   "outputs": [],
   "source": [
    "preds_correct = get_num_correct(train_preds, train_set.targets)"
   ]
  },
  {
   "cell_type": "code",
   "execution_count": 52,
   "id": "12c4dae2",
   "metadata": {},
   "outputs": [
    {
     "name": "stdout",
     "output_type": "stream",
     "text": [
      "acc :  0.8827666666666667\n"
     ]
    }
   ],
   "source": [
    "print(\"acc : \", preds_correct/len(train_set))"
   ]
  },
  {
   "cell_type": "code",
   "execution_count": 53,
   "id": "89c765ad",
   "metadata": {},
   "outputs": [],
   "source": [
    "stacked = torch.stack((train_set.targets, train_preds.argmax(dim = 1)), dim = 1)"
   ]
  },
  {
   "cell_type": "code",
   "execution_count": 54,
   "id": "4380d4a5",
   "metadata": {},
   "outputs": [
    {
     "data": {
      "text/plain": [
       "tensor([[9, 9],\n",
       "        [0, 0],\n",
       "        [0, 0],\n",
       "        ...,\n",
       "        [3, 3],\n",
       "        [0, 0],\n",
       "        [5, 5]])"
      ]
     },
     "execution_count": 54,
     "metadata": {},
     "output_type": "execute_result"
    }
   ],
   "source": [
    "stacked"
   ]
  },
  {
   "cell_type": "code",
   "execution_count": 55,
   "id": "f8c5db95",
   "metadata": {},
   "outputs": [
    {
     "data": {
      "text/plain": [
       "tensor([[0, 0, 0, 0, 0, 0, 0, 0, 0, 0],\n",
       "        [0, 0, 0, 0, 0, 0, 0, 0, 0, 0],\n",
       "        [0, 0, 0, 0, 0, 0, 0, 0, 0, 0],\n",
       "        [0, 0, 0, 0, 0, 0, 0, 0, 0, 0],\n",
       "        [0, 0, 0, 0, 0, 0, 0, 0, 0, 0],\n",
       "        [0, 0, 0, 0, 0, 0, 0, 0, 0, 0],\n",
       "        [0, 0, 0, 0, 0, 0, 0, 0, 0, 0],\n",
       "        [0, 0, 0, 0, 0, 0, 0, 0, 0, 0],\n",
       "        [0, 0, 0, 0, 0, 0, 0, 0, 0, 0],\n",
       "        [0, 0, 0, 0, 0, 0, 0, 0, 0, 0]], dtype=torch.int32)"
      ]
     },
     "execution_count": 55,
     "metadata": {},
     "output_type": "execute_result"
    }
   ],
   "source": [
    "cmt = torch.zeros(10,10, dtype = torch.int32)\n",
    "cmt"
   ]
  },
  {
   "cell_type": "code",
   "execution_count": 56,
   "id": "af9a8910",
   "metadata": {},
   "outputs": [],
   "source": [
    "for pair in stacked:\n",
    "    tl, pl = pair\n",
    "    cmt[tl, pl] += 1"
   ]
  },
  {
   "cell_type": "code",
   "execution_count": 57,
   "id": "9730852c",
   "metadata": {},
   "outputs": [
    {
     "data": {
      "text/plain": [
       "tensor([[5385,    3,   89,   86,   15,    3,  362,    0,   57,    0],\n",
       "        [  21, 5878,    1,   78,    7,    0,   10,    0,    5,    0],\n",
       "        [  68,    3, 4459,   72,  944,    0,  413,    0,   41,    0],\n",
       "        [ 286,   63,   13, 5345,  170,    5,  110,    1,    7,    0],\n",
       "        [  16,   11,  243,  220, 5138,    1,  349,    0,   22,    0],\n",
       "        [   1,    0,    0,    1,    0, 5716,    0,  198,    9,   75],\n",
       "        [1194,    6,  449,  100,  590,    2, 3572,    0,   87,    0],\n",
       "        [   0,    0,    0,    0,    0,   31,    0, 5803,    4,  162],\n",
       "        [  23,    3,   17,   22,   15,    8,   13,    5, 5893,    1],\n",
       "        [   0,    0,    0,    1,    0,   15,    1,  200,    6, 5777]], dtype=torch.int32)"
      ]
     },
     "execution_count": 57,
     "metadata": {},
     "output_type": "execute_result"
    }
   ],
   "source": [
    "cmt"
   ]
  },
  {
   "cell_type": "code",
   "execution_count": 58,
   "id": "6a9c502e",
   "metadata": {},
   "outputs": [
    {
     "name": "stdout",
     "output_type": "stream",
     "text": [
      "<class 'numpy.ndarray'>\n"
     ]
    },
    {
     "data": {
      "text/plain": [
       "array([[5385,    3,   89,   86,   15,    3,  362,    0,   57,    0],\n",
       "       [  21, 5878,    1,   78,    7,    0,   10,    0,    5,    0],\n",
       "       [  68,    3, 4459,   72,  944,    0,  413,    0,   41,    0],\n",
       "       [ 286,   63,   13, 5345,  170,    5,  110,    1,    7,    0],\n",
       "       [  16,   11,  243,  220, 5138,    1,  349,    0,   22,    0],\n",
       "       [   1,    0,    0,    1,    0, 5716,    0,  198,    9,   75],\n",
       "       [1194,    6,  449,  100,  590,    2, 3572,    0,   87,    0],\n",
       "       [   0,    0,    0,    0,    0,   31,    0, 5803,    4,  162],\n",
       "       [  23,    3,   17,   22,   15,    8,   13,    5, 5893,    1],\n",
       "       [   0,    0,    0,    1,    0,   15,    1,  200,    6, 5777]])"
      ]
     },
     "execution_count": 58,
     "metadata": {},
     "output_type": "execute_result"
    }
   ],
   "source": [
    "from sklearn.metrics import confusion_matrix\n",
    "cm = confusion_matrix(train_set.targets, train_preds.argmax(dim = 1))\n",
    "print(type(cm))\n",
    "cm"
   ]
  },
  {
   "cell_type": "code",
   "execution_count": 59,
   "id": "d65457f8",
   "metadata": {},
   "outputs": [],
   "source": [
    "# --------------------29------------------------------------------------"
   ]
  },
  {
   "cell_type": "code",
   "execution_count": 60,
   "id": "a2835d2a",
   "metadata": {},
   "outputs": [],
   "source": [
    "from torch.utils.tensorboard import SummaryWriter"
   ]
  },
  {
   "cell_type": "code",
   "execution_count": 61,
   "id": "f9698486",
   "metadata": {},
   "outputs": [],
   "source": [
    "train_loader = torch.utils.data.DataLoader(train_set, batch_size = 100, shuffle = True)"
   ]
  },
  {
   "cell_type": "code",
   "execution_count": 62,
   "id": "f292e53a",
   "metadata": {},
   "outputs": [],
   "source": [
    "tb = SummaryWriter()\n",
    "\n",
    "network = Network()\n",
    "images, labels = next(iter(train_loader))\n",
    "grid = torchvision.utils.make_grid(images)\n",
    "\n",
    "tb.add_image('images', grid)\n",
    "tb.add_graph(network, images)\n",
    "tb.close()"
   ]
  },
  {
   "cell_type": "code",
   "execution_count": 82,
   "id": "b057ef7d",
   "metadata": {},
   "outputs": [
    {
     "name": "stdout",
     "output_type": "stream",
     "text": [
      "epoch : 0 total_correct : 6000 loss : 1384.4046432971954\n",
      "epoch : 1 total_correct : 6000 loss : 1384.4046416282654\n",
      "epoch : 2 total_correct : 6000 loss : 1384.4046359062195\n",
      "epoch : 3 total_correct : 6000 loss : 1384.4046337604523\n",
      "epoch : 4 total_correct : 6000 loss : 1384.4046313762665\n",
      "epoch : 5 total_correct : 6000 loss : 1384.404636144638\n",
      "epoch : 6 total_correct : 6000 loss : 1384.4046409130096\n",
      "epoch : 7 total_correct : 6000 loss : 1384.4046351909637\n",
      "epoch : 8 total_correct : 6000 loss : 1384.4046387672424\n",
      "epoch : 9 total_correct : 6000 loss : 1384.404637336731\n"
     ]
    }
   ],
   "source": [
    "for epoch in range(10):\n",
    "    \n",
    "    total_loss = 0\n",
    "    total_correct = 0\n",
    "\n",
    "    for batch in train_loader:\n",
    "\n",
    "        images, labels = batch\n",
    "\n",
    "        preds = network(images)\n",
    "        loss  = F.cross_entropy(preds, labels)\n",
    "\n",
    "        optimizer.zero_grad()\n",
    "        loss.backward()\n",
    "        optimizer.step()\n",
    "\n",
    "        total_loss += loss.item()\n",
    "        total_correct += get_num_correct(preds, labels)\n",
    "\n",
    "    tb.add_scalar('Loss', total_loss, epoch)\n",
    "    tb.add_scalar('Number_Correct', total_correct, epoch)\n",
    "    tb.add_scalar('Accuracy', total_correct/len(train_set), epoch)\n",
    "    \n",
    "    tb.add_histogram('conv1.bias', network.conv1.bias, epoch)\n",
    "    tb.add_histogram('conv1.weight', network.conv1.weight, epoch)\n",
    "    tb.add_histogram('conv1.weight.grad', network.conv1.weight.grad, epoch)\n",
    "    \n",
    "    print(\"epoch :\", epoch, \"total_correct :\", total_correct, \"loss :\", total_loss)"
   ]
  },
  {
   "cell_type": "code",
   "execution_count": 83,
   "id": "89e0283b",
   "metadata": {},
   "outputs": [],
   "source": [
    "# --------------------------31-----------------------------------------"
   ]
  },
  {
   "cell_type": "code",
   "execution_count": 63,
   "id": "85247375",
   "metadata": {},
   "outputs": [
    {
     "ename": "AttributeError",
     "evalue": "'NoneType' object has no attribute 'shape'",
     "output_type": "error",
     "traceback": [
      "\u001b[0;31m---------------------------------------------------------------------------\u001b[0m",
      "\u001b[0;31mAttributeError\u001b[0m                            Traceback (most recent call last)",
      "Input \u001b[0;32mIn [63]\u001b[0m, in \u001b[0;36m<cell line: 1>\u001b[0;34m()\u001b[0m\n\u001b[1;32m      1\u001b[0m \u001b[38;5;28;01mfor\u001b[39;00m name, weight \u001b[38;5;129;01min\u001b[39;00m network\u001b[38;5;241m.\u001b[39mnamed_parameters():\n\u001b[0;32m----> 2\u001b[0m     \u001b[38;5;28mprint\u001b[39m(\u001b[38;5;124mf\u001b[39m\u001b[38;5;124m'\u001b[39m\u001b[38;5;132;01m{\u001b[39;00mname\u001b[38;5;132;01m}\u001b[39;00m\u001b[38;5;124m.grad\u001b[39m\u001b[38;5;124m'\u001b[39m, \u001b[43mweight\u001b[49m\u001b[38;5;241;43m.\u001b[39;49m\u001b[43mgrad\u001b[49m\u001b[38;5;241;43m.\u001b[39;49m\u001b[43mshape\u001b[49m)\n",
      "\u001b[0;31mAttributeError\u001b[0m: 'NoneType' object has no attribute 'shape'"
     ]
    }
   ],
   "source": [
    "for name, weight in network.named_parameters():\n",
    "    print(f'{name}.grad', weight.grad.shape)"
   ]
  },
  {
   "cell_type": "code",
   "execution_count": 88,
   "id": "1520f10c",
   "metadata": {},
   "outputs": [],
   "source": [
    "from itertools import product"
   ]
  },
  {
   "cell_type": "code",
   "execution_count": 89,
   "id": "ab68f2ab",
   "metadata": {},
   "outputs": [],
   "source": [
    "parameters = dict( lr = [.01, .001],\n",
    "                   batch_size = [10, 100, 1000],\n",
    "                   shuffle = [True, False]\n",
    "                 )"
   ]
  },
  {
   "cell_type": "code",
   "execution_count": 90,
   "id": "0ccbb5ea",
   "metadata": {},
   "outputs": [
    {
     "data": {
      "text/plain": [
       "[[0.01, 0.001], [10, 100, 1000], [True, False]]"
      ]
     },
     "execution_count": 90,
     "metadata": {},
     "output_type": "execute_result"
    }
   ],
   "source": [
    "param_values = [v for v in parameters.values()]\n",
    "param_values"
   ]
  },
  {
   "cell_type": "code",
   "execution_count": 91,
   "id": "ba08456f",
   "metadata": {
    "scrolled": true
   },
   "outputs": [
    {
     "name": "stdout",
     "output_type": "stream",
     "text": [
      "0.01 10 True\n",
      "0.01 10 False\n",
      "0.01 100 True\n",
      "0.01 100 False\n",
      "0.01 1000 True\n",
      "0.01 1000 False\n",
      "0.001 10 True\n",
      "0.001 10 False\n",
      "0.001 100 True\n",
      "0.001 100 False\n",
      "0.001 1000 True\n",
      "0.001 1000 False\n"
     ]
    }
   ],
   "source": [
    "for lr, batch_size, shuffle in product(*param_values):\n",
    "    print(lr, batch_size, shuffle)"
   ]
  },
  {
   "cell_type": "code",
   "execution_count": 92,
   "id": "4d947df2",
   "metadata": {},
   "outputs": [],
   "source": [
    "# -----------------------32------------------------------------"
   ]
  },
  {
   "cell_type": "code",
   "execution_count": 93,
   "id": "aa3a5dbe",
   "metadata": {},
   "outputs": [],
   "source": [
    "from collections import OrderedDict\n",
    "from collections import namedtuple\n",
    "from itertools   import product\n",
    "import time\n",
    "import pandas as pd"
   ]
  },
  {
   "cell_type": "code",
   "execution_count": 94,
   "id": "c18865f5",
   "metadata": {},
   "outputs": [],
   "source": [
    "params = OrderedDict( lr = [.01, .001],\n",
    "                      batch_size = [1000, 10000]\n",
    "                    )"
   ]
  },
  {
   "cell_type": "code",
   "execution_count": 95,
   "id": "d0d094ef",
   "metadata": {},
   "outputs": [
    {
     "data": {
      "text/plain": [
       "odict_keys(['lr', 'batch_size'])"
      ]
     },
     "execution_count": 95,
     "metadata": {},
     "output_type": "execute_result"
    }
   ],
   "source": [
    "params.keys()"
   ]
  },
  {
   "cell_type": "code",
   "execution_count": 96,
   "id": "52ddee53",
   "metadata": {},
   "outputs": [
    {
     "data": {
      "text/plain": [
       "odict_values([[0.01, 0.001], [1000, 10000]])"
      ]
     },
     "execution_count": 96,
     "metadata": {},
     "output_type": "execute_result"
    }
   ],
   "source": [
    "params.values()"
   ]
  },
  {
   "cell_type": "code",
   "execution_count": 97,
   "id": "be3a6a5e",
   "metadata": {},
   "outputs": [],
   "source": [
    "Run = namedtuple('Run', params.keys())"
   ]
  },
  {
   "cell_type": "code",
   "execution_count": 98,
   "id": "d225d9f1",
   "metadata": {},
   "outputs": [
    {
     "data": {
      "text/plain": [
       "[Run(lr=0.01, batch_size=1000),\n",
       " Run(lr=0.01, batch_size=10000),\n",
       " Run(lr=0.001, batch_size=1000),\n",
       " Run(lr=0.001, batch_size=10000)]"
      ]
     },
     "execution_count": 98,
     "metadata": {},
     "output_type": "execute_result"
    }
   ],
   "source": [
    "runs = []\n",
    "for v in product(*params.values()):\n",
    "    runs.append(Run(*v))\n",
    "runs"
   ]
  },
  {
   "cell_type": "code",
   "execution_count": 99,
   "id": "a364bbb3",
   "metadata": {},
   "outputs": [],
   "source": [
    "class RunBuilder():\n",
    "    \n",
    "    @staticmethod\n",
    "    def get_runs(params):\n",
    "        Run = namedtuple('Run', params.keys())\n",
    "        \n",
    "        runs = []\n",
    "        for v in product(*params.values()):\n",
    "            runs.append(Run(*v))\n",
    "            \n",
    "        return runs"
   ]
  },
  {
   "cell_type": "code",
   "execution_count": 100,
   "id": "3fda4755",
   "metadata": {},
   "outputs": [
    {
     "name": "stdout",
     "output_type": "stream",
     "text": [
      "Run(lr=0.01, batch_size=1000)\n",
      "Run(lr=0.01, batch_size=10000)\n",
      "Run(lr=0.001, batch_size=1000)\n",
      "Run(lr=0.001, batch_size=10000)\n"
     ]
    }
   ],
   "source": [
    "for run in RunBuilder.get_runs(params):\n",
    "    print(f'{run}')"
   ]
  },
  {
   "cell_type": "code",
   "execution_count": 101,
   "id": "2de9dff4",
   "metadata": {},
   "outputs": [],
   "source": [
    "# --------------------33------------------------------------------"
   ]
  },
  {
   "cell_type": "code",
   "execution_count": 102,
   "id": "57527d52",
   "metadata": {},
   "outputs": [],
   "source": [
    "from collections import OrderedDict\n",
    "from collections import namedtuple\n",
    "from itertools   import product\n",
    "from IPython.display import clear_output\n",
    "import json"
   ]
  },
  {
   "cell_type": "code",
   "execution_count": 103,
   "id": "c90202fb",
   "metadata": {},
   "outputs": [],
   "source": [
    "class RunBuilder():\n",
    "    @staticmethod\n",
    "    def get_runs(params):\n",
    "        runs = []\n",
    "        Run = namedtuple('Run', params.keys())\n",
    "        for v in product(*params.values()):\n",
    "            runs.append(Run(*v))\n",
    "        return runs"
   ]
  },
  {
   "cell_type": "code",
   "execution_count": 104,
   "id": "025d2418",
   "metadata": {},
   "outputs": [],
   "source": [
    "class RunManager():\n",
    "    def __init__(self):\n",
    "        \n",
    "        self.epoch_count = 0\n",
    "        self.epoch_loss  = 0\n",
    "        self.epoch_num_correct = 0\n",
    "        self.epoch_start_time  = None\n",
    "        \n",
    "        self.run_params = None\n",
    "        self.run_count  = 0\n",
    "        self.run_data   = []\n",
    "        self.run_start_time = None\n",
    "        \n",
    "        self.network = None\n",
    "        self.loader  = None\n",
    "        self.tb      = None\n",
    "        \n",
    "    def begin_run(self, run, network, loader):\n",
    "        \n",
    "        self.run_start_time = time.time()\n",
    "        \n",
    "        self.run_params = run\n",
    "        self.run_count += 1\n",
    "        \n",
    "        self.network = network\n",
    "        self.loader  = loader\n",
    "        self.tb      = SummaryWriter(comment = f' - {run}')\n",
    "        \n",
    "        images, labels  =  next(iter(self.loader))\n",
    "        grid  =  torchvision.utils.make_grid(images)\n",
    "        \n",
    "        self.tb.add_image('images', grid)\n",
    "        self.tb.add_graph(self.network, images.to(getattr(run, 'device', 'cpu')))\n",
    "    \n",
    "    def end_run(self):\n",
    "        \n",
    "        self.tb.close()\n",
    "        self.epoch_count = 0\n",
    "    \n",
    "    def begin_epoch(self):\n",
    "        \n",
    "        self.epoch_start_time = time.time()\n",
    "        self.epoch_count  +=  1\n",
    "        self.epoch_loss   =  0\n",
    "        self.epoch_num_correct  =  0\n",
    "    \n",
    "    def end_epoch(self):\n",
    "        \n",
    "        epoch_duration = time.time() - self.epoch_start_time\n",
    "        run_duration   = time.time() - self.run_start_time\n",
    "        \n",
    "        loss = self.epoch_loss / len(self.loader.dataset)\n",
    "        accuracy = self.epoch_num_correct / len(self.loader.dataset)\n",
    "        \n",
    "        self.tb.add_scalar('Loss', loss, self.epoch_count)\n",
    "        self.tb.add_scalar('Accuracy', accuracy, self.epoch_count)\n",
    "        \n",
    "        for name,param in self.network.named_parameters():\n",
    "            self.tb.add_histogram(name, param, self.epoch_count)\n",
    "            self.tb.add_histogram(f'{name}.grad', param.grad, self.epoch_count)\n",
    "        \n",
    "        results = OrderedDict()\n",
    "        results[\"run\"] = self.run_count\n",
    "        results[\"epoch\"] = self.epoch_count\n",
    "        results[\"loss\"]  = loss\n",
    "        results[\"accuracy\"] = accuracy\n",
    "        results[\"epoch_duration\"] = epoch_duration\n",
    "        results[\"run_duration\"]   = run_duration\n",
    "        \n",
    "        for k,v in self.run_params._asdict().items():\n",
    "            results[k] = v\n",
    "        \n",
    "        self.run_data.append(results)\n",
    "        \n",
    "        df = pd.DataFrame.from_dict(self.run_data, orient = 'columns')\n",
    "        \n",
    "        clear_output(wait = True)\n",
    "        display(df)\n",
    "        \n",
    "    def track_loss(self, loss):\n",
    "        self.epoch_loss   +=   loss.item() * self.loader.batch_size\n",
    "        \n",
    "    def track_num_correct(self, preds, labels):\n",
    "        self.epoch_num_correct += self._get_num_correct(preds, labels)\n",
    "        \n",
    "    @torch.no_grad()\n",
    "    def _get_num_correct(self, preds, labels):\n",
    "        return preds.argmax(dim = 1).eq(labels).sum().item()\n",
    "    \n",
    "    def save(self, fileName):\n",
    "        pd.DataFrame.from_dict(self.run_data, orient = 'columns').to_csv(f'{fileName}.csv')\n",
    "        \n",
    "        with open(f'{fileName}.json', 'w', encoding = 'utf-8') as f:\n",
    "            json.dump(self.run_data, f, ensure_ascii = False, indent = 4)"
   ]
  },
  {
   "cell_type": "code",
   "execution_count": 102,
   "id": "54e6dae8",
   "metadata": {},
   "outputs": [
    {
     "data": {
      "text/html": [
       "<div>\n",
       "<style scoped>\n",
       "    .dataframe tbody tr th:only-of-type {\n",
       "        vertical-align: middle;\n",
       "    }\n",
       "\n",
       "    .dataframe tbody tr th {\n",
       "        vertical-align: top;\n",
       "    }\n",
       "\n",
       "    .dataframe thead th {\n",
       "        text-align: right;\n",
       "    }\n",
       "</style>\n",
       "<table border=\"1\" class=\"dataframe\">\n",
       "  <thead>\n",
       "    <tr style=\"text-align: right;\">\n",
       "      <th></th>\n",
       "      <th>run</th>\n",
       "      <th>epoch</th>\n",
       "      <th>loss</th>\n",
       "      <th>accuracy</th>\n",
       "      <th>epoch_duration</th>\n",
       "      <th>run_duration</th>\n",
       "      <th>lr</th>\n",
       "      <th>batch_size</th>\n",
       "      <th>num_workers</th>\n",
       "      <th>device</th>\n",
       "    </tr>\n",
       "  </thead>\n",
       "  <tbody>\n",
       "    <tr>\n",
       "      <th>0</th>\n",
       "      <td>1</td>\n",
       "      <td>1</td>\n",
       "      <td>1.168851</td>\n",
       "      <td>0.553783</td>\n",
       "      <td>4.213138</td>\n",
       "      <td>5.595816</td>\n",
       "      <td>0.010</td>\n",
       "      <td>1000</td>\n",
       "      <td>0</td>\n",
       "      <td>cuda</td>\n",
       "    </tr>\n",
       "    <tr>\n",
       "      <th>1</th>\n",
       "      <td>2</td>\n",
       "      <td>1</td>\n",
       "      <td>1.042713</td>\n",
       "      <td>0.598650</td>\n",
       "      <td>6.525804</td>\n",
       "      <td>6.983613</td>\n",
       "      <td>0.010</td>\n",
       "      <td>1000</td>\n",
       "      <td>0</td>\n",
       "      <td>cpu</td>\n",
       "    </tr>\n",
       "    <tr>\n",
       "      <th>2</th>\n",
       "      <td>3</td>\n",
       "      <td>1</td>\n",
       "      <td>0.921211</td>\n",
       "      <td>0.645183</td>\n",
       "      <td>3.652346</td>\n",
       "      <td>4.234825</td>\n",
       "      <td>0.010</td>\n",
       "      <td>1000</td>\n",
       "      <td>1</td>\n",
       "      <td>cuda</td>\n",
       "    </tr>\n",
       "    <tr>\n",
       "      <th>3</th>\n",
       "      <td>4</td>\n",
       "      <td>1</td>\n",
       "      <td>1.016603</td>\n",
       "      <td>0.611833</td>\n",
       "      <td>4.756183</td>\n",
       "      <td>5.394466</td>\n",
       "      <td>0.010</td>\n",
       "      <td>1000</td>\n",
       "      <td>1</td>\n",
       "      <td>cpu</td>\n",
       "    </tr>\n",
       "    <tr>\n",
       "      <th>4</th>\n",
       "      <td>5</td>\n",
       "      <td>1</td>\n",
       "      <td>1.280992</td>\n",
       "      <td>0.519317</td>\n",
       "      <td>3.686172</td>\n",
       "      <td>4.398281</td>\n",
       "      <td>0.010</td>\n",
       "      <td>2000</td>\n",
       "      <td>0</td>\n",
       "      <td>cuda</td>\n",
       "    </tr>\n",
       "    <tr>\n",
       "      <th>5</th>\n",
       "      <td>6</td>\n",
       "      <td>1</td>\n",
       "      <td>1.291651</td>\n",
       "      <td>0.499450</td>\n",
       "      <td>5.670842</td>\n",
       "      <td>6.503567</td>\n",
       "      <td>0.010</td>\n",
       "      <td>2000</td>\n",
       "      <td>0</td>\n",
       "      <td>cpu</td>\n",
       "    </tr>\n",
       "    <tr>\n",
       "      <th>6</th>\n",
       "      <td>7</td>\n",
       "      <td>1</td>\n",
       "      <td>1.210652</td>\n",
       "      <td>0.540133</td>\n",
       "      <td>4.006163</td>\n",
       "      <td>5.004702</td>\n",
       "      <td>0.010</td>\n",
       "      <td>2000</td>\n",
       "      <td>1</td>\n",
       "      <td>cuda</td>\n",
       "    </tr>\n",
       "    <tr>\n",
       "      <th>7</th>\n",
       "      <td>8</td>\n",
       "      <td>1</td>\n",
       "      <td>1.218398</td>\n",
       "      <td>0.548183</td>\n",
       "      <td>4.805014</td>\n",
       "      <td>5.896054</td>\n",
       "      <td>0.010</td>\n",
       "      <td>2000</td>\n",
       "      <td>1</td>\n",
       "      <td>cpu</td>\n",
       "    </tr>\n",
       "    <tr>\n",
       "      <th>8</th>\n",
       "      <td>9</td>\n",
       "      <td>1</td>\n",
       "      <td>1.519583</td>\n",
       "      <td>0.458567</td>\n",
       "      <td>3.693696</td>\n",
       "      <td>4.107535</td>\n",
       "      <td>0.001</td>\n",
       "      <td>1000</td>\n",
       "      <td>0</td>\n",
       "      <td>cuda</td>\n",
       "    </tr>\n",
       "    <tr>\n",
       "      <th>9</th>\n",
       "      <td>10</td>\n",
       "      <td>1</td>\n",
       "      <td>1.645678</td>\n",
       "      <td>0.415383</td>\n",
       "      <td>5.682544</td>\n",
       "      <td>6.128418</td>\n",
       "      <td>0.001</td>\n",
       "      <td>1000</td>\n",
       "      <td>0</td>\n",
       "      <td>cpu</td>\n",
       "    </tr>\n",
       "    <tr>\n",
       "      <th>10</th>\n",
       "      <td>11</td>\n",
       "      <td>1</td>\n",
       "      <td>1.622017</td>\n",
       "      <td>0.427800</td>\n",
       "      <td>3.846253</td>\n",
       "      <td>4.415135</td>\n",
       "      <td>0.001</td>\n",
       "      <td>1000</td>\n",
       "      <td>1</td>\n",
       "      <td>cuda</td>\n",
       "    </tr>\n",
       "    <tr>\n",
       "      <th>11</th>\n",
       "      <td>12</td>\n",
       "      <td>1</td>\n",
       "      <td>1.542596</td>\n",
       "      <td>0.497483</td>\n",
       "      <td>4.832272</td>\n",
       "      <td>5.478772</td>\n",
       "      <td>0.001</td>\n",
       "      <td>1000</td>\n",
       "      <td>1</td>\n",
       "      <td>cpu</td>\n",
       "    </tr>\n",
       "    <tr>\n",
       "      <th>12</th>\n",
       "      <td>13</td>\n",
       "      <td>1</td>\n",
       "      <td>1.975450</td>\n",
       "      <td>0.411600</td>\n",
       "      <td>3.790604</td>\n",
       "      <td>4.477703</td>\n",
       "      <td>0.001</td>\n",
       "      <td>2000</td>\n",
       "      <td>0</td>\n",
       "      <td>cuda</td>\n",
       "    </tr>\n",
       "    <tr>\n",
       "      <th>13</th>\n",
       "      <td>14</td>\n",
       "      <td>1</td>\n",
       "      <td>1.913773</td>\n",
       "      <td>0.401833</td>\n",
       "      <td>5.626917</td>\n",
       "      <td>6.442022</td>\n",
       "      <td>0.001</td>\n",
       "      <td>2000</td>\n",
       "      <td>0</td>\n",
       "      <td>cpu</td>\n",
       "    </tr>\n",
       "    <tr>\n",
       "      <th>14</th>\n",
       "      <td>15</td>\n",
       "      <td>1</td>\n",
       "      <td>2.063122</td>\n",
       "      <td>0.369050</td>\n",
       "      <td>3.807917</td>\n",
       "      <td>4.796174</td>\n",
       "      <td>0.001</td>\n",
       "      <td>2000</td>\n",
       "      <td>1</td>\n",
       "      <td>cuda</td>\n",
       "    </tr>\n",
       "    <tr>\n",
       "      <th>15</th>\n",
       "      <td>16</td>\n",
       "      <td>1</td>\n",
       "      <td>2.106917</td>\n",
       "      <td>0.375317</td>\n",
       "      <td>4.924625</td>\n",
       "      <td>6.018100</td>\n",
       "      <td>0.001</td>\n",
       "      <td>2000</td>\n",
       "      <td>1</td>\n",
       "      <td>cpu</td>\n",
       "    </tr>\n",
       "  </tbody>\n",
       "</table>\n",
       "</div>"
      ],
      "text/plain": [
       "    run  epoch      loss  accuracy  epoch_duration  run_duration     lr  \\\n",
       "0     1      1  1.168851  0.553783        4.213138      5.595816  0.010   \n",
       "1     2      1  1.042713  0.598650        6.525804      6.983613  0.010   \n",
       "2     3      1  0.921211  0.645183        3.652346      4.234825  0.010   \n",
       "3     4      1  1.016603  0.611833        4.756183      5.394466  0.010   \n",
       "4     5      1  1.280992  0.519317        3.686172      4.398281  0.010   \n",
       "5     6      1  1.291651  0.499450        5.670842      6.503567  0.010   \n",
       "6     7      1  1.210652  0.540133        4.006163      5.004702  0.010   \n",
       "7     8      1  1.218398  0.548183        4.805014      5.896054  0.010   \n",
       "8     9      1  1.519583  0.458567        3.693696      4.107535  0.001   \n",
       "9    10      1  1.645678  0.415383        5.682544      6.128418  0.001   \n",
       "10   11      1  1.622017  0.427800        3.846253      4.415135  0.001   \n",
       "11   12      1  1.542596  0.497483        4.832272      5.478772  0.001   \n",
       "12   13      1  1.975450  0.411600        3.790604      4.477703  0.001   \n",
       "13   14      1  1.913773  0.401833        5.626917      6.442022  0.001   \n",
       "14   15      1  2.063122  0.369050        3.807917      4.796174  0.001   \n",
       "15   16      1  2.106917  0.375317        4.924625      6.018100  0.001   \n",
       "\n",
       "    batch_size  num_workers device  \n",
       "0         1000            0   cuda  \n",
       "1         1000            0    cpu  \n",
       "2         1000            1   cuda  \n",
       "3         1000            1    cpu  \n",
       "4         2000            0   cuda  \n",
       "5         2000            0    cpu  \n",
       "6         2000            1   cuda  \n",
       "7         2000            1    cpu  \n",
       "8         1000            0   cuda  \n",
       "9         1000            0    cpu  \n",
       "10        1000            1   cuda  \n",
       "11        1000            1    cpu  \n",
       "12        2000            0   cuda  \n",
       "13        2000            0    cpu  \n",
       "14        2000            1   cuda  \n",
       "15        2000            1    cpu  "
      ]
     },
     "metadata": {},
     "output_type": "display_data"
    }
   ],
   "source": [
    "params = OrderedDict(lr = [.01, .001], batch_size = [1000, 2000], num_workers = [0, 1], device = ['cuda', 'cpu'])\n",
    "\n",
    "m = RunManager()\n",
    "\n",
    "for run in RunBuilder.get_runs(params):\n",
    "    \n",
    "    device    = torch.device(run.device)\n",
    "    network   = Network().to(device)\n",
    "    loader    = torch.utils.data.DataLoader(train_set, batch_size = run.batch_size, num_workers = run.num_workers)\n",
    "    optimizer = optim.Adam(network.parameters(), lr = run.lr)\n",
    "    \n",
    "    m.begin_run(run, network, loader)\n",
    "    for epoch in range(1):\n",
    "        m.begin_epoch()\n",
    "        \n",
    "        for batch in loader:\n",
    "            \n",
    "            images = batch[0].to(device)\n",
    "            labels = batch[1].to(device)\n",
    "            \n",
    "            preds  = network(images)\n",
    "            loss   = F.cross_entropy(preds, labels)\n",
    "            optimizer.zero_grad()\n",
    "            loss.backward()\n",
    "            optimizer.step()\n",
    "            \n",
    "            m.track_loss(loss)\n",
    "            m.track_num_correct(preds, labels)\n",
    "        m.end_epoch()\n",
    "    m.end_run()\n",
    "    \n",
    "m.save('results_workers_test')"
   ]
  },
  {
   "cell_type": "code",
   "execution_count": 103,
   "id": "ca8a00ec",
   "metadata": {},
   "outputs": [
    {
     "data": {
      "text/html": [
       "<div>\n",
       "<style scoped>\n",
       "    .dataframe tbody tr th:only-of-type {\n",
       "        vertical-align: middle;\n",
       "    }\n",
       "\n",
       "    .dataframe tbody tr th {\n",
       "        vertical-align: top;\n",
       "    }\n",
       "\n",
       "    .dataframe thead th {\n",
       "        text-align: right;\n",
       "    }\n",
       "</style>\n",
       "<table border=\"1\" class=\"dataframe\">\n",
       "  <thead>\n",
       "    <tr style=\"text-align: right;\">\n",
       "      <th></th>\n",
       "      <th>run</th>\n",
       "      <th>epoch</th>\n",
       "      <th>loss</th>\n",
       "      <th>accuracy</th>\n",
       "      <th>epoch_duration</th>\n",
       "      <th>run_duration</th>\n",
       "      <th>lr</th>\n",
       "      <th>batch_size</th>\n",
       "      <th>num_workers</th>\n",
       "      <th>device</th>\n",
       "    </tr>\n",
       "  </thead>\n",
       "  <tbody>\n",
       "    <tr>\n",
       "      <th>2</th>\n",
       "      <td>3</td>\n",
       "      <td>1</td>\n",
       "      <td>0.921211</td>\n",
       "      <td>0.645183</td>\n",
       "      <td>3.652346</td>\n",
       "      <td>4.234825</td>\n",
       "      <td>0.010</td>\n",
       "      <td>1000</td>\n",
       "      <td>1</td>\n",
       "      <td>cuda</td>\n",
       "    </tr>\n",
       "    <tr>\n",
       "      <th>4</th>\n",
       "      <td>5</td>\n",
       "      <td>1</td>\n",
       "      <td>1.280992</td>\n",
       "      <td>0.519317</td>\n",
       "      <td>3.686172</td>\n",
       "      <td>4.398281</td>\n",
       "      <td>0.010</td>\n",
       "      <td>2000</td>\n",
       "      <td>0</td>\n",
       "      <td>cuda</td>\n",
       "    </tr>\n",
       "    <tr>\n",
       "      <th>8</th>\n",
       "      <td>9</td>\n",
       "      <td>1</td>\n",
       "      <td>1.519583</td>\n",
       "      <td>0.458567</td>\n",
       "      <td>3.693696</td>\n",
       "      <td>4.107535</td>\n",
       "      <td>0.001</td>\n",
       "      <td>1000</td>\n",
       "      <td>0</td>\n",
       "      <td>cuda</td>\n",
       "    </tr>\n",
       "    <tr>\n",
       "      <th>12</th>\n",
       "      <td>13</td>\n",
       "      <td>1</td>\n",
       "      <td>1.975450</td>\n",
       "      <td>0.411600</td>\n",
       "      <td>3.790604</td>\n",
       "      <td>4.477703</td>\n",
       "      <td>0.001</td>\n",
       "      <td>2000</td>\n",
       "      <td>0</td>\n",
       "      <td>cuda</td>\n",
       "    </tr>\n",
       "    <tr>\n",
       "      <th>14</th>\n",
       "      <td>15</td>\n",
       "      <td>1</td>\n",
       "      <td>2.063122</td>\n",
       "      <td>0.369050</td>\n",
       "      <td>3.807917</td>\n",
       "      <td>4.796174</td>\n",
       "      <td>0.001</td>\n",
       "      <td>2000</td>\n",
       "      <td>1</td>\n",
       "      <td>cuda</td>\n",
       "    </tr>\n",
       "    <tr>\n",
       "      <th>10</th>\n",
       "      <td>11</td>\n",
       "      <td>1</td>\n",
       "      <td>1.622017</td>\n",
       "      <td>0.427800</td>\n",
       "      <td>3.846253</td>\n",
       "      <td>4.415135</td>\n",
       "      <td>0.001</td>\n",
       "      <td>1000</td>\n",
       "      <td>1</td>\n",
       "      <td>cuda</td>\n",
       "    </tr>\n",
       "    <tr>\n",
       "      <th>6</th>\n",
       "      <td>7</td>\n",
       "      <td>1</td>\n",
       "      <td>1.210652</td>\n",
       "      <td>0.540133</td>\n",
       "      <td>4.006163</td>\n",
       "      <td>5.004702</td>\n",
       "      <td>0.010</td>\n",
       "      <td>2000</td>\n",
       "      <td>1</td>\n",
       "      <td>cuda</td>\n",
       "    </tr>\n",
       "    <tr>\n",
       "      <th>0</th>\n",
       "      <td>1</td>\n",
       "      <td>1</td>\n",
       "      <td>1.168851</td>\n",
       "      <td>0.553783</td>\n",
       "      <td>4.213138</td>\n",
       "      <td>5.595816</td>\n",
       "      <td>0.010</td>\n",
       "      <td>1000</td>\n",
       "      <td>0</td>\n",
       "      <td>cuda</td>\n",
       "    </tr>\n",
       "    <tr>\n",
       "      <th>3</th>\n",
       "      <td>4</td>\n",
       "      <td>1</td>\n",
       "      <td>1.016603</td>\n",
       "      <td>0.611833</td>\n",
       "      <td>4.756183</td>\n",
       "      <td>5.394466</td>\n",
       "      <td>0.010</td>\n",
       "      <td>1000</td>\n",
       "      <td>1</td>\n",
       "      <td>cpu</td>\n",
       "    </tr>\n",
       "    <tr>\n",
       "      <th>7</th>\n",
       "      <td>8</td>\n",
       "      <td>1</td>\n",
       "      <td>1.218398</td>\n",
       "      <td>0.548183</td>\n",
       "      <td>4.805014</td>\n",
       "      <td>5.896054</td>\n",
       "      <td>0.010</td>\n",
       "      <td>2000</td>\n",
       "      <td>1</td>\n",
       "      <td>cpu</td>\n",
       "    </tr>\n",
       "    <tr>\n",
       "      <th>11</th>\n",
       "      <td>12</td>\n",
       "      <td>1</td>\n",
       "      <td>1.542596</td>\n",
       "      <td>0.497483</td>\n",
       "      <td>4.832272</td>\n",
       "      <td>5.478772</td>\n",
       "      <td>0.001</td>\n",
       "      <td>1000</td>\n",
       "      <td>1</td>\n",
       "      <td>cpu</td>\n",
       "    </tr>\n",
       "    <tr>\n",
       "      <th>15</th>\n",
       "      <td>16</td>\n",
       "      <td>1</td>\n",
       "      <td>2.106917</td>\n",
       "      <td>0.375317</td>\n",
       "      <td>4.924625</td>\n",
       "      <td>6.018100</td>\n",
       "      <td>0.001</td>\n",
       "      <td>2000</td>\n",
       "      <td>1</td>\n",
       "      <td>cpu</td>\n",
       "    </tr>\n",
       "    <tr>\n",
       "      <th>13</th>\n",
       "      <td>14</td>\n",
       "      <td>1</td>\n",
       "      <td>1.913773</td>\n",
       "      <td>0.401833</td>\n",
       "      <td>5.626917</td>\n",
       "      <td>6.442022</td>\n",
       "      <td>0.001</td>\n",
       "      <td>2000</td>\n",
       "      <td>0</td>\n",
       "      <td>cpu</td>\n",
       "    </tr>\n",
       "    <tr>\n",
       "      <th>5</th>\n",
       "      <td>6</td>\n",
       "      <td>1</td>\n",
       "      <td>1.291651</td>\n",
       "      <td>0.499450</td>\n",
       "      <td>5.670842</td>\n",
       "      <td>6.503567</td>\n",
       "      <td>0.010</td>\n",
       "      <td>2000</td>\n",
       "      <td>0</td>\n",
       "      <td>cpu</td>\n",
       "    </tr>\n",
       "    <tr>\n",
       "      <th>9</th>\n",
       "      <td>10</td>\n",
       "      <td>1</td>\n",
       "      <td>1.645678</td>\n",
       "      <td>0.415383</td>\n",
       "      <td>5.682544</td>\n",
       "      <td>6.128418</td>\n",
       "      <td>0.001</td>\n",
       "      <td>1000</td>\n",
       "      <td>0</td>\n",
       "      <td>cpu</td>\n",
       "    </tr>\n",
       "    <tr>\n",
       "      <th>1</th>\n",
       "      <td>2</td>\n",
       "      <td>1</td>\n",
       "      <td>1.042713</td>\n",
       "      <td>0.598650</td>\n",
       "      <td>6.525804</td>\n",
       "      <td>6.983613</td>\n",
       "      <td>0.010</td>\n",
       "      <td>1000</td>\n",
       "      <td>0</td>\n",
       "      <td>cpu</td>\n",
       "    </tr>\n",
       "  </tbody>\n",
       "</table>\n",
       "</div>"
      ],
      "text/plain": [
       "    run  epoch      loss  accuracy  epoch_duration  run_duration     lr  \\\n",
       "2     3      1  0.921211  0.645183        3.652346      4.234825  0.010   \n",
       "4     5      1  1.280992  0.519317        3.686172      4.398281  0.010   \n",
       "8     9      1  1.519583  0.458567        3.693696      4.107535  0.001   \n",
       "12   13      1  1.975450  0.411600        3.790604      4.477703  0.001   \n",
       "14   15      1  2.063122  0.369050        3.807917      4.796174  0.001   \n",
       "10   11      1  1.622017  0.427800        3.846253      4.415135  0.001   \n",
       "6     7      1  1.210652  0.540133        4.006163      5.004702  0.010   \n",
       "0     1      1  1.168851  0.553783        4.213138      5.595816  0.010   \n",
       "3     4      1  1.016603  0.611833        4.756183      5.394466  0.010   \n",
       "7     8      1  1.218398  0.548183        4.805014      5.896054  0.010   \n",
       "11   12      1  1.542596  0.497483        4.832272      5.478772  0.001   \n",
       "15   16      1  2.106917  0.375317        4.924625      6.018100  0.001   \n",
       "13   14      1  1.913773  0.401833        5.626917      6.442022  0.001   \n",
       "5     6      1  1.291651  0.499450        5.670842      6.503567  0.010   \n",
       "9    10      1  1.645678  0.415383        5.682544      6.128418  0.001   \n",
       "1     2      1  1.042713  0.598650        6.525804      6.983613  0.010   \n",
       "\n",
       "    batch_size  num_workers device  \n",
       "2         1000            1   cuda  \n",
       "4         2000            0   cuda  \n",
       "8         1000            0   cuda  \n",
       "12        2000            0   cuda  \n",
       "14        2000            1   cuda  \n",
       "10        1000            1   cuda  \n",
       "6         2000            1   cuda  \n",
       "0         1000            0   cuda  \n",
       "3         1000            1    cpu  \n",
       "7         2000            1    cpu  \n",
       "11        1000            1    cpu  \n",
       "15        2000            1    cpu  \n",
       "13        2000            0    cpu  \n",
       "5         2000            0    cpu  \n",
       "9         1000            0    cpu  \n",
       "1         1000            0    cpu  "
      ]
     },
     "execution_count": 103,
     "metadata": {},
     "output_type": "execute_result"
    }
   ],
   "source": [
    "pd.DataFrame.from_dict(m.run_data, orient = \"columns\").sort_values('epoch_duration')"
   ]
  },
  {
   "cell_type": "code",
   "execution_count": 105,
   "id": "db461123",
   "metadata": {},
   "outputs": [],
   "source": [
    "# --------------------------- 36 ----------------------------------"
   ]
  },
  {
   "cell_type": "code",
   "execution_count": 106,
   "id": "cef2d9a8",
   "metadata": {},
   "outputs": [],
   "source": [
    "import torch\n",
    "import torchvision\n",
    "import torchvision.transforms as transforms\n",
    "\n",
    "import matplotlib.pyplot as plt"
   ]
  },
  {
   "cell_type": "code",
   "execution_count": 107,
   "id": "d8634c3e",
   "metadata": {},
   "outputs": [
    {
     "data": {
      "text/plain": [
       "(tensor(0.2860), tensor(0.3530))"
      ]
     },
     "execution_count": 107,
     "metadata": {},
     "output_type": "execute_result"
    }
   ],
   "source": [
    "loader = torch.utils.data.DataLoader(train_set, batch_size = len(train_set), num_workers = 0)\n",
    "data   = next(iter(loader))\n",
    "data[0].mean(), data[0].std()"
   ]
  },
  {
   "cell_type": "code",
   "execution_count": 108,
   "id": "151a7539",
   "metadata": {},
   "outputs": [
    {
     "data": {
      "text/plain": [
       "(tensor(0.2860), tensor(0.3530))"
      ]
     },
     "execution_count": 108,
     "metadata": {},
     "output_type": "execute_result"
    }
   ],
   "source": [
    "loader = torch.utils.data.DataLoader(train_set, batch_size = 1000, num_workers = 0)\n",
    "total_num_pixels = len(train_set) * 28 * 28\n",
    "\n",
    "total_sum = 0\n",
    "for batch in loader:\n",
    "    total_sum += batch[0].sum()\n",
    "\n",
    "mean = total_sum/total_num_pixels\n",
    "\n",
    "sum_of_squared_error = 0\n",
    "for batch in loader:\n",
    "    sum_of_squared_error += ((batch[0] - mean).pow(2)).sum()\n",
    "std = torch.sqrt(sum_of_squared_error/total_num_pixels)\n",
    "\n",
    "mean, std"
   ]
  },
  {
   "cell_type": "code",
   "execution_count": 109,
   "id": "076b2c17",
   "metadata": {},
   "outputs": [
    {
     "data": {
      "text/plain": [
       "True"
      ]
     },
     "execution_count": 109,
     "metadata": {},
     "output_type": "execute_result"
    }
   ],
   "source": [
    "torch.cuda.is_available()"
   ]
  },
  {
   "cell_type": "code",
   "execution_count": 110,
   "id": "e32ead82",
   "metadata": {},
   "outputs": [],
   "source": [
    "# plt.hist(data[0].flatten())\n",
    "# plt.axvline(data[0].mean())"
   ]
  },
  {
   "cell_type": "code",
   "execution_count": 111,
   "id": "646991b1",
   "metadata": {},
   "outputs": [],
   "source": [
    "train_set_normal = torchvision.datasets.FashionMNIST(\n",
    "            root  = './data',\n",
    "            train = True,\n",
    "            download  = True,\n",
    "            transform = transforms.Compose([transforms.ToTensor(),\n",
    "                                            transforms.Normalize(mean, std)\n",
    "                                           ]) \n",
    "            )"
   ]
  },
  {
   "cell_type": "code",
   "execution_count": 112,
   "id": "f46798f7",
   "metadata": {},
   "outputs": [
    {
     "data": {
      "text/plain": [
       "(tensor(-1.8842e-07), tensor(1.))"
      ]
     },
     "execution_count": 112,
     "metadata": {},
     "output_type": "execute_result"
    }
   ],
   "source": [
    "loader = torch.utils.data.DataLoader(train_set_normal, batch_size = len(train_set_normal), num_workers = 1)\n",
    "data   = next(iter(loader))\n",
    "data[0].mean(), data[0].std()"
   ]
  },
  {
   "cell_type": "code",
   "execution_count": 113,
   "id": "47c64950",
   "metadata": {},
   "outputs": [],
   "source": [
    "trainsets = {\n",
    "             'not_normal' : train_set,\n",
    "             'normal'     : train_set_normal\n",
    "            }"
   ]
  },
  {
   "cell_type": "code",
   "execution_count": 113,
   "id": "60db5359",
   "metadata": {},
   "outputs": [
    {
     "data": {
      "text/html": [
       "<div>\n",
       "<style scoped>\n",
       "    .dataframe tbody tr th:only-of-type {\n",
       "        vertical-align: middle;\n",
       "    }\n",
       "\n",
       "    .dataframe tbody tr th {\n",
       "        vertical-align: top;\n",
       "    }\n",
       "\n",
       "    .dataframe thead th {\n",
       "        text-align: right;\n",
       "    }\n",
       "</style>\n",
       "<table border=\"1\" class=\"dataframe\">\n",
       "  <thead>\n",
       "    <tr style=\"text-align: right;\">\n",
       "      <th></th>\n",
       "      <th>run</th>\n",
       "      <th>epoch</th>\n",
       "      <th>loss</th>\n",
       "      <th>accuracy</th>\n",
       "      <th>epoch_duration</th>\n",
       "      <th>run_duration</th>\n",
       "      <th>lr</th>\n",
       "      <th>batch_size</th>\n",
       "      <th>num_workers</th>\n",
       "      <th>device</th>\n",
       "      <th>trainset</th>\n",
       "    </tr>\n",
       "  </thead>\n",
       "  <tbody>\n",
       "    <tr>\n",
       "      <th>0</th>\n",
       "      <td>1</td>\n",
       "      <td>1</td>\n",
       "      <td>0.989615</td>\n",
       "      <td>0.616217</td>\n",
       "      <td>3.840720</td>\n",
       "      <td>4.265491</td>\n",
       "      <td>0.010</td>\n",
       "      <td>1000</td>\n",
       "      <td>0</td>\n",
       "      <td>cuda</td>\n",
       "      <td>not_normal</td>\n",
       "    </tr>\n",
       "    <tr>\n",
       "      <th>1</th>\n",
       "      <td>2</td>\n",
       "      <td>1</td>\n",
       "      <td>0.871951</td>\n",
       "      <td>0.667783</td>\n",
       "      <td>6.115403</td>\n",
       "      <td>6.565893</td>\n",
       "      <td>0.010</td>\n",
       "      <td>1000</td>\n",
       "      <td>0</td>\n",
       "      <td>cuda</td>\n",
       "      <td>normal</td>\n",
       "    </tr>\n",
       "    <tr>\n",
       "      <th>2</th>\n",
       "      <td>3</td>\n",
       "      <td>1</td>\n",
       "      <td>1.053668</td>\n",
       "      <td>0.602500</td>\n",
       "      <td>6.120660</td>\n",
       "      <td>6.555714</td>\n",
       "      <td>0.010</td>\n",
       "      <td>1000</td>\n",
       "      <td>0</td>\n",
       "      <td>cpu</td>\n",
       "      <td>not_normal</td>\n",
       "    </tr>\n",
       "    <tr>\n",
       "      <th>3</th>\n",
       "      <td>4</td>\n",
       "      <td>1</td>\n",
       "      <td>0.855311</td>\n",
       "      <td>0.673333</td>\n",
       "      <td>12.753654</td>\n",
       "      <td>13.239458</td>\n",
       "      <td>0.010</td>\n",
       "      <td>1000</td>\n",
       "      <td>0</td>\n",
       "      <td>cpu</td>\n",
       "      <td>normal</td>\n",
       "    </tr>\n",
       "    <tr>\n",
       "      <th>4</th>\n",
       "      <td>5</td>\n",
       "      <td>1</td>\n",
       "      <td>1.003936</td>\n",
       "      <td>0.618900</td>\n",
       "      <td>3.917075</td>\n",
       "      <td>4.501331</td>\n",
       "      <td>0.010</td>\n",
       "      <td>1000</td>\n",
       "      <td>1</td>\n",
       "      <td>cuda</td>\n",
       "      <td>not_normal</td>\n",
       "    </tr>\n",
       "    <tr>\n",
       "      <th>5</th>\n",
       "      <td>6</td>\n",
       "      <td>1</td>\n",
       "      <td>0.863000</td>\n",
       "      <td>0.664900</td>\n",
       "      <td>7.776800</td>\n",
       "      <td>8.504824</td>\n",
       "      <td>0.010</td>\n",
       "      <td>1000</td>\n",
       "      <td>1</td>\n",
       "      <td>cuda</td>\n",
       "      <td>normal</td>\n",
       "    </tr>\n",
       "    <tr>\n",
       "      <th>6</th>\n",
       "      <td>7</td>\n",
       "      <td>1</td>\n",
       "      <td>1.101759</td>\n",
       "      <td>0.582883</td>\n",
       "      <td>5.661889</td>\n",
       "      <td>6.326123</td>\n",
       "      <td>0.010</td>\n",
       "      <td>1000</td>\n",
       "      <td>1</td>\n",
       "      <td>cpu</td>\n",
       "      <td>not_normal</td>\n",
       "    </tr>\n",
       "    <tr>\n",
       "      <th>7</th>\n",
       "      <td>8</td>\n",
       "      <td>1</td>\n",
       "      <td>0.907283</td>\n",
       "      <td>0.664283</td>\n",
       "      <td>8.918746</td>\n",
       "      <td>9.701311</td>\n",
       "      <td>0.010</td>\n",
       "      <td>1000</td>\n",
       "      <td>1</td>\n",
       "      <td>cpu</td>\n",
       "      <td>normal</td>\n",
       "    </tr>\n",
       "    <tr>\n",
       "      <th>8</th>\n",
       "      <td>9</td>\n",
       "      <td>1</td>\n",
       "      <td>1.319859</td>\n",
       "      <td>0.503000</td>\n",
       "      <td>3.900014</td>\n",
       "      <td>4.601286</td>\n",
       "      <td>0.010</td>\n",
       "      <td>2000</td>\n",
       "      <td>0</td>\n",
       "      <td>cuda</td>\n",
       "      <td>not_normal</td>\n",
       "    </tr>\n",
       "    <tr>\n",
       "      <th>9</th>\n",
       "      <td>10</td>\n",
       "      <td>1</td>\n",
       "      <td>1.179991</td>\n",
       "      <td>0.572917</td>\n",
       "      <td>6.416392</td>\n",
       "      <td>7.235900</td>\n",
       "      <td>0.010</td>\n",
       "      <td>2000</td>\n",
       "      <td>0</td>\n",
       "      <td>cuda</td>\n",
       "      <td>normal</td>\n",
       "    </tr>\n",
       "    <tr>\n",
       "      <th>10</th>\n",
       "      <td>11</td>\n",
       "      <td>1</td>\n",
       "      <td>1.312729</td>\n",
       "      <td>0.498483</td>\n",
       "      <td>6.467332</td>\n",
       "      <td>7.283544</td>\n",
       "      <td>0.010</td>\n",
       "      <td>2000</td>\n",
       "      <td>0</td>\n",
       "      <td>cpu</td>\n",
       "      <td>not_normal</td>\n",
       "    </tr>\n",
       "    <tr>\n",
       "      <th>11</th>\n",
       "      <td>12</td>\n",
       "      <td>1</td>\n",
       "      <td>1.110403</td>\n",
       "      <td>0.570750</td>\n",
       "      <td>9.255983</td>\n",
       "      <td>10.237318</td>\n",
       "      <td>0.010</td>\n",
       "      <td>2000</td>\n",
       "      <td>0</td>\n",
       "      <td>cpu</td>\n",
       "      <td>normal</td>\n",
       "    </tr>\n",
       "    <tr>\n",
       "      <th>12</th>\n",
       "      <td>13</td>\n",
       "      <td>1</td>\n",
       "      <td>1.139984</td>\n",
       "      <td>0.575583</td>\n",
       "      <td>3.801749</td>\n",
       "      <td>4.809407</td>\n",
       "      <td>0.010</td>\n",
       "      <td>2000</td>\n",
       "      <td>1</td>\n",
       "      <td>cuda</td>\n",
       "      <td>not_normal</td>\n",
       "    </tr>\n",
       "    <tr>\n",
       "      <th>13</th>\n",
       "      <td>14</td>\n",
       "      <td>1</td>\n",
       "      <td>1.154198</td>\n",
       "      <td>0.578983</td>\n",
       "      <td>7.321631</td>\n",
       "      <td>8.508267</td>\n",
       "      <td>0.010</td>\n",
       "      <td>2000</td>\n",
       "      <td>1</td>\n",
       "      <td>cuda</td>\n",
       "      <td>normal</td>\n",
       "    </tr>\n",
       "    <tr>\n",
       "      <th>14</th>\n",
       "      <td>15</td>\n",
       "      <td>1</td>\n",
       "      <td>1.239298</td>\n",
       "      <td>0.541317</td>\n",
       "      <td>5.096065</td>\n",
       "      <td>6.258271</td>\n",
       "      <td>0.010</td>\n",
       "      <td>2000</td>\n",
       "      <td>1</td>\n",
       "      <td>cpu</td>\n",
       "      <td>not_normal</td>\n",
       "    </tr>\n",
       "    <tr>\n",
       "      <th>15</th>\n",
       "      <td>16</td>\n",
       "      <td>1</td>\n",
       "      <td>1.154511</td>\n",
       "      <td>0.556833</td>\n",
       "      <td>7.932462</td>\n",
       "      <td>9.232067</td>\n",
       "      <td>0.010</td>\n",
       "      <td>2000</td>\n",
       "      <td>1</td>\n",
       "      <td>cpu</td>\n",
       "      <td>normal</td>\n",
       "    </tr>\n",
       "    <tr>\n",
       "      <th>16</th>\n",
       "      <td>17</td>\n",
       "      <td>1</td>\n",
       "      <td>1.452742</td>\n",
       "      <td>0.493067</td>\n",
       "      <td>3.932960</td>\n",
       "      <td>4.334695</td>\n",
       "      <td>0.001</td>\n",
       "      <td>1000</td>\n",
       "      <td>0</td>\n",
       "      <td>cuda</td>\n",
       "      <td>not_normal</td>\n",
       "    </tr>\n",
       "    <tr>\n",
       "      <th>17</th>\n",
       "      <td>18</td>\n",
       "      <td>1</td>\n",
       "      <td>1.347051</td>\n",
       "      <td>0.514050</td>\n",
       "      <td>6.794163</td>\n",
       "      <td>7.259129</td>\n",
       "      <td>0.001</td>\n",
       "      <td>1000</td>\n",
       "      <td>0</td>\n",
       "      <td>cuda</td>\n",
       "      <td>normal</td>\n",
       "    </tr>\n",
       "    <tr>\n",
       "      <th>18</th>\n",
       "      <td>19</td>\n",
       "      <td>1</td>\n",
       "      <td>1.574222</td>\n",
       "      <td>0.448267</td>\n",
       "      <td>7.094396</td>\n",
       "      <td>7.535006</td>\n",
       "      <td>0.001</td>\n",
       "      <td>1000</td>\n",
       "      <td>0</td>\n",
       "      <td>cpu</td>\n",
       "      <td>not_normal</td>\n",
       "    </tr>\n",
       "    <tr>\n",
       "      <th>19</th>\n",
       "      <td>20</td>\n",
       "      <td>1</td>\n",
       "      <td>1.306481</td>\n",
       "      <td>0.560083</td>\n",
       "      <td>11.364862</td>\n",
       "      <td>12.117542</td>\n",
       "      <td>0.001</td>\n",
       "      <td>1000</td>\n",
       "      <td>0</td>\n",
       "      <td>cpu</td>\n",
       "      <td>normal</td>\n",
       "    </tr>\n",
       "    <tr>\n",
       "      <th>20</th>\n",
       "      <td>21</td>\n",
       "      <td>1</td>\n",
       "      <td>1.555060</td>\n",
       "      <td>0.425633</td>\n",
       "      <td>4.622077</td>\n",
       "      <td>5.234745</td>\n",
       "      <td>0.001</td>\n",
       "      <td>1000</td>\n",
       "      <td>1</td>\n",
       "      <td>cuda</td>\n",
       "      <td>not_normal</td>\n",
       "    </tr>\n",
       "    <tr>\n",
       "      <th>21</th>\n",
       "      <td>22</td>\n",
       "      <td>1</td>\n",
       "      <td>1.390546</td>\n",
       "      <td>0.487700</td>\n",
       "      <td>9.102102</td>\n",
       "      <td>9.925227</td>\n",
       "      <td>0.001</td>\n",
       "      <td>1000</td>\n",
       "      <td>1</td>\n",
       "      <td>cuda</td>\n",
       "      <td>normal</td>\n",
       "    </tr>\n",
       "    <tr>\n",
       "      <th>22</th>\n",
       "      <td>23</td>\n",
       "      <td>1</td>\n",
       "      <td>1.532705</td>\n",
       "      <td>0.443217</td>\n",
       "      <td>5.758011</td>\n",
       "      <td>6.517259</td>\n",
       "      <td>0.001</td>\n",
       "      <td>1000</td>\n",
       "      <td>1</td>\n",
       "      <td>cpu</td>\n",
       "      <td>not_normal</td>\n",
       "    </tr>\n",
       "    <tr>\n",
       "      <th>23</th>\n",
       "      <td>24</td>\n",
       "      <td>1</td>\n",
       "      <td>1.354716</td>\n",
       "      <td>0.559450</td>\n",
       "      <td>9.633678</td>\n",
       "      <td>10.712564</td>\n",
       "      <td>0.001</td>\n",
       "      <td>1000</td>\n",
       "      <td>1</td>\n",
       "      <td>cpu</td>\n",
       "      <td>normal</td>\n",
       "    </tr>\n",
       "    <tr>\n",
       "      <th>24</th>\n",
       "      <td>25</td>\n",
       "      <td>1</td>\n",
       "      <td>2.105231</td>\n",
       "      <td>0.333817</td>\n",
       "      <td>4.114037</td>\n",
       "      <td>4.931656</td>\n",
       "      <td>0.001</td>\n",
       "      <td>2000</td>\n",
       "      <td>0</td>\n",
       "      <td>cuda</td>\n",
       "      <td>not_normal</td>\n",
       "    </tr>\n",
       "    <tr>\n",
       "      <th>25</th>\n",
       "      <td>26</td>\n",
       "      <td>1</td>\n",
       "      <td>1.732263</td>\n",
       "      <td>0.445500</td>\n",
       "      <td>6.297165</td>\n",
       "      <td>7.122715</td>\n",
       "      <td>0.001</td>\n",
       "      <td>2000</td>\n",
       "      <td>0</td>\n",
       "      <td>cuda</td>\n",
       "      <td>normal</td>\n",
       "    </tr>\n",
       "    <tr>\n",
       "      <th>26</th>\n",
       "      <td>27</td>\n",
       "      <td>1</td>\n",
       "      <td>2.090202</td>\n",
       "      <td>0.298817</td>\n",
       "      <td>5.885962</td>\n",
       "      <td>6.724074</td>\n",
       "      <td>0.001</td>\n",
       "      <td>2000</td>\n",
       "      <td>0</td>\n",
       "      <td>cpu</td>\n",
       "      <td>not_normal</td>\n",
       "    </tr>\n",
       "    <tr>\n",
       "      <th>27</th>\n",
       "      <td>28</td>\n",
       "      <td>1</td>\n",
       "      <td>1.791774</td>\n",
       "      <td>0.411950</td>\n",
       "      <td>9.845157</td>\n",
       "      <td>10.751480</td>\n",
       "      <td>0.001</td>\n",
       "      <td>2000</td>\n",
       "      <td>0</td>\n",
       "      <td>cpu</td>\n",
       "      <td>normal</td>\n",
       "    </tr>\n",
       "    <tr>\n",
       "      <th>28</th>\n",
       "      <td>29</td>\n",
       "      <td>1</td>\n",
       "      <td>1.994486</td>\n",
       "      <td>0.335867</td>\n",
       "      <td>3.716321</td>\n",
       "      <td>4.763630</td>\n",
       "      <td>0.001</td>\n",
       "      <td>2000</td>\n",
       "      <td>1</td>\n",
       "      <td>cuda</td>\n",
       "      <td>not_normal</td>\n",
       "    </tr>\n",
       "    <tr>\n",
       "      <th>29</th>\n",
       "      <td>30</td>\n",
       "      <td>1</td>\n",
       "      <td>1.858760</td>\n",
       "      <td>0.373733</td>\n",
       "      <td>7.193482</td>\n",
       "      <td>8.468664</td>\n",
       "      <td>0.001</td>\n",
       "      <td>2000</td>\n",
       "      <td>1</td>\n",
       "      <td>cuda</td>\n",
       "      <td>normal</td>\n",
       "    </tr>\n",
       "    <tr>\n",
       "      <th>30</th>\n",
       "      <td>31</td>\n",
       "      <td>1</td>\n",
       "      <td>2.030030</td>\n",
       "      <td>0.296050</td>\n",
       "      <td>5.561369</td>\n",
       "      <td>6.701883</td>\n",
       "      <td>0.001</td>\n",
       "      <td>2000</td>\n",
       "      <td>1</td>\n",
       "      <td>cpu</td>\n",
       "      <td>not_normal</td>\n",
       "    </tr>\n",
       "    <tr>\n",
       "      <th>31</th>\n",
       "      <td>32</td>\n",
       "      <td>1</td>\n",
       "      <td>1.883744</td>\n",
       "      <td>0.411733</td>\n",
       "      <td>7.783154</td>\n",
       "      <td>9.250893</td>\n",
       "      <td>0.001</td>\n",
       "      <td>2000</td>\n",
       "      <td>1</td>\n",
       "      <td>cpu</td>\n",
       "      <td>normal</td>\n",
       "    </tr>\n",
       "  </tbody>\n",
       "</table>\n",
       "</div>"
      ],
      "text/plain": [
       "    run  epoch      loss  accuracy  epoch_duration  run_duration     lr  \\\n",
       "0     1      1  0.989615  0.616217        3.840720      4.265491  0.010   \n",
       "1     2      1  0.871951  0.667783        6.115403      6.565893  0.010   \n",
       "2     3      1  1.053668  0.602500        6.120660      6.555714  0.010   \n",
       "3     4      1  0.855311  0.673333       12.753654     13.239458  0.010   \n",
       "4     5      1  1.003936  0.618900        3.917075      4.501331  0.010   \n",
       "5     6      1  0.863000  0.664900        7.776800      8.504824  0.010   \n",
       "6     7      1  1.101759  0.582883        5.661889      6.326123  0.010   \n",
       "7     8      1  0.907283  0.664283        8.918746      9.701311  0.010   \n",
       "8     9      1  1.319859  0.503000        3.900014      4.601286  0.010   \n",
       "9    10      1  1.179991  0.572917        6.416392      7.235900  0.010   \n",
       "10   11      1  1.312729  0.498483        6.467332      7.283544  0.010   \n",
       "11   12      1  1.110403  0.570750        9.255983     10.237318  0.010   \n",
       "12   13      1  1.139984  0.575583        3.801749      4.809407  0.010   \n",
       "13   14      1  1.154198  0.578983        7.321631      8.508267  0.010   \n",
       "14   15      1  1.239298  0.541317        5.096065      6.258271  0.010   \n",
       "15   16      1  1.154511  0.556833        7.932462      9.232067  0.010   \n",
       "16   17      1  1.452742  0.493067        3.932960      4.334695  0.001   \n",
       "17   18      1  1.347051  0.514050        6.794163      7.259129  0.001   \n",
       "18   19      1  1.574222  0.448267        7.094396      7.535006  0.001   \n",
       "19   20      1  1.306481  0.560083       11.364862     12.117542  0.001   \n",
       "20   21      1  1.555060  0.425633        4.622077      5.234745  0.001   \n",
       "21   22      1  1.390546  0.487700        9.102102      9.925227  0.001   \n",
       "22   23      1  1.532705  0.443217        5.758011      6.517259  0.001   \n",
       "23   24      1  1.354716  0.559450        9.633678     10.712564  0.001   \n",
       "24   25      1  2.105231  0.333817        4.114037      4.931656  0.001   \n",
       "25   26      1  1.732263  0.445500        6.297165      7.122715  0.001   \n",
       "26   27      1  2.090202  0.298817        5.885962      6.724074  0.001   \n",
       "27   28      1  1.791774  0.411950        9.845157     10.751480  0.001   \n",
       "28   29      1  1.994486  0.335867        3.716321      4.763630  0.001   \n",
       "29   30      1  1.858760  0.373733        7.193482      8.468664  0.001   \n",
       "30   31      1  2.030030  0.296050        5.561369      6.701883  0.001   \n",
       "31   32      1  1.883744  0.411733        7.783154      9.250893  0.001   \n",
       "\n",
       "    batch_size  num_workers device    trainset  \n",
       "0         1000            0   cuda  not_normal  \n",
       "1         1000            0   cuda      normal  \n",
       "2         1000            0    cpu  not_normal  \n",
       "3         1000            0    cpu      normal  \n",
       "4         1000            1   cuda  not_normal  \n",
       "5         1000            1   cuda      normal  \n",
       "6         1000            1    cpu  not_normal  \n",
       "7         1000            1    cpu      normal  \n",
       "8         2000            0   cuda  not_normal  \n",
       "9         2000            0   cuda      normal  \n",
       "10        2000            0    cpu  not_normal  \n",
       "11        2000            0    cpu      normal  \n",
       "12        2000            1   cuda  not_normal  \n",
       "13        2000            1   cuda      normal  \n",
       "14        2000            1    cpu  not_normal  \n",
       "15        2000            1    cpu      normal  \n",
       "16        1000            0   cuda  not_normal  \n",
       "17        1000            0   cuda      normal  \n",
       "18        1000            0    cpu  not_normal  \n",
       "19        1000            0    cpu      normal  \n",
       "20        1000            1   cuda  not_normal  \n",
       "21        1000            1   cuda      normal  \n",
       "22        1000            1    cpu  not_normal  \n",
       "23        1000            1    cpu      normal  \n",
       "24        2000            0   cuda  not_normal  \n",
       "25        2000            0   cuda      normal  \n",
       "26        2000            0    cpu  not_normal  \n",
       "27        2000            0    cpu      normal  \n",
       "28        2000            1   cuda  not_normal  \n",
       "29        2000            1   cuda      normal  \n",
       "30        2000            1    cpu  not_normal  \n",
       "31        2000            1    cpu      normal  "
      ]
     },
     "metadata": {},
     "output_type": "display_data"
    }
   ],
   "source": [
    "params = OrderedDict(lr = [.01, .001], batch_size = [1000, 2000], num_workers = [0, 1], device = ['cuda', 'cpu'], trainset = ['not_normal', 'normal'])\n",
    "\n",
    "m = RunManager()\n",
    "\n",
    "for run in RunBuilder.get_runs(params):\n",
    "    \n",
    "    device    = torch.device(run.device)\n",
    "    network   = Network().to(device)\n",
    "    loader    = torch.utils.data.DataLoader(trainsets[run.trainset], batch_size = run.batch_size, num_workers = run.num_workers)\n",
    "    optimizer = optim.Adam(network.parameters(), lr = run.lr)\n",
    "    \n",
    "    m.begin_run(run, network, loader)\n",
    "    for epoch in range(1):\n",
    "        m.begin_epoch()\n",
    "        \n",
    "        for batch in loader:\n",
    "            \n",
    "            images = batch[0].to(device)\n",
    "            labels = batch[1].to(device)\n",
    "            \n",
    "            preds  = network(images)\n",
    "            loss   = F.cross_entropy(preds, labels)\n",
    "            optimizer.zero_grad()\n",
    "            loss.backward()\n",
    "            optimizer.step()\n",
    "            \n",
    "            m.track_loss(loss)\n",
    "            m.track_num_correct(preds, labels)\n",
    "        m.end_epoch()\n",
    "    m.end_run()\n",
    "    \n",
    "m.save('results_workers_test')"
   ]
  },
  {
   "cell_type": "code",
   "execution_count": 114,
   "id": "e98ffe6a",
   "metadata": {},
   "outputs": [
    {
     "data": {
      "text/html": [
       "<div>\n",
       "<style scoped>\n",
       "    .dataframe tbody tr th:only-of-type {\n",
       "        vertical-align: middle;\n",
       "    }\n",
       "\n",
       "    .dataframe tbody tr th {\n",
       "        vertical-align: top;\n",
       "    }\n",
       "\n",
       "    .dataframe thead th {\n",
       "        text-align: right;\n",
       "    }\n",
       "</style>\n",
       "<table border=\"1\" class=\"dataframe\">\n",
       "  <thead>\n",
       "    <tr style=\"text-align: right;\">\n",
       "      <th></th>\n",
       "      <th>run</th>\n",
       "      <th>epoch</th>\n",
       "      <th>loss</th>\n",
       "      <th>accuracy</th>\n",
       "      <th>epoch_duration</th>\n",
       "      <th>run_duration</th>\n",
       "      <th>lr</th>\n",
       "      <th>batch_size</th>\n",
       "      <th>num_workers</th>\n",
       "      <th>device</th>\n",
       "      <th>trainset</th>\n",
       "    </tr>\n",
       "  </thead>\n",
       "  <tbody>\n",
       "    <tr>\n",
       "      <th>3</th>\n",
       "      <td>4</td>\n",
       "      <td>1</td>\n",
       "      <td>0.855311</td>\n",
       "      <td>0.673333</td>\n",
       "      <td>12.753654</td>\n",
       "      <td>13.239458</td>\n",
       "      <td>0.010</td>\n",
       "      <td>1000</td>\n",
       "      <td>0</td>\n",
       "      <td>cpu</td>\n",
       "      <td>normal</td>\n",
       "    </tr>\n",
       "    <tr>\n",
       "      <th>1</th>\n",
       "      <td>2</td>\n",
       "      <td>1</td>\n",
       "      <td>0.871951</td>\n",
       "      <td>0.667783</td>\n",
       "      <td>6.115403</td>\n",
       "      <td>6.565893</td>\n",
       "      <td>0.010</td>\n",
       "      <td>1000</td>\n",
       "      <td>0</td>\n",
       "      <td>cuda</td>\n",
       "      <td>normal</td>\n",
       "    </tr>\n",
       "    <tr>\n",
       "      <th>5</th>\n",
       "      <td>6</td>\n",
       "      <td>1</td>\n",
       "      <td>0.863000</td>\n",
       "      <td>0.664900</td>\n",
       "      <td>7.776800</td>\n",
       "      <td>8.504824</td>\n",
       "      <td>0.010</td>\n",
       "      <td>1000</td>\n",
       "      <td>1</td>\n",
       "      <td>cuda</td>\n",
       "      <td>normal</td>\n",
       "    </tr>\n",
       "    <tr>\n",
       "      <th>7</th>\n",
       "      <td>8</td>\n",
       "      <td>1</td>\n",
       "      <td>0.907283</td>\n",
       "      <td>0.664283</td>\n",
       "      <td>8.918746</td>\n",
       "      <td>9.701311</td>\n",
       "      <td>0.010</td>\n",
       "      <td>1000</td>\n",
       "      <td>1</td>\n",
       "      <td>cpu</td>\n",
       "      <td>normal</td>\n",
       "    </tr>\n",
       "    <tr>\n",
       "      <th>4</th>\n",
       "      <td>5</td>\n",
       "      <td>1</td>\n",
       "      <td>1.003936</td>\n",
       "      <td>0.618900</td>\n",
       "      <td>3.917075</td>\n",
       "      <td>4.501331</td>\n",
       "      <td>0.010</td>\n",
       "      <td>1000</td>\n",
       "      <td>1</td>\n",
       "      <td>cuda</td>\n",
       "      <td>not_normal</td>\n",
       "    </tr>\n",
       "    <tr>\n",
       "      <th>0</th>\n",
       "      <td>1</td>\n",
       "      <td>1</td>\n",
       "      <td>0.989615</td>\n",
       "      <td>0.616217</td>\n",
       "      <td>3.840720</td>\n",
       "      <td>4.265491</td>\n",
       "      <td>0.010</td>\n",
       "      <td>1000</td>\n",
       "      <td>0</td>\n",
       "      <td>cuda</td>\n",
       "      <td>not_normal</td>\n",
       "    </tr>\n",
       "    <tr>\n",
       "      <th>2</th>\n",
       "      <td>3</td>\n",
       "      <td>1</td>\n",
       "      <td>1.053668</td>\n",
       "      <td>0.602500</td>\n",
       "      <td>6.120660</td>\n",
       "      <td>6.555714</td>\n",
       "      <td>0.010</td>\n",
       "      <td>1000</td>\n",
       "      <td>0</td>\n",
       "      <td>cpu</td>\n",
       "      <td>not_normal</td>\n",
       "    </tr>\n",
       "    <tr>\n",
       "      <th>6</th>\n",
       "      <td>7</td>\n",
       "      <td>1</td>\n",
       "      <td>1.101759</td>\n",
       "      <td>0.582883</td>\n",
       "      <td>5.661889</td>\n",
       "      <td>6.326123</td>\n",
       "      <td>0.010</td>\n",
       "      <td>1000</td>\n",
       "      <td>1</td>\n",
       "      <td>cpu</td>\n",
       "      <td>not_normal</td>\n",
       "    </tr>\n",
       "    <tr>\n",
       "      <th>13</th>\n",
       "      <td>14</td>\n",
       "      <td>1</td>\n",
       "      <td>1.154198</td>\n",
       "      <td>0.578983</td>\n",
       "      <td>7.321631</td>\n",
       "      <td>8.508267</td>\n",
       "      <td>0.010</td>\n",
       "      <td>2000</td>\n",
       "      <td>1</td>\n",
       "      <td>cuda</td>\n",
       "      <td>normal</td>\n",
       "    </tr>\n",
       "    <tr>\n",
       "      <th>12</th>\n",
       "      <td>13</td>\n",
       "      <td>1</td>\n",
       "      <td>1.139984</td>\n",
       "      <td>0.575583</td>\n",
       "      <td>3.801749</td>\n",
       "      <td>4.809407</td>\n",
       "      <td>0.010</td>\n",
       "      <td>2000</td>\n",
       "      <td>1</td>\n",
       "      <td>cuda</td>\n",
       "      <td>not_normal</td>\n",
       "    </tr>\n",
       "    <tr>\n",
       "      <th>9</th>\n",
       "      <td>10</td>\n",
       "      <td>1</td>\n",
       "      <td>1.179991</td>\n",
       "      <td>0.572917</td>\n",
       "      <td>6.416392</td>\n",
       "      <td>7.235900</td>\n",
       "      <td>0.010</td>\n",
       "      <td>2000</td>\n",
       "      <td>0</td>\n",
       "      <td>cuda</td>\n",
       "      <td>normal</td>\n",
       "    </tr>\n",
       "    <tr>\n",
       "      <th>11</th>\n",
       "      <td>12</td>\n",
       "      <td>1</td>\n",
       "      <td>1.110403</td>\n",
       "      <td>0.570750</td>\n",
       "      <td>9.255983</td>\n",
       "      <td>10.237318</td>\n",
       "      <td>0.010</td>\n",
       "      <td>2000</td>\n",
       "      <td>0</td>\n",
       "      <td>cpu</td>\n",
       "      <td>normal</td>\n",
       "    </tr>\n",
       "    <tr>\n",
       "      <th>19</th>\n",
       "      <td>20</td>\n",
       "      <td>1</td>\n",
       "      <td>1.306481</td>\n",
       "      <td>0.560083</td>\n",
       "      <td>11.364862</td>\n",
       "      <td>12.117542</td>\n",
       "      <td>0.001</td>\n",
       "      <td>1000</td>\n",
       "      <td>0</td>\n",
       "      <td>cpu</td>\n",
       "      <td>normal</td>\n",
       "    </tr>\n",
       "    <tr>\n",
       "      <th>23</th>\n",
       "      <td>24</td>\n",
       "      <td>1</td>\n",
       "      <td>1.354716</td>\n",
       "      <td>0.559450</td>\n",
       "      <td>9.633678</td>\n",
       "      <td>10.712564</td>\n",
       "      <td>0.001</td>\n",
       "      <td>1000</td>\n",
       "      <td>1</td>\n",
       "      <td>cpu</td>\n",
       "      <td>normal</td>\n",
       "    </tr>\n",
       "    <tr>\n",
       "      <th>15</th>\n",
       "      <td>16</td>\n",
       "      <td>1</td>\n",
       "      <td>1.154511</td>\n",
       "      <td>0.556833</td>\n",
       "      <td>7.932462</td>\n",
       "      <td>9.232067</td>\n",
       "      <td>0.010</td>\n",
       "      <td>2000</td>\n",
       "      <td>1</td>\n",
       "      <td>cpu</td>\n",
       "      <td>normal</td>\n",
       "    </tr>\n",
       "    <tr>\n",
       "      <th>14</th>\n",
       "      <td>15</td>\n",
       "      <td>1</td>\n",
       "      <td>1.239298</td>\n",
       "      <td>0.541317</td>\n",
       "      <td>5.096065</td>\n",
       "      <td>6.258271</td>\n",
       "      <td>0.010</td>\n",
       "      <td>2000</td>\n",
       "      <td>1</td>\n",
       "      <td>cpu</td>\n",
       "      <td>not_normal</td>\n",
       "    </tr>\n",
       "    <tr>\n",
       "      <th>17</th>\n",
       "      <td>18</td>\n",
       "      <td>1</td>\n",
       "      <td>1.347051</td>\n",
       "      <td>0.514050</td>\n",
       "      <td>6.794163</td>\n",
       "      <td>7.259129</td>\n",
       "      <td>0.001</td>\n",
       "      <td>1000</td>\n",
       "      <td>0</td>\n",
       "      <td>cuda</td>\n",
       "      <td>normal</td>\n",
       "    </tr>\n",
       "    <tr>\n",
       "      <th>8</th>\n",
       "      <td>9</td>\n",
       "      <td>1</td>\n",
       "      <td>1.319859</td>\n",
       "      <td>0.503000</td>\n",
       "      <td>3.900014</td>\n",
       "      <td>4.601286</td>\n",
       "      <td>0.010</td>\n",
       "      <td>2000</td>\n",
       "      <td>0</td>\n",
       "      <td>cuda</td>\n",
       "      <td>not_normal</td>\n",
       "    </tr>\n",
       "    <tr>\n",
       "      <th>10</th>\n",
       "      <td>11</td>\n",
       "      <td>1</td>\n",
       "      <td>1.312729</td>\n",
       "      <td>0.498483</td>\n",
       "      <td>6.467332</td>\n",
       "      <td>7.283544</td>\n",
       "      <td>0.010</td>\n",
       "      <td>2000</td>\n",
       "      <td>0</td>\n",
       "      <td>cpu</td>\n",
       "      <td>not_normal</td>\n",
       "    </tr>\n",
       "    <tr>\n",
       "      <th>16</th>\n",
       "      <td>17</td>\n",
       "      <td>1</td>\n",
       "      <td>1.452742</td>\n",
       "      <td>0.493067</td>\n",
       "      <td>3.932960</td>\n",
       "      <td>4.334695</td>\n",
       "      <td>0.001</td>\n",
       "      <td>1000</td>\n",
       "      <td>0</td>\n",
       "      <td>cuda</td>\n",
       "      <td>not_normal</td>\n",
       "    </tr>\n",
       "    <tr>\n",
       "      <th>21</th>\n",
       "      <td>22</td>\n",
       "      <td>1</td>\n",
       "      <td>1.390546</td>\n",
       "      <td>0.487700</td>\n",
       "      <td>9.102102</td>\n",
       "      <td>9.925227</td>\n",
       "      <td>0.001</td>\n",
       "      <td>1000</td>\n",
       "      <td>1</td>\n",
       "      <td>cuda</td>\n",
       "      <td>normal</td>\n",
       "    </tr>\n",
       "    <tr>\n",
       "      <th>18</th>\n",
       "      <td>19</td>\n",
       "      <td>1</td>\n",
       "      <td>1.574222</td>\n",
       "      <td>0.448267</td>\n",
       "      <td>7.094396</td>\n",
       "      <td>7.535006</td>\n",
       "      <td>0.001</td>\n",
       "      <td>1000</td>\n",
       "      <td>0</td>\n",
       "      <td>cpu</td>\n",
       "      <td>not_normal</td>\n",
       "    </tr>\n",
       "    <tr>\n",
       "      <th>25</th>\n",
       "      <td>26</td>\n",
       "      <td>1</td>\n",
       "      <td>1.732263</td>\n",
       "      <td>0.445500</td>\n",
       "      <td>6.297165</td>\n",
       "      <td>7.122715</td>\n",
       "      <td>0.001</td>\n",
       "      <td>2000</td>\n",
       "      <td>0</td>\n",
       "      <td>cuda</td>\n",
       "      <td>normal</td>\n",
       "    </tr>\n",
       "    <tr>\n",
       "      <th>22</th>\n",
       "      <td>23</td>\n",
       "      <td>1</td>\n",
       "      <td>1.532705</td>\n",
       "      <td>0.443217</td>\n",
       "      <td>5.758011</td>\n",
       "      <td>6.517259</td>\n",
       "      <td>0.001</td>\n",
       "      <td>1000</td>\n",
       "      <td>1</td>\n",
       "      <td>cpu</td>\n",
       "      <td>not_normal</td>\n",
       "    </tr>\n",
       "    <tr>\n",
       "      <th>20</th>\n",
       "      <td>21</td>\n",
       "      <td>1</td>\n",
       "      <td>1.555060</td>\n",
       "      <td>0.425633</td>\n",
       "      <td>4.622077</td>\n",
       "      <td>5.234745</td>\n",
       "      <td>0.001</td>\n",
       "      <td>1000</td>\n",
       "      <td>1</td>\n",
       "      <td>cuda</td>\n",
       "      <td>not_normal</td>\n",
       "    </tr>\n",
       "    <tr>\n",
       "      <th>27</th>\n",
       "      <td>28</td>\n",
       "      <td>1</td>\n",
       "      <td>1.791774</td>\n",
       "      <td>0.411950</td>\n",
       "      <td>9.845157</td>\n",
       "      <td>10.751480</td>\n",
       "      <td>0.001</td>\n",
       "      <td>2000</td>\n",
       "      <td>0</td>\n",
       "      <td>cpu</td>\n",
       "      <td>normal</td>\n",
       "    </tr>\n",
       "    <tr>\n",
       "      <th>31</th>\n",
       "      <td>32</td>\n",
       "      <td>1</td>\n",
       "      <td>1.883744</td>\n",
       "      <td>0.411733</td>\n",
       "      <td>7.783154</td>\n",
       "      <td>9.250893</td>\n",
       "      <td>0.001</td>\n",
       "      <td>2000</td>\n",
       "      <td>1</td>\n",
       "      <td>cpu</td>\n",
       "      <td>normal</td>\n",
       "    </tr>\n",
       "    <tr>\n",
       "      <th>29</th>\n",
       "      <td>30</td>\n",
       "      <td>1</td>\n",
       "      <td>1.858760</td>\n",
       "      <td>0.373733</td>\n",
       "      <td>7.193482</td>\n",
       "      <td>8.468664</td>\n",
       "      <td>0.001</td>\n",
       "      <td>2000</td>\n",
       "      <td>1</td>\n",
       "      <td>cuda</td>\n",
       "      <td>normal</td>\n",
       "    </tr>\n",
       "    <tr>\n",
       "      <th>28</th>\n",
       "      <td>29</td>\n",
       "      <td>1</td>\n",
       "      <td>1.994486</td>\n",
       "      <td>0.335867</td>\n",
       "      <td>3.716321</td>\n",
       "      <td>4.763630</td>\n",
       "      <td>0.001</td>\n",
       "      <td>2000</td>\n",
       "      <td>1</td>\n",
       "      <td>cuda</td>\n",
       "      <td>not_normal</td>\n",
       "    </tr>\n",
       "    <tr>\n",
       "      <th>24</th>\n",
       "      <td>25</td>\n",
       "      <td>1</td>\n",
       "      <td>2.105231</td>\n",
       "      <td>0.333817</td>\n",
       "      <td>4.114037</td>\n",
       "      <td>4.931656</td>\n",
       "      <td>0.001</td>\n",
       "      <td>2000</td>\n",
       "      <td>0</td>\n",
       "      <td>cuda</td>\n",
       "      <td>not_normal</td>\n",
       "    </tr>\n",
       "    <tr>\n",
       "      <th>26</th>\n",
       "      <td>27</td>\n",
       "      <td>1</td>\n",
       "      <td>2.090202</td>\n",
       "      <td>0.298817</td>\n",
       "      <td>5.885962</td>\n",
       "      <td>6.724074</td>\n",
       "      <td>0.001</td>\n",
       "      <td>2000</td>\n",
       "      <td>0</td>\n",
       "      <td>cpu</td>\n",
       "      <td>not_normal</td>\n",
       "    </tr>\n",
       "    <tr>\n",
       "      <th>30</th>\n",
       "      <td>31</td>\n",
       "      <td>1</td>\n",
       "      <td>2.030030</td>\n",
       "      <td>0.296050</td>\n",
       "      <td>5.561369</td>\n",
       "      <td>6.701883</td>\n",
       "      <td>0.001</td>\n",
       "      <td>2000</td>\n",
       "      <td>1</td>\n",
       "      <td>cpu</td>\n",
       "      <td>not_normal</td>\n",
       "    </tr>\n",
       "  </tbody>\n",
       "</table>\n",
       "</div>"
      ],
      "text/plain": [
       "    run  epoch      loss  accuracy  epoch_duration  run_duration     lr  \\\n",
       "3     4      1  0.855311  0.673333       12.753654     13.239458  0.010   \n",
       "1     2      1  0.871951  0.667783        6.115403      6.565893  0.010   \n",
       "5     6      1  0.863000  0.664900        7.776800      8.504824  0.010   \n",
       "7     8      1  0.907283  0.664283        8.918746      9.701311  0.010   \n",
       "4     5      1  1.003936  0.618900        3.917075      4.501331  0.010   \n",
       "0     1      1  0.989615  0.616217        3.840720      4.265491  0.010   \n",
       "2     3      1  1.053668  0.602500        6.120660      6.555714  0.010   \n",
       "6     7      1  1.101759  0.582883        5.661889      6.326123  0.010   \n",
       "13   14      1  1.154198  0.578983        7.321631      8.508267  0.010   \n",
       "12   13      1  1.139984  0.575583        3.801749      4.809407  0.010   \n",
       "9    10      1  1.179991  0.572917        6.416392      7.235900  0.010   \n",
       "11   12      1  1.110403  0.570750        9.255983     10.237318  0.010   \n",
       "19   20      1  1.306481  0.560083       11.364862     12.117542  0.001   \n",
       "23   24      1  1.354716  0.559450        9.633678     10.712564  0.001   \n",
       "15   16      1  1.154511  0.556833        7.932462      9.232067  0.010   \n",
       "14   15      1  1.239298  0.541317        5.096065      6.258271  0.010   \n",
       "17   18      1  1.347051  0.514050        6.794163      7.259129  0.001   \n",
       "8     9      1  1.319859  0.503000        3.900014      4.601286  0.010   \n",
       "10   11      1  1.312729  0.498483        6.467332      7.283544  0.010   \n",
       "16   17      1  1.452742  0.493067        3.932960      4.334695  0.001   \n",
       "21   22      1  1.390546  0.487700        9.102102      9.925227  0.001   \n",
       "18   19      1  1.574222  0.448267        7.094396      7.535006  0.001   \n",
       "25   26      1  1.732263  0.445500        6.297165      7.122715  0.001   \n",
       "22   23      1  1.532705  0.443217        5.758011      6.517259  0.001   \n",
       "20   21      1  1.555060  0.425633        4.622077      5.234745  0.001   \n",
       "27   28      1  1.791774  0.411950        9.845157     10.751480  0.001   \n",
       "31   32      1  1.883744  0.411733        7.783154      9.250893  0.001   \n",
       "29   30      1  1.858760  0.373733        7.193482      8.468664  0.001   \n",
       "28   29      1  1.994486  0.335867        3.716321      4.763630  0.001   \n",
       "24   25      1  2.105231  0.333817        4.114037      4.931656  0.001   \n",
       "26   27      1  2.090202  0.298817        5.885962      6.724074  0.001   \n",
       "30   31      1  2.030030  0.296050        5.561369      6.701883  0.001   \n",
       "\n",
       "    batch_size  num_workers device    trainset  \n",
       "3         1000            0    cpu      normal  \n",
       "1         1000            0   cuda      normal  \n",
       "5         1000            1   cuda      normal  \n",
       "7         1000            1    cpu      normal  \n",
       "4         1000            1   cuda  not_normal  \n",
       "0         1000            0   cuda  not_normal  \n",
       "2         1000            0    cpu  not_normal  \n",
       "6         1000            1    cpu  not_normal  \n",
       "13        2000            1   cuda      normal  \n",
       "12        2000            1   cuda  not_normal  \n",
       "9         2000            0   cuda      normal  \n",
       "11        2000            0    cpu      normal  \n",
       "19        1000            0    cpu      normal  \n",
       "23        1000            1    cpu      normal  \n",
       "15        2000            1    cpu      normal  \n",
       "14        2000            1    cpu  not_normal  \n",
       "17        1000            0   cuda      normal  \n",
       "8         2000            0   cuda  not_normal  \n",
       "10        2000            0    cpu  not_normal  \n",
       "16        1000            0   cuda  not_normal  \n",
       "21        1000            1   cuda      normal  \n",
       "18        1000            0    cpu  not_normal  \n",
       "25        2000            0   cuda      normal  \n",
       "22        1000            1    cpu  not_normal  \n",
       "20        1000            1   cuda  not_normal  \n",
       "27        2000            0    cpu      normal  \n",
       "31        2000            1    cpu      normal  \n",
       "29        2000            1   cuda      normal  \n",
       "28        2000            1   cuda  not_normal  \n",
       "24        2000            0   cuda  not_normal  \n",
       "26        2000            0    cpu  not_normal  \n",
       "30        2000            1    cpu  not_normal  "
      ]
     },
     "execution_count": 114,
     "metadata": {},
     "output_type": "execute_result"
    }
   ],
   "source": [
    "pd.DataFrame.from_dict(m.run_data).sort_values('accuracy', ascending = False)"
   ]
  },
  {
   "cell_type": "code",
   "execution_count": 74,
   "id": "3050d34a",
   "metadata": {},
   "outputs": [],
   "source": [
    "# ----------------------------- 38 ------------------------------------"
   ]
  },
  {
   "cell_type": "code",
   "execution_count": 114,
   "id": "25129803",
   "metadata": {},
   "outputs": [
    {
     "data": {
      "text/plain": [
       "torch.Size([1, 28, 28])"
      ]
     },
     "execution_count": 114,
     "metadata": {},
     "output_type": "execute_result"
    }
   ],
   "source": [
    "image, label = train_set[0]\n",
    "image.shape"
   ]
  },
  {
   "cell_type": "code",
   "execution_count": 115,
   "id": "97171000",
   "metadata": {},
   "outputs": [
    {
     "data": {
      "text/plain": [
       "<matplotlib.image.AxesImage at 0x7fa8c2d80b20>"
      ]
     },
     "execution_count": 115,
     "metadata": {},
     "output_type": "execute_result"
    },
    {
     "data": {
      "image/png": "[encoded data removed]",
      "text/plain": [
       "<Figure size 432x288 with 1 Axes>"
      ]
     },
     "metadata": {
      "needs_background": "light"
     },
     "output_type": "display_data"
    }
   ],
   "source": [
    "plt.imshow(image.squeeze(), cmap = 'gray')"
   ]
  },
  {
   "cell_type": "code",
   "execution_count": 116,
   "id": "c7bba0f9",
   "metadata": {},
   "outputs": [
    {
     "data": {
      "text/plain": [
       "['T-shirt/top',\n",
       " 'Trouser',\n",
       " 'Pullover',\n",
       " 'Dress',\n",
       " 'Coat',\n",
       " 'Sandal',\n",
       " 'Shirt',\n",
       " 'Sneaker',\n",
       " 'Bag',\n",
       " 'Ankle boot']"
      ]
     },
     "execution_count": 116,
     "metadata": {},
     "output_type": "execute_result"
    }
   ],
   "source": [
    "train_set.classes"
   ]
  },
  {
   "cell_type": "code",
   "execution_count": 117,
   "id": "aa5080a9",
   "metadata": {},
   "outputs": [
    {
     "data": {
      "text/plain": [
       "784"
      ]
     },
     "execution_count": 117,
     "metadata": {},
     "output_type": "execute_result"
    }
   ],
   "source": [
    "in_features = image.numel()\n",
    "in_features"
   ]
  },
  {
   "cell_type": "code",
   "execution_count": 118,
   "id": "a8387e62",
   "metadata": {},
   "outputs": [],
   "source": [
    "import math"
   ]
  },
  {
   "cell_type": "code",
   "execution_count": 119,
   "id": "a5a0bdf9",
   "metadata": {},
   "outputs": [
    {
     "data": {
      "text/plain": [
       "392"
      ]
     },
     "execution_count": 119,
     "metadata": {},
     "output_type": "execute_result"
    }
   ],
   "source": [
    "out_features = math.floor(image.numel()/2)\n",
    "out_features"
   ]
  },
  {
   "cell_type": "code",
   "execution_count": 120,
   "id": "94a8a197",
   "metadata": {},
   "outputs": [
    {
     "data": {
      "text/plain": [
       "10"
      ]
     },
     "execution_count": 120,
     "metadata": {},
     "output_type": "execute_result"
    }
   ],
   "source": [
    "out_classes = len(train_set.classes)\n",
    "out_classes"
   ]
  },
  {
   "cell_type": "code",
   "execution_count": 121,
   "id": "71effe50",
   "metadata": {},
   "outputs": [],
   "source": [
    "# torch.manual_seed(50)\n",
    "network1 = nn.Sequential( nn.Flatten(start_dim = 1),\n",
    "                          nn.Linear(in_features, out_features),\n",
    "                          nn.Linear(out_features, out_classes)\n",
    "                        )"
   ]
  },
  {
   "cell_type": "code",
   "execution_count": 122,
   "id": "f68e5a01",
   "metadata": {},
   "outputs": [
    {
     "data": {
      "text/plain": [
       "torch.Size([1, 1, 28, 28])"
      ]
     },
     "execution_count": 122,
     "metadata": {},
     "output_type": "execute_result"
    }
   ],
   "source": [
    "image = image.unsqueeze(0)\n",
    "image.shape"
   ]
  },
  {
   "cell_type": "code",
   "execution_count": 123,
   "id": "677e0653",
   "metadata": {},
   "outputs": [
    {
     "data": {
      "text/plain": [
       "tensor([[ 0.3940, -0.1771, -0.1669, -0.1612, -0.1087, -0.0666,  0.0077,  0.0406,  0.0545,  0.3336]],\n",
       "       grad_fn=<AddmmBackward0>)"
      ]
     },
     "execution_count": 123,
     "metadata": {},
     "output_type": "execute_result"
    }
   ],
   "source": [
    "network1(image)"
   ]
  },
  {
   "cell_type": "code",
   "execution_count": 124,
   "id": "11ff70b6",
   "metadata": {},
   "outputs": [],
   "source": [
    "# torch.manual_seed(50)\n",
    "\n",
    "layers = OrderedDict([('flat', nn.Flatten(start_dim = 1)), ('hidden', nn.Linear(in_features, out_features)), ('output', nn.Linear(out_features, out_classes))])"
   ]
  },
  {
   "cell_type": "code",
   "execution_count": 125,
   "id": "5a509428",
   "metadata": {},
   "outputs": [
    {
     "data": {
      "text/plain": [
       "Sequential(\n",
       "  (flat): Flatten(start_dim=1, end_dim=-1)\n",
       "  (hidden): Linear(in_features=784, out_features=392, bias=True)\n",
       "  (output): Linear(in_features=392, out_features=10, bias=True)\n",
       ")"
      ]
     },
     "execution_count": 125,
     "metadata": {},
     "output_type": "execute_result"
    }
   ],
   "source": [
    "network2 = nn.Sequential(layers)\n",
    "network2"
   ]
  },
  {
   "cell_type": "code",
   "execution_count": 126,
   "id": "c1c7a5d2",
   "metadata": {},
   "outputs": [
    {
     "data": {
      "text/plain": [
       "tensor([[-0.3197, -0.1842, -0.2400, -0.1347,  0.1732, -0.0386,  0.2126,  0.3761, -0.0848,  0.0238]],\n",
       "       grad_fn=<AddmmBackward0>)"
      ]
     },
     "execution_count": 126,
     "metadata": {},
     "output_type": "execute_result"
    }
   ],
   "source": [
    "network2(image)"
   ]
  },
  {
   "cell_type": "code",
   "execution_count": 127,
   "id": "d634a5d8",
   "metadata": {},
   "outputs": [],
   "source": [
    "# torch.manual_seed(50)\n",
    "\n",
    "network3 = nn.Sequential()\n",
    "network3.add_module('flat',   nn.Flatten(start_dim = 1))\n",
    "network3.add_module('hidden', nn.Linear(in_features, out_features))\n",
    "network3.add_module('output', nn.Linear(out_features, out_classes))"
   ]
  },
  {
   "cell_type": "code",
   "execution_count": 128,
   "id": "a89d13a4",
   "metadata": {},
   "outputs": [
    {
     "data": {
      "text/plain": [
       "(tensor([[ 0.3940, -0.1771, -0.1669, -0.1612, -0.1087, -0.0666,  0.0077,  0.0406,  0.0545,  0.3336]],\n",
       "        grad_fn=<AddmmBackward0>),\n",
       " tensor([[-0.3197, -0.1842, -0.2400, -0.1347,  0.1732, -0.0386,  0.2126,  0.3761, -0.0848,  0.0238]],\n",
       "        grad_fn=<AddmmBackward0>),\n",
       " tensor([[ 0.2058,  0.1411, -0.0503,  0.2961, -0.0292, -0.2530, -0.0036, -0.2425,  0.0538,  0.0692]],\n",
       "        grad_fn=<AddmmBackward0>))"
      ]
     },
     "execution_count": 128,
     "metadata": {},
     "output_type": "execute_result"
    }
   ],
   "source": [
    "network1(image), network2(image), network3(image)"
   ]
  },
  {
   "cell_type": "code",
   "execution_count": 129,
   "id": "bd78a742",
   "metadata": {},
   "outputs": [],
   "source": [
    "# torch.manual_seed(50)\n",
    "\n",
    "layers = OrderedDict([\n",
    "    ('conv1',    nn.Conv2d(in_channels = 1, out_channels = 6, kernel_size = 5)),\n",
    "    ('relu1',    nn.ReLU()),\n",
    "    ('maxpool1', nn.MaxPool2d(kernel_size = 2, stride = 2)),\n",
    "    \n",
    "    ('conv2',    nn.Conv2d(in_channels = 6, out_channels = 12, kernel_size = 5)),\n",
    "    ('relu2',    nn.ReLU()),\n",
    "    ('maxpool2', nn.MaxPool2d(kernel_size = 2, stride = 2)),\n",
    "    \n",
    "    ('flatten',  nn.Flatten(start_dim = 1)),\n",
    "    ('fc1',      nn.Linear(in_features = 12 * 4 * 4, out_features = 120)),\n",
    "    ('relu3',    nn.ReLU()),\n",
    "    \n",
    "    ('fc2',      nn.Linear(in_features = 120, out_features = 60)),\n",
    "    ('relu3',    nn.ReLU()),\n",
    "    \n",
    "    ('out',      nn.Linear(in_features = 60, out_features = 10))\n",
    "    \n",
    "])\n",
    "\n",
    "sequential2 = nn.Sequential(layers)"
   ]
  },
  {
   "cell_type": "code",
   "execution_count": 130,
   "id": "e55c9ea6",
   "metadata": {},
   "outputs": [
    {
     "ename": "RuntimeError",
     "evalue": "Expected 4-dimensional input for 4-dimensional weight [6, 1, 5, 5], but got 3-dimensional input of size [1, 28, 28] instead",
     "output_type": "error",
     "traceback": [
      "\u001b[0;31m---------------------------------------------------------------------------\u001b[0m",
      "\u001b[0;31mRuntimeError\u001b[0m                              Traceback (most recent call last)",
      "Input \u001b[0;32mIn [130]\u001b[0m, in \u001b[0;36m<cell line: 2>\u001b[0;34m()\u001b[0m\n\u001b[1;32m      1\u001b[0m image\u001b[38;5;241m.\u001b[39msqueeze(dim \u001b[38;5;241m=\u001b[39m \u001b[38;5;241m0\u001b[39m)\u001b[38;5;241m.\u001b[39mshape\n\u001b[0;32m----> 2\u001b[0m \u001b[43msequential2\u001b[49m\u001b[43m(\u001b[49m\u001b[43mimage\u001b[49m\u001b[38;5;241;43m.\u001b[39;49m\u001b[43msqueeze\u001b[49m\u001b[43m(\u001b[49m\u001b[43mdim\u001b[49m\u001b[43m \u001b[49m\u001b[38;5;241;43m=\u001b[39;49m\u001b[43m \u001b[49m\u001b[38;5;241;43m0\u001b[39;49m\u001b[43m)\u001b[49m\u001b[43m)\u001b[49m\n",
      "File \u001b[0;32m~/miniconda3/envs/pyt2/lib/python3.8/site-packages/torch/nn/modules/module.py:1102\u001b[0m, in \u001b[0;36mModule._call_impl\u001b[0;34m(self, *input, **kwargs)\u001b[0m\n\u001b[1;32m   1098\u001b[0m \u001b[38;5;66;03m# If we don't have any hooks, we want to skip the rest of the logic in\u001b[39;00m\n\u001b[1;32m   1099\u001b[0m \u001b[38;5;66;03m# this function, and just call forward.\u001b[39;00m\n\u001b[1;32m   1100\u001b[0m \u001b[38;5;28;01mif\u001b[39;00m \u001b[38;5;129;01mnot\u001b[39;00m (\u001b[38;5;28mself\u001b[39m\u001b[38;5;241m.\u001b[39m_backward_hooks \u001b[38;5;129;01mor\u001b[39;00m \u001b[38;5;28mself\u001b[39m\u001b[38;5;241m.\u001b[39m_forward_hooks \u001b[38;5;129;01mor\u001b[39;00m \u001b[38;5;28mself\u001b[39m\u001b[38;5;241m.\u001b[39m_forward_pre_hooks \u001b[38;5;129;01mor\u001b[39;00m _global_backward_hooks\n\u001b[1;32m   1101\u001b[0m         \u001b[38;5;129;01mor\u001b[39;00m _global_forward_hooks \u001b[38;5;129;01mor\u001b[39;00m _global_forward_pre_hooks):\n\u001b[0;32m-> 1102\u001b[0m     \u001b[38;5;28;01mreturn\u001b[39;00m \u001b[43mforward_call\u001b[49m\u001b[43m(\u001b[49m\u001b[38;5;241;43m*\u001b[39;49m\u001b[38;5;28;43minput\u001b[39;49m\u001b[43m,\u001b[49m\u001b[43m \u001b[49m\u001b[38;5;241;43m*\u001b[39;49m\u001b[38;5;241;43m*\u001b[39;49m\u001b[43mkwargs\u001b[49m\u001b[43m)\u001b[49m\n\u001b[1;32m   1103\u001b[0m \u001b[38;5;66;03m# Do not call functions when jit is used\u001b[39;00m\n\u001b[1;32m   1104\u001b[0m full_backward_hooks, non_full_backward_hooks \u001b[38;5;241m=\u001b[39m [], []\n",
      "File \u001b[0;32m~/miniconda3/envs/pyt2/lib/python3.8/site-packages/torch/nn/modules/container.py:141\u001b[0m, in \u001b[0;36mSequential.forward\u001b[0;34m(self, input)\u001b[0m\n\u001b[1;32m    139\u001b[0m \u001b[38;5;28;01mdef\u001b[39;00m \u001b[38;5;21mforward\u001b[39m(\u001b[38;5;28mself\u001b[39m, \u001b[38;5;28minput\u001b[39m):\n\u001b[1;32m    140\u001b[0m     \u001b[38;5;28;01mfor\u001b[39;00m module \u001b[38;5;129;01min\u001b[39;00m \u001b[38;5;28mself\u001b[39m:\n\u001b[0;32m--> 141\u001b[0m         \u001b[38;5;28minput\u001b[39m \u001b[38;5;241m=\u001b[39m \u001b[43mmodule\u001b[49m\u001b[43m(\u001b[49m\u001b[38;5;28;43minput\u001b[39;49m\u001b[43m)\u001b[49m\n\u001b[1;32m    142\u001b[0m     \u001b[38;5;28;01mreturn\u001b[39;00m \u001b[38;5;28minput\u001b[39m\n",
      "File \u001b[0;32m~/miniconda3/envs/pyt2/lib/python3.8/site-packages/torch/nn/modules/module.py:1102\u001b[0m, in \u001b[0;36mModule._call_impl\u001b[0;34m(self, *input, **kwargs)\u001b[0m\n\u001b[1;32m   1098\u001b[0m \u001b[38;5;66;03m# If we don't have any hooks, we want to skip the rest of the logic in\u001b[39;00m\n\u001b[1;32m   1099\u001b[0m \u001b[38;5;66;03m# this function, and just call forward.\u001b[39;00m\n\u001b[1;32m   1100\u001b[0m \u001b[38;5;28;01mif\u001b[39;00m \u001b[38;5;129;01mnot\u001b[39;00m (\u001b[38;5;28mself\u001b[39m\u001b[38;5;241m.\u001b[39m_backward_hooks \u001b[38;5;129;01mor\u001b[39;00m \u001b[38;5;28mself\u001b[39m\u001b[38;5;241m.\u001b[39m_forward_hooks \u001b[38;5;129;01mor\u001b[39;00m \u001b[38;5;28mself\u001b[39m\u001b[38;5;241m.\u001b[39m_forward_pre_hooks \u001b[38;5;129;01mor\u001b[39;00m _global_backward_hooks\n\u001b[1;32m   1101\u001b[0m         \u001b[38;5;129;01mor\u001b[39;00m _global_forward_hooks \u001b[38;5;129;01mor\u001b[39;00m _global_forward_pre_hooks):\n\u001b[0;32m-> 1102\u001b[0m     \u001b[38;5;28;01mreturn\u001b[39;00m \u001b[43mforward_call\u001b[49m\u001b[43m(\u001b[49m\u001b[38;5;241;43m*\u001b[39;49m\u001b[38;5;28;43minput\u001b[39;49m\u001b[43m,\u001b[49m\u001b[43m \u001b[49m\u001b[38;5;241;43m*\u001b[39;49m\u001b[38;5;241;43m*\u001b[39;49m\u001b[43mkwargs\u001b[49m\u001b[43m)\u001b[49m\n\u001b[1;32m   1103\u001b[0m \u001b[38;5;66;03m# Do not call functions when jit is used\u001b[39;00m\n\u001b[1;32m   1104\u001b[0m full_backward_hooks, non_full_backward_hooks \u001b[38;5;241m=\u001b[39m [], []\n",
      "File \u001b[0;32m~/miniconda3/envs/pyt2/lib/python3.8/site-packages/torch/nn/modules/conv.py:446\u001b[0m, in \u001b[0;36mConv2d.forward\u001b[0;34m(self, input)\u001b[0m\n\u001b[1;32m    445\u001b[0m \u001b[38;5;28;01mdef\u001b[39;00m \u001b[38;5;21mforward\u001b[39m(\u001b[38;5;28mself\u001b[39m, \u001b[38;5;28minput\u001b[39m: Tensor) \u001b[38;5;241m-\u001b[39m\u001b[38;5;241m>\u001b[39m Tensor:\n\u001b[0;32m--> 446\u001b[0m     \u001b[38;5;28;01mreturn\u001b[39;00m \u001b[38;5;28;43mself\u001b[39;49m\u001b[38;5;241;43m.\u001b[39;49m\u001b[43m_conv_forward\u001b[49m\u001b[43m(\u001b[49m\u001b[38;5;28;43minput\u001b[39;49m\u001b[43m,\u001b[49m\u001b[43m \u001b[49m\u001b[38;5;28;43mself\u001b[39;49m\u001b[38;5;241;43m.\u001b[39;49m\u001b[43mweight\u001b[49m\u001b[43m,\u001b[49m\u001b[43m \u001b[49m\u001b[38;5;28;43mself\u001b[39;49m\u001b[38;5;241;43m.\u001b[39;49m\u001b[43mbias\u001b[49m\u001b[43m)\u001b[49m\n",
      "File \u001b[0;32m~/miniconda3/envs/pyt2/lib/python3.8/site-packages/torch/nn/modules/conv.py:442\u001b[0m, in \u001b[0;36mConv2d._conv_forward\u001b[0;34m(self, input, weight, bias)\u001b[0m\n\u001b[1;32m    438\u001b[0m \u001b[38;5;28;01mif\u001b[39;00m \u001b[38;5;28mself\u001b[39m\u001b[38;5;241m.\u001b[39mpadding_mode \u001b[38;5;241m!=\u001b[39m \u001b[38;5;124m'\u001b[39m\u001b[38;5;124mzeros\u001b[39m\u001b[38;5;124m'\u001b[39m:\n\u001b[1;32m    439\u001b[0m     \u001b[38;5;28;01mreturn\u001b[39;00m F\u001b[38;5;241m.\u001b[39mconv2d(F\u001b[38;5;241m.\u001b[39mpad(\u001b[38;5;28minput\u001b[39m, \u001b[38;5;28mself\u001b[39m\u001b[38;5;241m.\u001b[39m_reversed_padding_repeated_twice, mode\u001b[38;5;241m=\u001b[39m\u001b[38;5;28mself\u001b[39m\u001b[38;5;241m.\u001b[39mpadding_mode),\n\u001b[1;32m    440\u001b[0m                     weight, bias, \u001b[38;5;28mself\u001b[39m\u001b[38;5;241m.\u001b[39mstride,\n\u001b[1;32m    441\u001b[0m                     _pair(\u001b[38;5;241m0\u001b[39m), \u001b[38;5;28mself\u001b[39m\u001b[38;5;241m.\u001b[39mdilation, \u001b[38;5;28mself\u001b[39m\u001b[38;5;241m.\u001b[39mgroups)\n\u001b[0;32m--> 442\u001b[0m \u001b[38;5;28;01mreturn\u001b[39;00m \u001b[43mF\u001b[49m\u001b[38;5;241;43m.\u001b[39;49m\u001b[43mconv2d\u001b[49m\u001b[43m(\u001b[49m\u001b[38;5;28;43minput\u001b[39;49m\u001b[43m,\u001b[49m\u001b[43m \u001b[49m\u001b[43mweight\u001b[49m\u001b[43m,\u001b[49m\u001b[43m \u001b[49m\u001b[43mbias\u001b[49m\u001b[43m,\u001b[49m\u001b[43m \u001b[49m\u001b[38;5;28;43mself\u001b[39;49m\u001b[38;5;241;43m.\u001b[39;49m\u001b[43mstride\u001b[49m\u001b[43m,\u001b[49m\n\u001b[1;32m    443\u001b[0m \u001b[43m                \u001b[49m\u001b[38;5;28;43mself\u001b[39;49m\u001b[38;5;241;43m.\u001b[39;49m\u001b[43mpadding\u001b[49m\u001b[43m,\u001b[49m\u001b[43m \u001b[49m\u001b[38;5;28;43mself\u001b[39;49m\u001b[38;5;241;43m.\u001b[39;49m\u001b[43mdilation\u001b[49m\u001b[43m,\u001b[49m\u001b[43m \u001b[49m\u001b[38;5;28;43mself\u001b[39;49m\u001b[38;5;241;43m.\u001b[39;49m\u001b[43mgroups\u001b[49m\u001b[43m)\u001b[49m\n",
      "\u001b[0;31mRuntimeError\u001b[0m: Expected 4-dimensional input for 4-dimensional weight [6, 1, 5, 5], but got 3-dimensional input of size [1, 28, 28] instead"
     ]
    }
   ],
   "source": [
    "image.squeeze(dim = 0).shape\n",
    "sequential2(image.squeeze(dim = 0))"
   ]
  },
  {
   "cell_type": "code",
   "execution_count": null,
   "id": "24ab536e",
   "metadata": {},
   "outputs": [],
   "source": [
    "# ------------------39----------------------------------------------"
   ]
  },
  {
   "cell_type": "code",
   "execution_count": null,
   "id": "84d53d06",
   "metadata": {},
   "outputs": [],
   "source": [
    "import torch"
   ]
  },
  {
   "cell_type": "code",
   "execution_count": 131,
   "id": "1fb38ddd",
   "metadata": {},
   "outputs": [],
   "source": [
    "network1 = nn.Sequential(\n",
    "            nn.Conv2d(in_channels = 1, out_channels = 6, kernel_size = 5),\n",
    "            nn.ReLU(),\n",
    "            nn.MaxPool2d(kernel_size = 2, stride = 2),\n",
    "            nn.Conv2d(in_channels = 6, out_channels = 12, kernel_size = 5),\n",
    "            nn.ReLU(),\n",
    "            nn.MaxPool2d(kernel_size = 2, stride = 2),\n",
    "            nn.Flatten(start_dim = 1),\n",
    "            nn.Linear(in_features = 12 * 4 * 4, out_features = 120),\n",
    "            nn.ReLU(),\n",
    "            nn.Linear(in_features = 120, out_features = 60),\n",
    "            nn.ReLU(),\n",
    "            nn.Linear(in_features = 60, out_features = 10),\n",
    "            )"
   ]
  },
  {
   "cell_type": "code",
   "execution_count": 132,
   "id": "930f01e1",
   "metadata": {},
   "outputs": [],
   "source": [
    "network2 = nn.Sequential(\n",
    "            nn.Conv2d(in_channels = 1, out_channels = 6, kernel_size = 5),\n",
    "            nn.ReLU(),\n",
    "            nn.MaxPool2d(kernel_size = 2, stride = 2),\n",
    "            nn.BatchNorm2d(6),\n",
    "            nn.Conv2d(in_channels = 6, out_channels = 12, kernel_size = 5),\n",
    "            nn.ReLU(),\n",
    "            nn.MaxPool2d(kernel_size = 2, stride = 2),\n",
    "            nn.Flatten(start_dim = 1),\n",
    "            nn.Linear(in_features = 12 * 4 * 4, out_features = 120),\n",
    "            nn.ReLU(),\n",
    "            nn.BatchNorm1d(120),\n",
    "            nn.Linear(in_features = 120, out_features = 60),\n",
    "            nn.ReLU(),\n",
    "            nn.Linear(in_features = 60, out_features = 10),\n",
    "            )"
   ]
  },
  {
   "cell_type": "code",
   "execution_count": 133,
   "id": "905e2467",
   "metadata": {},
   "outputs": [],
   "source": [
    "networks = {\n",
    "            'network1' : network1, \n",
    "            'network2' : network2\n",
    "           }"
   ]
  },
  {
   "cell_type": "code",
   "execution_count": 143,
   "id": "b8817046",
   "metadata": {},
   "outputs": [
    {
     "data": {
      "text/html": [
       "<div>\n",
       "<style scoped>\n",
       "    .dataframe tbody tr th:only-of-type {\n",
       "        vertical-align: middle;\n",
       "    }\n",
       "\n",
       "    .dataframe tbody tr th {\n",
       "        vertical-align: top;\n",
       "    }\n",
       "\n",
       "    .dataframe thead th {\n",
       "        text-align: right;\n",
       "    }\n",
       "</style>\n",
       "<table border=\"1\" class=\"dataframe\">\n",
       "  <thead>\n",
       "    <tr style=\"text-align: right;\">\n",
       "      <th></th>\n",
       "      <th>run</th>\n",
       "      <th>epoch</th>\n",
       "      <th>loss</th>\n",
       "      <th>accuracy</th>\n",
       "      <th>epoch_duration</th>\n",
       "      <th>run_duration</th>\n",
       "      <th>lr</th>\n",
       "      <th>batch_size</th>\n",
       "      <th>num_workers</th>\n",
       "      <th>device</th>\n",
       "      <th>trainset</th>\n",
       "      <th>network</th>\n",
       "    </tr>\n",
       "  </thead>\n",
       "  <tbody>\n",
       "    <tr>\n",
       "      <th>0</th>\n",
       "      <td>1</td>\n",
       "      <td>1</td>\n",
       "      <td>0.913120</td>\n",
       "      <td>0.649133</td>\n",
       "      <td>3.797528</td>\n",
       "      <td>4.792973</td>\n",
       "      <td>0.01</td>\n",
       "      <td>1000</td>\n",
       "      <td>0</td>\n",
       "      <td>cuda</td>\n",
       "      <td>not_normal</td>\n",
       "      <td>network1</td>\n",
       "    </tr>\n",
       "    <tr>\n",
       "      <th>1</th>\n",
       "      <td>2</td>\n",
       "      <td>1</td>\n",
       "      <td>0.600790</td>\n",
       "      <td>0.777300</td>\n",
       "      <td>4.119964</td>\n",
       "      <td>4.522938</td>\n",
       "      <td>0.01</td>\n",
       "      <td>1000</td>\n",
       "      <td>0</td>\n",
       "      <td>cuda</td>\n",
       "      <td>not_normal</td>\n",
       "      <td>network2</td>\n",
       "    </tr>\n",
       "    <tr>\n",
       "      <th>2</th>\n",
       "      <td>3</td>\n",
       "      <td>1</td>\n",
       "      <td>0.898910</td>\n",
       "      <td>0.742017</td>\n",
       "      <td>6.747653</td>\n",
       "      <td>7.219162</td>\n",
       "      <td>0.01</td>\n",
       "      <td>1000</td>\n",
       "      <td>0</td>\n",
       "      <td>cuda</td>\n",
       "      <td>normal</td>\n",
       "      <td>network1</td>\n",
       "    </tr>\n",
       "    <tr>\n",
       "      <th>3</th>\n",
       "      <td>4</td>\n",
       "      <td>1</td>\n",
       "      <td>0.414214</td>\n",
       "      <td>0.848100</td>\n",
       "      <td>6.721607</td>\n",
       "      <td>7.205112</td>\n",
       "      <td>0.01</td>\n",
       "      <td>1000</td>\n",
       "      <td>0</td>\n",
       "      <td>cuda</td>\n",
       "      <td>normal</td>\n",
       "      <td>network2</td>\n",
       "    </tr>\n",
       "    <tr>\n",
       "      <th>4</th>\n",
       "      <td>5</td>\n",
       "      <td>1</td>\n",
       "      <td>0.552599</td>\n",
       "      <td>0.794100</td>\n",
       "      <td>6.476523</td>\n",
       "      <td>6.956346</td>\n",
       "      <td>0.01</td>\n",
       "      <td>1000</td>\n",
       "      <td>0</td>\n",
       "      <td>cpu</td>\n",
       "      <td>not_normal</td>\n",
       "      <td>network1</td>\n",
       "    </tr>\n",
       "    <tr>\n",
       "      <th>5</th>\n",
       "      <td>6</td>\n",
       "      <td>1</td>\n",
       "      <td>0.369000</td>\n",
       "      <td>0.864683</td>\n",
       "      <td>7.365287</td>\n",
       "      <td>7.862058</td>\n",
       "      <td>0.01</td>\n",
       "      <td>1000</td>\n",
       "      <td>0</td>\n",
       "      <td>cpu</td>\n",
       "      <td>not_normal</td>\n",
       "      <td>network2</td>\n",
       "    </tr>\n",
       "    <tr>\n",
       "      <th>6</th>\n",
       "      <td>7</td>\n",
       "      <td>1</td>\n",
       "      <td>0.577676</td>\n",
       "      <td>0.809883</td>\n",
       "      <td>8.984805</td>\n",
       "      <td>9.516355</td>\n",
       "      <td>0.01</td>\n",
       "      <td>1000</td>\n",
       "      <td>0</td>\n",
       "      <td>cpu</td>\n",
       "      <td>normal</td>\n",
       "      <td>network1</td>\n",
       "    </tr>\n",
       "    <tr>\n",
       "      <th>7</th>\n",
       "      <td>8</td>\n",
       "      <td>1</td>\n",
       "      <td>0.326112</td>\n",
       "      <td>0.879983</td>\n",
       "      <td>9.009197</td>\n",
       "      <td>9.568009</td>\n",
       "      <td>0.01</td>\n",
       "      <td>1000</td>\n",
       "      <td>0</td>\n",
       "      <td>cpu</td>\n",
       "      <td>normal</td>\n",
       "      <td>network2</td>\n",
       "    </tr>\n",
       "  </tbody>\n",
       "</table>\n",
       "</div>"
      ],
      "text/plain": [
       "   run  epoch      loss  accuracy  epoch_duration  run_duration    lr  \\\n",
       "0    1      1  0.913120  0.649133        3.797528      4.792973  0.01   \n",
       "1    2      1  0.600790  0.777300        4.119964      4.522938  0.01   \n",
       "2    3      1  0.898910  0.742017        6.747653      7.219162  0.01   \n",
       "3    4      1  0.414214  0.848100        6.721607      7.205112  0.01   \n",
       "4    5      1  0.552599  0.794100        6.476523      6.956346  0.01   \n",
       "5    6      1  0.369000  0.864683        7.365287      7.862058  0.01   \n",
       "6    7      1  0.577676  0.809883        8.984805      9.516355  0.01   \n",
       "7    8      1  0.326112  0.879983        9.009197      9.568009  0.01   \n",
       "\n",
       "   batch_size  num_workers device    trainset   network  \n",
       "0        1000            0   cuda  not_normal  network1  \n",
       "1        1000            0   cuda  not_normal  network2  \n",
       "2        1000            0   cuda      normal  network1  \n",
       "3        1000            0   cuda      normal  network2  \n",
       "4        1000            0    cpu  not_normal  network1  \n",
       "5        1000            0    cpu  not_normal  network2  \n",
       "6        1000            0    cpu      normal  network1  \n",
       "7        1000            0    cpu      normal  network2  "
      ]
     },
     "metadata": {},
     "output_type": "display_data"
    }
   ],
   "source": [
    "params = OrderedDict(lr = [.01], batch_size = [1000], num_workers = [0], device = ['cuda', 'cpu'], trainset = ['not_normal', 'normal'], network = list(networks.keys()))\n",
    "\n",
    "m = RunManager()\n",
    "\n",
    "for run in RunBuilder.get_runs(params):\n",
    "    \n",
    "    device    = torch.device(run.device)\n",
    "    network   = networks[run.network].to(device)\n",
    "    loader    = torch.utils.data.DataLoader(trainsets[run.trainset], batch_size = run.batch_size, num_workers = run.num_workers)\n",
    "    optimizer = optim.Adam(network.parameters(), lr = run.lr)\n",
    "    \n",
    "    m.begin_run(run, network, loader)\n",
    "    for epoch in range(1):\n",
    "        m.begin_epoch()\n",
    "        \n",
    "        for batch in loader:\n",
    "            \n",
    "            images = batch[0].to(device)\n",
    "            labels = batch[1].to(device)\n",
    "            \n",
    "            preds  = network(images)\n",
    "            loss   = F.cross_entropy(preds, labels)\n",
    "            optimizer.zero_grad()\n",
    "            loss.backward()\n",
    "            optimizer.step()\n",
    "            \n",
    "            m.track_loss(loss)\n",
    "            m.track_num_correct(preds, labels)\n",
    "        m.end_epoch()\n",
    "    m.end_run()\n",
    "    \n",
    "m.save('results_workers_test')"
   ]
  },
  {
   "cell_type": "code",
   "execution_count": 144,
   "id": "7d9bbfa1",
   "metadata": {},
   "outputs": [
    {
     "data": {
      "text/html": [
       "<div>\n",
       "<style scoped>\n",
       "    .dataframe tbody tr th:only-of-type {\n",
       "        vertical-align: middle;\n",
       "    }\n",
       "\n",
       "    .dataframe tbody tr th {\n",
       "        vertical-align: top;\n",
       "    }\n",
       "\n",
       "    .dataframe thead th {\n",
       "        text-align: right;\n",
       "    }\n",
       "</style>\n",
       "<table border=\"1\" class=\"dataframe\">\n",
       "  <thead>\n",
       "    <tr style=\"text-align: right;\">\n",
       "      <th></th>\n",
       "      <th>run</th>\n",
       "      <th>epoch</th>\n",
       "      <th>loss</th>\n",
       "      <th>accuracy</th>\n",
       "      <th>epoch_duration</th>\n",
       "      <th>run_duration</th>\n",
       "      <th>lr</th>\n",
       "      <th>batch_size</th>\n",
       "      <th>num_workers</th>\n",
       "      <th>device</th>\n",
       "      <th>trainset</th>\n",
       "      <th>network</th>\n",
       "    </tr>\n",
       "  </thead>\n",
       "  <tbody>\n",
       "    <tr>\n",
       "      <th>7</th>\n",
       "      <td>8</td>\n",
       "      <td>1</td>\n",
       "      <td>0.326112</td>\n",
       "      <td>0.879983</td>\n",
       "      <td>9.009197</td>\n",
       "      <td>9.568009</td>\n",
       "      <td>0.01</td>\n",
       "      <td>1000</td>\n",
       "      <td>0</td>\n",
       "      <td>cpu</td>\n",
       "      <td>normal</td>\n",
       "      <td>network2</td>\n",
       "    </tr>\n",
       "    <tr>\n",
       "      <th>5</th>\n",
       "      <td>6</td>\n",
       "      <td>1</td>\n",
       "      <td>0.369000</td>\n",
       "      <td>0.864683</td>\n",
       "      <td>7.365287</td>\n",
       "      <td>7.862058</td>\n",
       "      <td>0.01</td>\n",
       "      <td>1000</td>\n",
       "      <td>0</td>\n",
       "      <td>cpu</td>\n",
       "      <td>not_normal</td>\n",
       "      <td>network2</td>\n",
       "    </tr>\n",
       "    <tr>\n",
       "      <th>3</th>\n",
       "      <td>4</td>\n",
       "      <td>1</td>\n",
       "      <td>0.414214</td>\n",
       "      <td>0.848100</td>\n",
       "      <td>6.721607</td>\n",
       "      <td>7.205112</td>\n",
       "      <td>0.01</td>\n",
       "      <td>1000</td>\n",
       "      <td>0</td>\n",
       "      <td>cuda</td>\n",
       "      <td>normal</td>\n",
       "      <td>network2</td>\n",
       "    </tr>\n",
       "    <tr>\n",
       "      <th>6</th>\n",
       "      <td>7</td>\n",
       "      <td>1</td>\n",
       "      <td>0.577676</td>\n",
       "      <td>0.809883</td>\n",
       "      <td>8.984805</td>\n",
       "      <td>9.516355</td>\n",
       "      <td>0.01</td>\n",
       "      <td>1000</td>\n",
       "      <td>0</td>\n",
       "      <td>cpu</td>\n",
       "      <td>normal</td>\n",
       "      <td>network1</td>\n",
       "    </tr>\n",
       "    <tr>\n",
       "      <th>4</th>\n",
       "      <td>5</td>\n",
       "      <td>1</td>\n",
       "      <td>0.552599</td>\n",
       "      <td>0.794100</td>\n",
       "      <td>6.476523</td>\n",
       "      <td>6.956346</td>\n",
       "      <td>0.01</td>\n",
       "      <td>1000</td>\n",
       "      <td>0</td>\n",
       "      <td>cpu</td>\n",
       "      <td>not_normal</td>\n",
       "      <td>network1</td>\n",
       "    </tr>\n",
       "    <tr>\n",
       "      <th>1</th>\n",
       "      <td>2</td>\n",
       "      <td>1</td>\n",
       "      <td>0.600790</td>\n",
       "      <td>0.777300</td>\n",
       "      <td>4.119964</td>\n",
       "      <td>4.522938</td>\n",
       "      <td>0.01</td>\n",
       "      <td>1000</td>\n",
       "      <td>0</td>\n",
       "      <td>cuda</td>\n",
       "      <td>not_normal</td>\n",
       "      <td>network2</td>\n",
       "    </tr>\n",
       "    <tr>\n",
       "      <th>2</th>\n",
       "      <td>3</td>\n",
       "      <td>1</td>\n",
       "      <td>0.898910</td>\n",
       "      <td>0.742017</td>\n",
       "      <td>6.747653</td>\n",
       "      <td>7.219162</td>\n",
       "      <td>0.01</td>\n",
       "      <td>1000</td>\n",
       "      <td>0</td>\n",
       "      <td>cuda</td>\n",
       "      <td>normal</td>\n",
       "      <td>network1</td>\n",
       "    </tr>\n",
       "    <tr>\n",
       "      <th>0</th>\n",
       "      <td>1</td>\n",
       "      <td>1</td>\n",
       "      <td>0.913120</td>\n",
       "      <td>0.649133</td>\n",
       "      <td>3.797528</td>\n",
       "      <td>4.792973</td>\n",
       "      <td>0.01</td>\n",
       "      <td>1000</td>\n",
       "      <td>0</td>\n",
       "      <td>cuda</td>\n",
       "      <td>not_normal</td>\n",
       "      <td>network1</td>\n",
       "    </tr>\n",
       "  </tbody>\n",
       "</table>\n",
       "</div>"
      ],
      "text/plain": [
       "   run  epoch      loss  accuracy  epoch_duration  run_duration    lr  \\\n",
       "7    8      1  0.326112  0.879983        9.009197      9.568009  0.01   \n",
       "5    6      1  0.369000  0.864683        7.365287      7.862058  0.01   \n",
       "3    4      1  0.414214  0.848100        6.721607      7.205112  0.01   \n",
       "6    7      1  0.577676  0.809883        8.984805      9.516355  0.01   \n",
       "4    5      1  0.552599  0.794100        6.476523      6.956346  0.01   \n",
       "1    2      1  0.600790  0.777300        4.119964      4.522938  0.01   \n",
       "2    3      1  0.898910  0.742017        6.747653      7.219162  0.01   \n",
       "0    1      1  0.913120  0.649133        3.797528      4.792973  0.01   \n",
       "\n",
       "   batch_size  num_workers device    trainset   network  \n",
       "7        1000            0    cpu      normal  network2  \n",
       "5        1000            0    cpu  not_normal  network2  \n",
       "3        1000            0   cuda      normal  network2  \n",
       "6        1000            0    cpu      normal  network1  \n",
       "4        1000            0    cpu  not_normal  network1  \n",
       "1        1000            0   cuda  not_normal  network2  \n",
       "2        1000            0   cuda      normal  network1  \n",
       "0        1000            0   cuda  not_normal  network1  "
      ]
     },
     "execution_count": 144,
     "metadata": {},
     "output_type": "execute_result"
    }
   ],
   "source": [
    "pd.DataFrame.from_dict(m.run_data).sort_values('accuracy', ascending = False)"
   ]
  },
  {
   "cell_type": "code",
   "execution_count": 145,
   "id": "385a6b94",
   "metadata": {},
   "outputs": [],
   "source": [
    "# ------------------40--------------------------------"
   ]
  },
  {
   "cell_type": "code",
   "execution_count": 134,
   "id": "4f9b3c4e",
   "metadata": {},
   "outputs": [],
   "source": [
    "import torch"
   ]
  },
  {
   "cell_type": "code",
   "execution_count": 137,
   "id": "4a08c91f",
   "metadata": {},
   "outputs": [],
   "source": [
    "torch.manual_seed(50)\n",
    "layer = nn.Linear(2, 1)"
   ]
  },
  {
   "cell_type": "code",
   "execution_count": 138,
   "id": "5369a474",
   "metadata": {},
   "outputs": [
    {
     "data": {
      "text/plain": [
       "Parameter containing:\n",
       "tensor([[ 0.1669, -0.6100]], requires_grad=True)"
      ]
     },
     "execution_count": 138,
     "metadata": {},
     "output_type": "execute_result"
    }
   ],
   "source": [
    "layer.weight"
   ]
  },
  {
   "cell_type": "code",
   "execution_count": 139,
   "id": "c59f7eea",
   "metadata": {},
   "outputs": [],
   "source": [
    "t = torch.rand(2)\n",
    "o = layer(t)\n",
    "o.backward()"
   ]
  },
  {
   "cell_type": "code",
   "execution_count": 140,
   "id": "24109279",
   "metadata": {},
   "outputs": [],
   "source": [
    "optimizer = optim.Adam(layer.parameters(), lr = .01)\n",
    "optimizer.step()"
   ]
  },
  {
   "cell_type": "code",
   "execution_count": 141,
   "id": "fcfa6822",
   "metadata": {},
   "outputs": [
    {
     "data": {
      "text/plain": [
       "Parameter containing:\n",
       "tensor([[ 0.1569, -0.6200]], requires_grad=True)"
      ]
     },
     "execution_count": 141,
     "metadata": {},
     "output_type": "execute_result"
    }
   ],
   "source": [
    "layer.weight"
   ]
  },
  {
   "cell_type": "code",
   "execution_count": 142,
   "id": "3ebcce14",
   "metadata": {},
   "outputs": [],
   "source": [
    "torch.manual_seed(50)\n",
    "layer.reset_parameters()"
   ]
  },
  {
   "cell_type": "code",
   "execution_count": 143,
   "id": "38a4f76c",
   "metadata": {},
   "outputs": [
    {
     "data": {
      "text/plain": [
       "Parameter containing:\n",
       "tensor([[ 0.1669, -0.6100]], requires_grad=True)"
      ]
     },
     "execution_count": 143,
     "metadata": {},
     "output_type": "execute_result"
    }
   ],
   "source": [
    "layer.weight"
   ]
  },
  {
   "cell_type": "code",
   "execution_count": 144,
   "id": "0664267b",
   "metadata": {},
   "outputs": [
    {
     "data": {
      "text/plain": [
       "Linear(in_features=2, out_features=1, bias=True)"
      ]
     },
     "execution_count": 144,
     "metadata": {},
     "output_type": "execute_result"
    }
   ],
   "source": [
    "torch.manual_seed(50)\n",
    "network = nn.Sequential(nn.Linear(2, 1))\n",
    "network[0]"
   ]
  },
  {
   "cell_type": "code",
   "execution_count": 145,
   "id": "8868edb3",
   "metadata": {},
   "outputs": [
    {
     "data": {
      "text/plain": [
       "Parameter containing:\n",
       "tensor([[ 0.1669, -0.6100]], requires_grad=True)"
      ]
     },
     "execution_count": 145,
     "metadata": {},
     "output_type": "execute_result"
    }
   ],
   "source": [
    "network[0].weight"
   ]
  },
  {
   "cell_type": "code",
   "execution_count": 148,
   "id": "fcbfa7e6",
   "metadata": {},
   "outputs": [],
   "source": [
    "t = torch.rand(2)\n",
    "o = network(t)\n",
    "o.backward()\n",
    "\n",
    "optimizer = optim.Adam(network.parameters(), lr = .01)\n",
    "optimizer.step()"
   ]
  },
  {
   "cell_type": "code",
   "execution_count": 149,
   "id": "43044036",
   "metadata": {},
   "outputs": [
    {
     "data": {
      "text/plain": [
       "Parameter containing:\n",
       "tensor([[ 0.1569, -0.6200]], requires_grad=True)"
      ]
     },
     "execution_count": 149,
     "metadata": {},
     "output_type": "execute_result"
    }
   ],
   "source": [
    "network[0].weight"
   ]
  },
  {
   "cell_type": "code",
   "execution_count": 151,
   "id": "8a5deb08",
   "metadata": {},
   "outputs": [],
   "source": [
    "torch.manual_seed(50)\n",
    "network[0].reset_parameters()"
   ]
  },
  {
   "cell_type": "code",
   "execution_count": 152,
   "id": "01a2d9e8",
   "metadata": {},
   "outputs": [
    {
     "data": {
      "text/plain": [
       "Parameter containing:\n",
       "tensor([[ 0.1669, -0.6100]], requires_grad=True)"
      ]
     },
     "execution_count": 152,
     "metadata": {},
     "output_type": "execute_result"
    }
   ],
   "source": [
    "network[0].weight"
   ]
  },
  {
   "cell_type": "code",
   "execution_count": 153,
   "id": "f436584a",
   "metadata": {},
   "outputs": [
    {
     "data": {
      "text/plain": [
       "Linear(in_features=2, out_features=1, bias=True)"
      ]
     },
     "execution_count": 153,
     "metadata": {},
     "output_type": "execute_result"
    }
   ],
   "source": [
    "network = nn.Sequential(nn.Linear(2, 1))\n",
    "network[0]"
   ]
  },
  {
   "cell_type": "code",
   "execution_count": 154,
   "id": "54aa1591",
   "metadata": {},
   "outputs": [
    {
     "data": {
      "text/plain": [
       "Parameter containing:\n",
       "tensor([[-0.6500, -0.1395]], requires_grad=True)"
      ]
     },
     "execution_count": 154,
     "metadata": {},
     "output_type": "execute_result"
    }
   ],
   "source": [
    "network[0].weight"
   ]
  },
  {
   "cell_type": "code",
   "execution_count": 155,
   "id": "4d1ed791",
   "metadata": {},
   "outputs": [],
   "source": [
    "torch.manual_seed(50)\n",
    "for module in network.children():\n",
    "    module.reset_parameters()"
   ]
  },
  {
   "cell_type": "code",
   "execution_count": 156,
   "id": "eae9cab1",
   "metadata": {},
   "outputs": [
    {
     "data": {
      "text/plain": [
       "Parameter containing:\n",
       "tensor([[ 0.1669, -0.6100]], requires_grad=True)"
      ]
     },
     "execution_count": 156,
     "metadata": {},
     "output_type": "execute_result"
    }
   ],
   "source": [
    "network[0].weight"
   ]
  },
  {
   "cell_type": "code",
   "execution_count": 157,
   "id": "98866a67",
   "metadata": {},
   "outputs": [],
   "source": [
    "torch.manual_seed(50)\n",
    "network = nn.Sequential(nn.Linear(2, 1))"
   ]
  },
  {
   "cell_type": "code",
   "execution_count": 158,
   "id": "90ef67b3",
   "metadata": {},
   "outputs": [
    {
     "data": {
      "text/plain": [
       "Parameter containing:\n",
       "tensor([[ 0.1669, -0.6100]], requires_grad=True)"
      ]
     },
     "execution_count": 158,
     "metadata": {},
     "output_type": "execute_result"
    }
   ],
   "source": [
    "network[0].weight"
   ]
  },
  {
   "cell_type": "code",
   "execution_count": 159,
   "id": "2065de8c",
   "metadata": {},
   "outputs": [],
   "source": [
    "torch.save(network.state_dict(), \"./network.pt\")"
   ]
  },
  {
   "cell_type": "code",
   "execution_count": 160,
   "id": "ccda6f36",
   "metadata": {},
   "outputs": [],
   "source": [
    "t = torch.rand(2)\n",
    "o = network(t)\n",
    "o.backward()\n",
    "\n",
    "optimizer = torch.optim.Adam(network.parameters(), lr = .01)\n",
    "optimizer.step()"
   ]
  },
  {
   "cell_type": "code",
   "execution_count": 161,
   "id": "2f70a834",
   "metadata": {},
   "outputs": [
    {
     "data": {
      "text/plain": [
       "Parameter containing:\n",
       "tensor([[ 0.1569, -0.6200]], requires_grad=True)"
      ]
     },
     "execution_count": 161,
     "metadata": {},
     "output_type": "execute_result"
    }
   ],
   "source": [
    "network[0].weight"
   ]
  },
  {
   "cell_type": "code",
   "execution_count": 162,
   "id": "0cb6d058",
   "metadata": {},
   "outputs": [
    {
     "data": {
      "text/plain": [
       "<All keys matched successfully>"
      ]
     },
     "execution_count": 162,
     "metadata": {},
     "output_type": "execute_result"
    }
   ],
   "source": [
    "network.load_state_dict(torch.load(\"./network.pt\"))"
   ]
  },
  {
   "cell_type": "code",
   "execution_count": 163,
   "id": "e5ab456d",
   "metadata": {},
   "outputs": [
    {
     "data": {
      "text/plain": [
       "Parameter containing:\n",
       "tensor([[ 0.1669, -0.6100]], requires_grad=True)"
      ]
     },
     "execution_count": 163,
     "metadata": {},
     "output_type": "execute_result"
    }
   ],
   "source": [
    "network[0].weight"
   ]
  },
  {
   "cell_type": "code",
   "execution_count": 164,
   "id": "b6ab6da1",
   "metadata": {},
   "outputs": [],
   "source": [
    "# ------------------- 41 ----------------------------------"
   ]
  },
  {
   "cell_type": "code",
   "execution_count": 166,
   "id": "e20baa4e",
   "metadata": {},
   "outputs": [],
   "source": [
    "class Network_Factory():\n",
    "    @staticmethod\n",
    "    def get_network(name):\n",
    "        if(name == \"network\"):\n",
    "            torch.manual_seed(50)\n",
    "            return nn.Sequential(\n",
    "            nn.Conv2d(in_channels = 1, out_channels = 6, kernel_size = 5),\n",
    "            nn.ReLU(),\n",
    "            nn.MaxPool2d(kernel_size = 2, stride = 2),\n",
    "            nn.BatchNorm2d(6),\n",
    "            nn.Conv2d(in_channels = 6, out_channels = 12, kernel_size = 5),\n",
    "            nn.ReLU(),\n",
    "            nn.MaxPool2d(kernel_size = 2, stride = 2),\n",
    "            nn.Flatten(start_dim = 1),\n",
    "            nn.Linear(in_features = 12 * 4 * 4, out_features = 120),\n",
    "            nn.ReLU(),\n",
    "            nn.BatchNorm1d(120),\n",
    "            nn.Linear(in_features = 120, out_features = 60),\n",
    "            nn.ReLU(),\n",
    "            nn.Linear(in_features = 60, out_features = 10),\n",
    "            )\n",
    "        else:\n",
    "            return None\n",
    "            "
   ]
  },
  {
   "cell_type": "code",
   "execution_count": 167,
   "id": "d14e7eb9",
   "metadata": {},
   "outputs": [
    {
     "data": {
      "text/html": [
       "<div>\n",
       "<style scoped>\n",
       "    .dataframe tbody tr th:only-of-type {\n",
       "        vertical-align: middle;\n",
       "    }\n",
       "\n",
       "    .dataframe tbody tr th {\n",
       "        vertical-align: top;\n",
       "    }\n",
       "\n",
       "    .dataframe thead th {\n",
       "        text-align: right;\n",
       "    }\n",
       "</style>\n",
       "<table border=\"1\" class=\"dataframe\">\n",
       "  <thead>\n",
       "    <tr style=\"text-align: right;\">\n",
       "      <th></th>\n",
       "      <th>run</th>\n",
       "      <th>epoch</th>\n",
       "      <th>loss</th>\n",
       "      <th>accuracy</th>\n",
       "      <th>epoch_duration</th>\n",
       "      <th>run_duration</th>\n",
       "      <th>lr</th>\n",
       "      <th>batch_size</th>\n",
       "      <th>num_workers</th>\n",
       "      <th>device</th>\n",
       "      <th>trainset</th>\n",
       "      <th>network</th>\n",
       "    </tr>\n",
       "  </thead>\n",
       "  <tbody>\n",
       "    <tr>\n",
       "      <th>0</th>\n",
       "      <td>1</td>\n",
       "      <td>1</td>\n",
       "      <td>0.573378</td>\n",
       "      <td>0.792150</td>\n",
       "      <td>4.168757</td>\n",
       "      <td>5.184289</td>\n",
       "      <td>0.010</td>\n",
       "      <td>1000</td>\n",
       "      <td>0</td>\n",
       "      <td>cuda</td>\n",
       "      <td>not_normal</td>\n",
       "      <td>network</td>\n",
       "    </tr>\n",
       "    <tr>\n",
       "      <th>1</th>\n",
       "      <td>2</td>\n",
       "      <td>1</td>\n",
       "      <td>0.583073</td>\n",
       "      <td>0.787417</td>\n",
       "      <td>6.620680</td>\n",
       "      <td>7.140780</td>\n",
       "      <td>0.010</td>\n",
       "      <td>1000</td>\n",
       "      <td>0</td>\n",
       "      <td>cuda</td>\n",
       "      <td>normal</td>\n",
       "      <td>network</td>\n",
       "    </tr>\n",
       "    <tr>\n",
       "      <th>2</th>\n",
       "      <td>3</td>\n",
       "      <td>1</td>\n",
       "      <td>1.001821</td>\n",
       "      <td>0.707317</td>\n",
       "      <td>4.187800</td>\n",
       "      <td>4.663113</td>\n",
       "      <td>0.001</td>\n",
       "      <td>1000</td>\n",
       "      <td>0</td>\n",
       "      <td>cuda</td>\n",
       "      <td>not_normal</td>\n",
       "      <td>network</td>\n",
       "    </tr>\n",
       "    <tr>\n",
       "      <th>3</th>\n",
       "      <td>4</td>\n",
       "      <td>1</td>\n",
       "      <td>1.012651</td>\n",
       "      <td>0.704450</td>\n",
       "      <td>9.932249</td>\n",
       "      <td>10.482758</td>\n",
       "      <td>0.001</td>\n",
       "      <td>1000</td>\n",
       "      <td>0</td>\n",
       "      <td>cuda</td>\n",
       "      <td>normal</td>\n",
       "      <td>network</td>\n",
       "    </tr>\n",
       "  </tbody>\n",
       "</table>\n",
       "</div>"
      ],
      "text/plain": [
       "   run  epoch      loss  accuracy  epoch_duration  run_duration     lr  \\\n",
       "0    1      1  0.573378  0.792150        4.168757      5.184289  0.010   \n",
       "1    2      1  0.583073  0.787417        6.620680      7.140780  0.010   \n",
       "2    3      1  1.001821  0.707317        4.187800      4.663113  0.001   \n",
       "3    4      1  1.012651  0.704450        9.932249     10.482758  0.001   \n",
       "\n",
       "   batch_size  num_workers device    trainset  network  \n",
       "0        1000            0   cuda  not_normal  network  \n",
       "1        1000            0   cuda      normal  network  \n",
       "2        1000            0   cuda  not_normal  network  \n",
       "3        1000            0   cuda      normal  network  "
      ]
     },
     "metadata": {},
     "output_type": "display_data"
    }
   ],
   "source": [
    "params = OrderedDict(lr = [.01, .001], batch_size = [1000], num_workers = [0], device = ['cuda'], trainset = ['not_normal', 'normal'], network = ['network'])\n",
    "\n",
    "m = RunManager()\n",
    "\n",
    "for run in RunBuilder.get_runs(params):\n",
    "    \n",
    "    device    = torch.device(run.device)\n",
    "    network   = Network_Factory.get_network(run.network).to(device)\n",
    "    loader    = torch.utils.data.DataLoader(trainsets[run.trainset], batch_size = run.batch_size, num_workers = run.num_workers)\n",
    "    optimizer = optim.Adam(network.parameters(), lr = run.lr)\n",
    "    \n",
    "    m.begin_run(run, network, loader)\n",
    "    for epoch in range(1):\n",
    "        m.begin_epoch()\n",
    "        \n",
    "        for batch in loader:\n",
    "            \n",
    "            images = batch[0].to(device)\n",
    "            labels = batch[1].to(device)\n",
    "            \n",
    "            preds  = network(images)\n",
    "            loss   = F.cross_entropy(preds, labels)\n",
    "            optimizer.zero_grad()\n",
    "            loss.backward()\n",
    "            optimizer.step()\n",
    "            \n",
    "            m.track_loss(loss)\n",
    "            m.track_num_correct(preds, labels)\n",
    "        m.end_epoch()\n",
    "    m.end_run()\n",
    "    \n",
    "m.save('results_workers_test')"
   ]
  },
  {
   "cell_type": "code",
   "execution_count": null,
   "id": "f563763a",
   "metadata": {},
   "outputs": [],
   "source": []
  }
 ],
 "metadata": {
  "kernelspec": {
   "display_name": "Python 3 (ipykernel)",
   "language": "python",
   "name": "python3"
  },
  "language_info": {
   "codemirror_mode": {
    "name": "ipython",
    "version": 3
   },
   "file_extension": ".py",
   "mimetype": "text/x-python",
   "name": "python",
   "nbconvert_exporter": "python",
   "pygments_lexer": "ipython3",
   "version": "3.8.12"
  }
 },
 "nbformat": 4,
 "nbformat_minor": 5
}
